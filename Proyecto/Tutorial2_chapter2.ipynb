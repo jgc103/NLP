{
 "cells": [
  {
   "metadata": {},
   "cell_type": "markdown",
   "source": "Chapter 2:",
   "id": "ffda64874cf1bc5"
  },
  {
   "cell_type": "code",
   "execution_count": 21,
   "id": "5c52ffe8",
   "metadata": {},
   "outputs": [
    {
     "name": "stdout",
     "output_type": "stream",
     "text": [
      "Corpus succesfuly loaded in: corpus_by_label\n"
     ]
    }
   ],
   "source": [
    "import pandas as pd\n",
    "\n",
    "df = pd.read_csv('Dataset/train.csv')\n",
    "\n",
    "labels = ['toxic', 'severe_toxic', 'obscene', 'threat', 'insult', 'identity_hate']\n",
    "\n",
    "# Nueva celda para guardar comentarios como corpus estructurado\n",
    "\n",
    "import os\n",
    "\n",
    "# Crear un directorio para almacenar el corpus\n",
    "corpus_dir = 'corpus_by_label'\n",
    "os.makedirs(corpus_dir, exist_ok=True)\n",
    "\n",
    "# Guardar los comentarios en archivos separados por etiqueta\n",
    "for label in labels:  # labels = ['toxic', 'severe_toxic', 'obscene', 'threat', 'insult', 'identity_hate']\n",
    "    comments = df[df[label] == 1]['comment_text'].dropna()\n",
    "    file_path = os.path.join(corpus_dir, f\"{label}.txt\")\n",
    "    \n",
    "    # Guardar todos los comentarios de la etiqueta en un solo archivo\n",
    "    with open(file_path, 'w', encoding='utf-8') as f:\n",
    "        for comment in comments:\n",
    "            f.write(comment.replace('\\n', ' ') + '\\n')  # Cada comentario es una línea\n",
    "\n",
    "print(f\"Corpus succesfuly loaded in: {corpus_dir}\")"
   ]
  },
  {
   "cell_type": "code",
   "execution_count": 22,
   "id": "29b238e0",
   "metadata": {},
   "outputs": [
    {
     "name": "stderr",
     "output_type": "stream",
     "text": [
      "[nltk_data] Downloading package punkt to\n",
      "[nltk_data]     C:\\Users\\usuario\\AppData\\Roaming\\nltk_data...\n",
      "[nltk_data]   Package punkt is already up-to-date!\n"
     ]
    }
   ],
   "source": [
    "from nltk.corpus import PlaintextCorpusReader\n",
    "import nltk\n",
    "nltk.download('punkt')\n",
    "\n",
    "# Load corpus\n",
    "corpus = PlaintextCorpusReader(corpus_dir, '.*\\.txt')"
   ]
  },
  {
   "cell_type": "code",
   "execution_count": 23,
   "id": "9802b546",
   "metadata": {},
   "outputs": [
    {
     "name": "stdout",
     "output_type": "stream",
     "text": [
      "List of files in corpus: ['identity_hate.txt', 'insult.txt', 'obscene.txt', 'severe_toxic.txt', 'threat.txt', 'toxic.txt']\n"
     ]
    }
   ],
   "source": [
    "print(f\"List of files in corpus: {corpus.fileids()}\")"
   ]
  },
  {
   "cell_type": "code",
   "execution_count": 24,
   "id": "7d6dd857",
   "metadata": {},
   "outputs": [
    {
     "name": "stdout",
     "output_type": "stream",
     "text": [
      "File: identity_hate.txt - Number of words: 88394\n",
      "File: insult.txt - Number of words: 469413\n",
      "File: obscene.txt - Number of words: 519918\n",
      "File: severe_toxic.txt - Number of words: 149959\n",
      "File: threat.txt - Number of words: 32656\n",
      "File: toxic.txt - Number of words: 964034\n"
     ]
    }
   ],
   "source": [
    "for fileid in corpus.fileids():\n",
    "    file = corpus.words(fileid)\n",
    "    print(f\"File: {fileid} - Number of words: {len(file)}\")"
   ]
  },
  {
   "cell_type": "code",
   "execution_count": 25,
   "id": "2cff12ed",
   "metadata": {},
   "outputs": [
    {
     "name": "stdout",
     "output_type": "stream",
     "text": [
      "5 19 11 identity_hate.txt\n",
      "5 16 22 insult.txt\n",
      "5 16 23 obscene.txt\n",
      "5 14 23 severe_toxic.txt\n",
      "5 12 10 threat.txt\n",
      "5 17 28 toxic.txt\n"
     ]
    }
   ],
   "source": [
    "for fileid in corpus.fileids():\n",
    "    num_chars = len(corpus.raw(fileid)) \n",
    "    num_words = len(corpus.words(fileid))\n",
    "    num_sents = len(corpus.sents(fileid))\n",
    "    num_vocab = len(set(w.lower() for w in corpus.words(fileid)))\n",
    "    print(round(num_chars/num_words), round(num_words/num_sents), round(num_words/num_vocab), fileid)"
   ]
  },
  {
   "cell_type": "code",
   "execution_count": 54,
   "id": "b46af151",
   "metadata": {},
   "outputs": [
    {
     "name": "stdout",
     "output_type": "stream",
     "text": [
      "['COCKSUCKER', 'BEFORE', 'YOU', 'PISS', 'AROUND', 'ON', 'MY', 'WORK', 'Hey', '...', 'what', 'is', 'it', '..', '@', '|', 'talk', '.']\n"
     ]
    }
   ],
   "source": [
    "toxic_sentences = corpus.sents('toxic.txt')\n",
    "toxic_sentences\n",
    "print(toxic_sentences[0])"
   ]
  },
  {
   "cell_type": "code",
   "execution_count": 55,
   "id": "7d05326e",
   "metadata": {},
   "outputs": [
    {
     "name": "stdout",
     "output_type": "stream",
     "text": [
      "[['I', 'hate', 'you', '.', 'I', 'hate', 'you', '.', 'I', 'hate', 'you', '.', 'I', 'hate', 'you', '.', 'I', 'hate', 'you', '.', 'I', 'hate', 'you', '.', 'I', 'hate', 'you', '.', 'I', 'hate', 'you', '.', 'I', 'hate', 'you', '.', 'I', 'hate', 'you', '.', 'I', 'hate', 'you', '.', 'I', 'hate', 'you', '.', 'I', 'hate', 'you', '.', 'I', 'hate', 'you', '.', 'I', 'hate', 'you', '.', 'I', 'hate', 'you', '.', 'I', 'hate', 'you', '.', 'I', 'hate', 'you', '.', 'I', 'hate', 'you', '.', 'I', 'hate', 'you', '.', 'I', 'hate', 'you', '.', 'I', 'hate', 'you', '.', 'I', 'hate', 'you', '.', 'I', 'hate', 'you', '.', 'I', 'hate', 'you', '.', 'I', 'hate', 'you', '.', 'I', 'hate', 'you', '.', 'I', 'hate', 'you', '.', 'I', 'hate', 'you', '.', 'I', 'hate', 'you', '.', 'I', 'hate', 'you', '.', 'I', 'hate', 'you', '.', 'I', 'hate', 'you', '.', 'I', 'hate', 'you', '.', 'I', 'hate', 'you', '.', 'I', 'hate', 'you', '.', 'I', 'hate', 'you', '.', 'I', 'hate', 'you', '.', 'I', 'hate', 'you', '.', 'I', 'hate', 'you', '.', 'I', 'hate', 'you', '.', 'I', 'hate', 'you', '.', 'I', 'hate', 'you', '.', 'I', 'hate', 'you', '.', 'I', 'hate', 'you', '.', 'I', 'hate', 'you', '.', 'I', 'hate', 'you', '.', 'I', 'hate', 'you', '.', 'I', 'hate', 'you', '.', 'I', 'hate', 'you', '.', 'I', 'hate', 'you', '.', 'I', 'hate', 'you', '.', 'I', 'hate', 'you', '.', 'I', 'hate', 'you', '.', 'I', 'hate', 'you', '.', 'I', 'hate', 'you', '.', 'I', 'hate', 'you', '.', 'I', 'hate', 'you', '.', 'I', 'hate', 'you', '.', 'I', 'hate', 'you', '.', 'I', 'hate', 'you', '.', 'I', 'hate', 'you', '.', 'I', 'hate', 'you', '.', 'I', 'hate', 'you', '.', 'I', 'hate', 'you', '.', 'I', 'hate', 'you', '.', 'I', 'hate', 'you', '.', 'I', 'hate', 'you', '.', 'I', 'hate', 'you', '.', 'I', 'hate', 'you', '.', 'I', 'hate', 'you', '.', 'I', 'hate', 'you', '.', 'I', 'hate', 'you', '.', 'I', 'hate', 'you', '.', 'I', 'hate', 'you', '.', 'I', 'hate', 'you', '.', 'I', 'hate', 'you', '.', 'I', 'hate', 'you', '.', 'I', 'hate', 'you', '.', 'I', 'hate', 'you', '.', 'I', 'hate', 'you', '.', 'I', 'hate', 'you', '.', 'I', 'hate', 'you', '.', 'I', 'hate', 'you', '.', 'I', 'hate', 'you', '.', 'I', 'hate', 'you', '.', 'I', 'hate', 'you', '.', 'I', 'hate', 'you', '.', 'I', 'hate', 'you', '.', 'I', 'hate', 'you', '.', 'I', 'hate', 'you', '.', 'I', 'hate', 'you', '.', 'I', 'hate', 'you', '.', 'I', 'hate', 'you', '.', 'I', 'hate', 'you', '.', 'I', 'hate', 'you', '.', 'I', 'hate', 'you', '.', 'I', 'hate', 'you', '.', 'I', 'hate', 'you', '.', 'I', 'hate', 'you', '.', 'I', 'hate', 'you', '.', 'I', 'hate', 'you', '.', 'I', 'hate', 'you', '.', 'I', 'hate', 'you', '.', 'I', 'hate', 'you', '.', 'I', 'hate', 'you', '.', 'I', 'hate', 'you', '.', 'I', 'hate', 'you', '.', 'I', 'hate', 'you', '.', 'I', 'hate', 'you', '.', 'I', 'hate', 'you', '.', 'I', 'hate', 'you', '.', 'I', 'hate', 'you', '.', 'I', 'hate', 'you', '.', 'I', 'hate', 'you', '.', 'I', 'hate', 'you', '.', 'I', 'hate', 'you', '.', 'I', 'hate', 'you', '.', 'I', 'hate', 'you', '.', 'I', 'hate', 'you', '.', 'I', 'hate', 'you', '.', 'I', 'hate', 'you', '.', 'I', 'hate', 'you', '.', 'I', 'hate', 'you', '.', 'I', 'hate', 'you', '.', 'I', 'hate', 'you', '.', 'I', 'hate', 'you', '.', 'I', 'hate', 'you', '.', 'I', 'hate', 'you', '.', 'I', 'hate', 'you', '.', 'I', 'hate', 'you', '.', 'I', 'hate', 'you', '.', 'I', 'hate', 'you', '.', 'I', 'hate', 'you', '.', 'I', 'hate', 'you', '.', 'I', 'hate', 'you', '.', 'I', 'hate', 'you', '.', 'I', 'hate', 'you', '.', 'I', 'hate', 'you', '.', 'I', 'hate', 'you', '.', 'I', 'hate', 'you', '.', 'I', 'hate', 'you', '.', 'I', 'hate', 'you', '.', 'I', 'hate', 'you', '.', 'I', 'hate', 'you', '.', 'I', 'hate', 'you', '.', 'I', 'hate', 'you', '.', 'I', 'hate', 'you', '.', 'I', 'hate', 'you', '.', 'I', 'hate', 'you', '.', 'I', 'hate', 'you', '.', 'I', 'hate', 'you', '.', 'I', 'hate', 'you', '.', 'I', 'hate', 'you', '.', 'I', 'hate', 'you', '.', 'I', 'hate', 'you', '.', 'I', 'hate', 'you', '.', 'I', 'hate', 'you', '.', 'I', 'hate', 'you', '.', 'I', 'hate', 'you', '.', 'I', 'hate', 'you', '.', 'I', 'hate', 'you', '.', 'I', 'hate', 'you', '.', 'I', 'hate', 'you', '.', 'I', 'hate', 'you', '.', 'I', 'hate', 'you', '.', 'I', 'hate', 'you', '.', 'I', 'hate', 'you', '.', 'I', 'hate', 'you', '.', 'I', 'hate', 'you', '.', 'I', 'hate', 'you', '.', 'I', 'hate', 'you', '.', 'I', 'hate', 'you', '.', 'I', 'hate', 'you', '.', 'I', 'hate', 'you', '.', 'I', 'hate', 'you', '.', 'I', 'hate', 'you', '.', 'I', 'hate', 'you', '.', 'I', 'hate', 'you', '.', 'I', 'hate', 'you', '.', 'I', 'hate', 'you', '.', 'I', 'hate', 'you', '.', 'I', 'hate', 'you', '.', 'I', 'hate', 'you', '.', 'I', 'hate', 'you', '.', 'I', 'hate', 'you', '.', 'I', 'hate', 'you', '.', 'I', 'hate', 'you', '.', 'I', 'hate', 'you', '.', 'I', 'hate', 'you', '.', 'I', 'hate', 'you', '.', 'I', 'hate', 'you', '.', 'I', 'hate', 'you', '.', 'I', 'hate', 'you', '.', 'I', 'hate', 'you', '.', 'I', 'hate', 'you', '.', 'I', 'hate', 'you', '.', 'I', 'hate', 'you', '.', 'I', 'hate', 'you', '.', 'I', 'hate', 'you', '.', 'I', 'hate', 'you', '.', 'I', 'hate', 'you', '.', 'I', 'hate', 'you', '.', 'I', 'hate', 'you', '.', 'I', 'hate', 'you', '.', 'I', 'hate', 'you', '.', 'I', 'hate', 'you', '.', 'I', 'hate', 'you', '.', 'I', 'hate', 'you', '.', 'I', 'hate', 'you', '.', 'I', 'hate', 'you', '.', 'I', 'hate', 'you', '.', 'I', 'hate', 'you', '.', 'I', 'hate', 'you', '.', 'I', 'hate', 'you', '.', 'I', 'hate', 'you', '.', 'I', 'hate', 'you', '.', 'I', 'hate', 'you', '.', 'I', 'hate', 'you', '.', 'I', 'hate', 'you', '.', 'I', 'hate', 'you', '.', 'I', 'hate', 'you', '.', 'I', 'hate', 'you', '.', 'I', 'hate', 'you', '.', 'I', 'hate', 'you', '.', 'I', 'hate', 'you', '.', 'I', 'hate', 'you', '.', 'I', 'hate', 'you', '.', 'I', 'hate', 'you', '.', 'I', 'hate', 'you', '.', 'I', 'hate', 'you', '.', 'I', 'hate', 'you', '.', 'I', 'hate', 'you', '.', 'I', 'hate', 'you', '.', 'I', 'hate', 'you', '.', 'I', 'hate', 'you', '.', 'I', 'hate', 'you', '.', 'I', 'hate', 'you', '.', 'I', 'hate', 'you', '.', 'I', 'hate', 'you', '.', 'I', 'hate', 'you', '.', 'I', 'hate', 'you', '.', 'I', 'hate', 'you', '.', 'I', 'hate', 'you', '.', 'I', 'hate', 'you', '.', 'I', 'hate', 'you', '.', 'I', 'hate', 'you', '.', 'I', 'hate', 'you', '.', 'I', 'hate', 'you', '.', 'I', 'hate', 'you', '.', 'I', 'hate', 'you', '.', 'I', 'hate', 'you', '.', 'I', 'hate', 'you', '.', 'I', 'hate', 'you', '.', 'I', 'hate', 'you', '.', 'I', 'hate', 'you', '.', 'I', 'hate', 'you', '.', 'I', 'hate', 'you', '.', 'I', 'hate', 'you', '.', 'I', 'hate', 'you', '.', 'I', 'hate', 'you', '.', 'I', 'hate', 'you', '.', 'I', 'hate', 'you', '.', 'I', 'hate', 'you', '.', 'I', 'hate', 'you', '.', 'I', 'hate', 'you', '.', 'I', 'hate', 'you', '.', 'I', 'hate', 'you', '.', 'I', 'hate', 'you', '.', 'I', 'hate', 'you', '.', 'I', 'hate', 'you', '.', 'I', 'hate', 'you', '.', 'I', 'hate', 'you', '.', 'I', 'hate', 'you', '.', 'I', 'hate', 'you', '.', 'I', 'hate', 'you', '.', 'I', 'hate', 'you', '.', 'I', 'hate', 'you', '.', 'I', 'hate', 'you', '.', 'I', 'hate', 'you', '.', 'I', 'hate', 'you', '.', 'I', 'hate', 'you', '.', 'I', 'hate', 'you', '.', 'I', 'hate', 'you', '.', 'I', 'hate', 'you', '.', 'I', 'hate', 'you', '.', 'I', 'hate', 'you', '.', 'I', 'hate', 'you', '.', 'I', 'hate', 'you', '.', 'I', 'hate', 'you', '.', 'I', 'hate', 'you', '.', 'I', 'hate', 'you', '.', 'I', 'hate', 'you', '.', 'I', 'hate', 'you', '.', 'I', 'hate', 'you', '.', 'I', 'hate', 'you', '.', 'I', 'hate', 'you', '.', 'I', 'hate', 'you', '.', 'I', 'hate', 'you', '.', 'I', 'hate', 'you', '.', 'I', 'hate', 'you', '.', 'I', 'hate', 'you', '.', 'I', 'hate', 'you', '.', 'I', 'hate', 'you', '.', 'I', 'hate', 'you', '.', 'I', 'hate', 'you', '.', 'I', 'hate', 'you', '.', 'I', 'hate', 'you', '.', 'I', 'hate', 'you', '.', 'I', 'hate', 'you', '.', 'I', 'hate', 'you', '.', 'I', 'hate', 'you', '.', 'I', 'hate', 'you', '.', 'I', 'hate', 'you', '.', 'I', 'hate', 'you', '.', 'I', 'hate', 'you', '.', 'I', 'hate', 'you', '.', 'I', 'hate', 'you', '.', 'I', 'hate', 'you', '.', 'I', 'hate', 'you', '.', 'I', 'hate', 'you', '.', 'I', 'hate', 'you', '.', 'I', 'hate', 'you', '.', 'I', 'hate', 'you', '.', 'I', 'hate', 'you', '.', 'I', 'hate', 'you', '.', 'I', 'hate', 'you', '.', 'I', 'hate', 'you', '.', 'I', 'hate', 'you', '.', 'I', 'hate', 'you', '.', 'I', 'hate', 'you', '.', 'I', 'hate', 'you', '.', 'I', 'hate', 'you', '.', 'I', 'hate', 'you', '.', 'I', 'hate', 'you', '.', 'I', 'hate', 'you', '.', 'I', 'hate', 'you', '.', 'I', 'hate', 'you', '.', 'I', 'hate', 'you', '.', 'I', 'hate', 'you', '.', 'I', 'hate', 'you', '.', 'I', 'hate', 'you', '.', 'I', 'hate', 'you', '.', 'I', 'hate', 'you', '.', 'I', 'hate', 'you', '.', 'I', 'hate', 'you', '.', 'I', 'hate', 'you', '.', 'I', 'hate', 'you', '.', 'I', 'hate', 'you', '.', 'I', 'hate', 'you', '.', 'I', 'hate', 'you', '.', 'I', 'hate', 'you', '.', 'I', 'hate', 'you', '.', 'I', 'hate', 'you', '.', 'I', 'hate', 'you', '.', 'I', 'hate', 'you', '.', 'I', 'hate', 'you', '.', 'I', 'hate', 'you', '.', 'I', 'hate', 'you', '.', 'I', 'hate', 'you', '.', 'I', 'hate', 'you', '.', 'I', 'hate', 'you', '.', 'I', 'hate', 'you', '.', 'I', 'hate', 'you', '.', 'I', 'hate', 'you', '.', 'I', 'hate', 'you', '.', 'I', 'hate', 'you', '.', 'I', 'hate', 'you', '.', 'I', 'hate', 'you', '.', 'I', 'hate', 'you', '.', 'I', 'hate', 'you', '.', 'I', 'hate', 'you', '.', 'I', 'hate', 'you', '.', 'I', 'hate', 'you', '.', 'I', 'hate', 'you', '.', 'I', 'hate', 'you', '.', 'I', 'hate', 'you', '.', 'I', 'hate', 'you', '.', 'I', 'hate', 'you', '.', 'I', 'hate', 'you', '.', 'I', 'hate', 'you', '.', 'I', 'hate', 'you', '.', 'I', 'hate', 'you', '.', 'I', 'hate', 'you', '.', 'I', 'hate', 'you', '.', 'I', 'hate', 'you', '.', 'I', 'hate', 'you', '.', 'I', 'hate', 'you', '.', 'I', 'hate', 'you', '.', 'I', 'hate', 'you', '.', 'I', 'hate', 'you', '.', 'I', 'hate', 'you', '.', 'I', 'hate', 'you', '.', 'I', 'hate', 'you', '.', 'I', 'hate', 'you', '.', 'I', 'hate', 'you', '.', 'I', 'hate', 'you', '.', 'I', 'hate', 'you', '.', 'I', 'hate', 'you', '.', 'I', 'hate', 'you', '.', 'I', 'hate', 'you', '.', 'I', 'hate', 'you', '.', 'I', 'hate', 'you', '.', 'I', 'hate', 'you', '.', 'I', 'hate', 'you', '.', 'I', 'hate', 'you', '.', 'I', 'hate', 'you', '.', 'I', 'hate', 'you', '.', 'I', 'hate', 'you', '.', 'I', 'hate', 'you', '.', 'I', 'hate', 'you', '.', 'I', 'hate', 'you', '.', 'I', 'hate', 'you', '.', 'I', 'hate', 'you', '.', 'I', 'hate', 'you', '.', 'I', 'hate', 'you', '.', 'I', 'hate', 'you', '.', 'I', 'hate', 'you', '.', 'I', 'hate', 'you', '.', 'I', 'hate', 'you', '.', 'I', 'hate', 'you', '.', 'I', 'hate', 'you', '.', 'I', 'hate', 'you', '.', 'I', 'hate', 'you', '.', 'I', 'hate', 'you', '.', 'I', 'hate', 'you', '.', 'I', 'hate', 'you', '.', 'I', 'hate', 'you', '.', 'I', 'hate', 'you', '.', 'I', 'hate', 'you', '.', 'I', 'hate', 'you', '.', 'I', 'hate', 'you', '.']]\n"
     ]
    }
   ],
   "source": [
    "longest_len = max(len(s) for s in toxic_sentences)\n",
    "print([s for s in toxic_sentences if len(s) == longest_len])"
   ]
  },
  {
   "cell_type": "code",
   "execution_count": 28,
   "id": "7b914e5a",
   "metadata": {},
   "outputs": [
    {
     "name": "stdout",
     "output_type": "stream",
     "text": [
      "identity_hate.txt You are gay or antisemmitian?   Archangel WHite Tiger  Meow! Gree ...\n",
      "insult.txt COCKSUCKER BEFORE YOU PISS AROUND ON MY WORK\n",
      "You are gay or anti ...\n",
      "obscene.txt COCKSUCKER BEFORE YOU PISS AROUND ON MY WORK\n",
      "You are gay or anti ...\n",
      "severe_toxic.txt COCKSUCKER BEFORE YOU PISS AROUND ON MY WORK\n",
      "Stupid peace of shi ...\n",
      " ...at.txt Hi! I am back again! Last warning! Stop undoing my edits or die!\n",
      "toxic.txt COCKSUCKER BEFORE YOU PISS AROUND ON MY WORK\n",
      "Hey... what is it.. ...\n"
     ]
    }
   ],
   "source": [
    "for fileid in corpus.fileids():\n",
    "    print(fileid, corpus.raw(fileid)[:65], '...')"
   ]
  },
  {
   "cell_type": "code",
   "execution_count": 29,
   "id": "7122ca3d",
   "metadata": {},
   "outputs": [
    {
     "data": {
      "text/plain": [
       "'\\nNO SE COMO PONER ESTO\\nfrom nltk.corpus import nps_chat\\nchatroom = nps_chat.posts(\\'10-19-20s_706posts.xml\\')\\nchatroom[123]\\n[\\'i\\', \\'do\\', \"n\\'t\", \\'want\\', \\'hot\\', \\'pics\\', \\'of\\', \\'a\\', \\'female\\', \\',\\',\\n\\'I\\', \\'can\\', \\'look\\', \\'in\\', \\'a\\', \\'mirror\\', \\'.\\']\\n'"
      ]
     },
     "execution_count": 29,
     "metadata": {},
     "output_type": "execute_result"
    }
   ],
   "source": [
    "'''\n",
    "NO SE COMO PONER ESTO\n",
    "from nltk.corpus import nps_chat\n",
    "chatroom = nps_chat.posts('10-19-20s_706posts.xml')\n",
    "chatroom[123]\n",
    "['i', 'do', \"n't\", 'want', 'hot', 'pics', 'of', 'a', 'female', ',',\n",
    "'I', 'can', 'look', 'in', 'a', 'mirror', '.']\n",
    "'''"
   ]
  },
  {
   "cell_type": "code",
   "execution_count": 30,
   "id": "4d8eb68c",
   "metadata": {},
   "outputs": [
    {
     "name": "stdout",
     "output_type": "stream",
     "text": [
      "can: 3008 could: 380 may: 303 might: 198 must: 456 will: 2829 "
     ]
    }
   ],
   "source": [
    "toxic_text = corpus.words('toxic.txt')\n",
    "fdist = nltk.FreqDist(w.lower() for w in toxic_text)\n",
    "modals = ['can', 'could', 'may', 'might', 'must', 'will']\n",
    "for m in modals:\n",
    "    print(m + ':', fdist[m], end=' ')"
   ]
  },
  {
   "cell_type": "code",
   "execution_count": 35,
   "id": "2a31491e",
   "metadata": {},
   "outputs": [
    {
     "name": "stdout",
     "output_type": "stream",
     "text": [
      "['COCKSUCKER', 'BEFORE', 'YOU', 'PISS', 'AROUND', 'ON', 'MY', 'WORK', 'Hey', '...', 'what', 'is', 'it', '..']\n",
      "['COCKSUCKER', 'BEFORE', 'YOU', 'PISS', 'AROUND', 'ON', ...]\n"
     ]
    }
   ],
   "source": [
    "print(corpus.words('toxic.txt')[:14])\n",
    "print(corpus.words(['insult.txt', 'obscene.txt']))"
   ]
  },
  {
   "cell_type": "code",
   "execution_count": 43,
   "id": "51086ab8",
   "metadata": {},
   "outputs": [
    {
     "data": {
      "text/plain": [
       "<Axes: xlabel='Samples', ylabel='Counts'>"
      ]
     },
     "execution_count": 43,
     "metadata": {},
     "output_type": "execute_result"
    },
    {
     "data": {
      "image/png": "[encoded data removed]",
      "text/plain": [
       "<Figure size 640x480 with 1 Axes>"
      ]
     },
     "metadata": {},
     "output_type": "display_data"
    }
   ],
   "source": [
    "cfd = nltk.ConditionalFreqDist(\n",
    "    (target, fileid[:-4])\n",
    "    for fileid in corpus.fileids()\n",
    "    for w in corpus.words(fileid)\n",
    "    for target in ['nigger', 'fuck']\n",
    "    if w.lower().startswith(target))\n",
    "cfd.plot()"
   ]
  },
  {
   "cell_type": "code",
   "execution_count": 46,
   "id": "2710c033",
   "metadata": {},
   "outputs": [
    {
     "name": "stdout",
     "output_type": "stream",
     "text": [
      "OCKSUCKER BEFORE YO\n",
      "['BEFORE', 'YOU', 'PISS', 'AROUND', 'ON', 'MY', 'WORK', 'You', 'are', 'gay', 'or', 'antisemmitian', '?', 'Archangel', 'WHite', 'Tiger', 'Meow', '!', 'Greetingshhh']\n",
      "[['Archangel', 'WHite', 'Tiger', 'Meow', '!'], ['Greetingshhh', '!'], ['Uh', ',', 'there', 'are', 'two', 'ways', ',', 'why', 'you', 'do', 'erased', 'my', 'comment', 'about', 'WW2', ',', 'that', 'holocaust', 'was', 'brutally', 'slaying', 'of', 'Jews', 'and', 'not', 'gays', '/', 'Gypsys', '/', 'Slavs', '/', 'anyone', '...', '1', '-', 'If', 'you', 'are', 'anti', '-', 'semitian', ',', 'than', 'shave', 'your', 'head', 'bald', 'and', 'go', 'to', 'the', 'skinhead', 'meetings', '!'], ['2', '-', 'If', 'you', 'doubt', 'words', 'of', 'the', 'Bible', ',', 'that', 'homosexuality', 'is', 'a', 'deadly', 'sin', ',', 'make', 'a', 'pentagram', 'tatoo', 'on', 'your', 'forehead', 'go', 'to', 'the', 'satanistic', 'masses', 'with', 'your', 'gay', 'pals', '!'], ['3', '-', 'First', 'and', 'last', 'warning', ',', 'you', 'fucking', 'gay', '-', 'I', 'won', \"'\", 't', 'appreciate', 'if', 'any', 'more', 'nazi', 'shwain', 'would', 'write', 'in', 'my', 'page', '!'], ['I', 'don', \"'\", 't', 'wish', 'to', 'talk', 'to', 'you', 'anymore', '!'], ['Beware', 'of', 'the', 'Dark', 'Side', '!'], ['FUCK', 'YOUR', 'FILTHY', 'MOTHER', 'IN', 'THE', 'ASS', ',', 'DRY', '!'], ['GET', 'FUCKED', 'UP', '.'], ['GET', 'FUCKEEED', 'UP', '.'], ['GOT', 'A', 'DRINK', 'THAT', 'YOU', 'CANT', 'PUT', 'DOWN', '??'], ['?/', 'GET', 'FUCK', 'UP', 'GET', 'FUCKED', 'UP', '.'], ['I', \"'\", 'M', 'FUCKED', 'UP', 'RIGHT', 'NOW', '!'], ['Stupid', 'peace', 'of', 'shit', 'stop', 'deleting', 'my', 'stuff', 'asshole', 'go', 'die', 'and', 'fall', 'in', 'a', 'hole', 'go', 'to', 'hell', '!'], ['=', 'Tony', 'Sidaway', 'is', 'obviously', 'a', 'fistfuckee', '.'], ['He', 'loves', 'an', 'arm', 'up', 'his', 'ass', '.'], ['My', 'Band', 'Page', \"'\", 's', 'deletion', '.'], ['You', 'thought', 'I', 'was', 'gone', '.'], ['Deleting', 'the', 'comment', 'I', 'posted', 'on', 'your', \"'\", 'talk', 'page', \"'\", 'does', 'not', 'delete', 'my', 'feelings', 'for', 'your', 'hasty', 'decision', 'to', 'delete', 'my', 'page', '.']]\n"
     ]
    }
   ],
   "source": [
    "raw = corpus.raw('obscene.txt')\n",
    "print(raw[1:20])\n",
    "words = corpus.words('obscene.txt')\n",
    "print(words[1:20])\n",
    "sents = corpus.sents('obscene.txt')\n",
    "print(sents[1:20])"
   ]
  },
  {
   "cell_type": "code",
   "execution_count": null,
   "id": "7b17d609",
   "metadata": {},
   "outputs": [],
   "source": [
    "cdf = nltk.ConditionalFreqDist(\n",
    "    (target, fileid[:-4])\n",
    "    for fileid in corpus.fileids()\n",
    "    for w in corpus.words(fileid)\n",
    "    for target in ['nigger', 'fuck']\n",
    "    if w.lower().startswith(target))"
   ]
  },
  {
   "cell_type": "code",
   "execution_count": 49,
   "id": "b1bca3ab",
   "metadata": {},
   "outputs": [
    {
     "data": {
      "text/plain": [
       "[('In', 'the'),\n",
       " ('the', 'beginning'),\n",
       " ('beginning', 'God'),\n",
       " ('God', 'created'),\n",
       " ('created', 'the'),\n",
       " ('the', 'heaven'),\n",
       " ('heaven', 'and'),\n",
       " ('and', 'the'),\n",
       " ('the', 'earth'),\n",
       " ('earth', '.')]"
      ]
     },
     "execution_count": 49,
     "metadata": {},
     "output_type": "execute_result"
    }
   ],
   "source": [
    "sent = ['In', 'the', 'beginning', 'God', 'created', 'the', 'heaven',\n",
    "    'and', 'the', 'earth', '.']\n",
    "list(nltk.bigrams(sent))"
   ]
  },
  {
   "cell_type": "code",
   "execution_count": 51,
   "id": "a6f67ec8",
   "metadata": {},
   "outputs": [],
   "source": [
    "def generate_model(cfdist, word, num=15):\n",
    "    for i in range(num):\n",
    "        print(word, end=' ')\n",
    "        word = cfdist[word].max()\n",
    "\n",
    "text = corpus.words('toxic.txt')\n",
    "bigrams = nltk.bigrams(text)\n",
    "cfd = nltk.ConditionalFreqDist(bigrams)"
   ]
  },
  {
   "cell_type": "code",
   "execution_count": 52,
   "id": "3e9e3b7e",
   "metadata": {},
   "outputs": [
    {
     "data": {
      "text/plain": [
       "FreqDist({'up': 20, 'in': 13, 'hell': 5, '.': 4, 'room': 3, 'here': 2, 'person': 2, 'things': 2, 'off': 2, 'there': 2, ...})"
      ]
     },
     "execution_count": 52,
     "metadata": {},
     "output_type": "execute_result"
    }
   ],
   "source": [
    "cfd['living']"
   ]
  },
  {
   "cell_type": "code",
   "execution_count": 53,
   "id": "8be92045",
   "metadata": {},
   "outputs": [
    {
     "name": "stdout",
     "output_type": "stream",
     "text": [
      "living up the fuck yourself ! I ' t you are a dickhead your a "
     ]
    }
   ],
   "source": [
    "generate_model(cfd, 'living')"
   ]
  }
 ],
 "metadata": {
  "kernelspec": {
   "display_name": "Python 3",
   "language": "python",
   "name": "python3"
  },
  "language_info": {
   "codemirror_mode": {
    "name": "ipython",
    "version": 3
   },
   "file_extension": ".py",
   "mimetype": "text/x-python",
   "name": "python",
   "nbconvert_exporter": "python",
   "pygments_lexer": "ipython3",
   "version": "3.11.9"
  }
 },
 "nbformat": 4,
 "nbformat_minor": 5
}
