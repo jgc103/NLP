{
 "cells": [
  {
   "metadata": {},
   "cell_type": "markdown",
   "source": "Toxic Comment Classification",
   "id": "6f1f6d1a92610ac9"
  },
  {
   "metadata": {},
   "cell_type": "markdown",
   "source": "Import modules",
   "id": "1bd7d7117f45e1d6"
  },
  {
   "metadata": {
    "ExecuteTime": {
     "end_time": "2025-05-17T17:53:34.749237Z",
     "start_time": "2025-05-17T17:53:34.746596Z"
    }
   },
   "cell_type": "code",
   "source": [
    "import pandas as pd\n",
    "import matplotlib.pyplot as plt\n",
    "import seaborn as sns"
   ],
   "id": "62251e13d707c4ab",
   "outputs": [],
   "execution_count": 10
  },
  {
   "metadata": {},
   "cell_type": "markdown",
   "source": "1. Data Download and Loading",
   "id": "7722b403d60fa28a"
  },
  {
   "metadata": {},
   "cell_type": "markdown",
   "source": "1.1 Loading Data with pandas",
   "id": "528121cec364f215"
  },
  {
   "metadata": {
    "ExecuteTime": {
     "end_time": "2025-05-17T17:53:38.128318Z",
     "start_time": "2025-05-17T17:53:36.700595Z"
    }
   },
   "cell_type": "code",
   "source": [
    "def load_data(train_path, test_path, test_labels_path=None):\n",
    "    df_train = pd.read_csv(train_path)\n",
    "    df_test = pd.read_csv(test_path)\n",
    "    if test_labels_path:\n",
    "        df_test_labels = pd.read_csv(test_labels_path)\n",
    "        return df_train, df_test, df_test_labels\n",
    "    return df_train, df_test\n",
    "\n",
    "# Example usage\n",
    "df_train, df_test = load_data(\n",
    "    'Dataset/train.csv',\n",
    "    'Dataset/test.csv',\n",
    ")"
   ],
   "id": "89919bed94647f3d",
   "outputs": [],
   "execution_count": 11
  },
  {
   "metadata": {},
   "cell_type": "markdown",
   "source": "1.2 Initial Inspection",
   "id": "52932bb578eabb9d"
  },
  {
   "metadata": {},
   "cell_type": "markdown",
   "source": "Display dimensions:",
   "id": "ab128bcff0ed9205"
  },
  {
   "metadata": {
    "ExecuteTime": {
     "end_time": "2025-05-17T17:53:39.225142Z",
     "start_time": "2025-05-17T17:53:39.221767Z"
    }
   },
   "cell_type": "code",
   "source": [
    "print(\"Train shape:\", df_train.shape)\n",
    "print(\"Test shape:\", df_test.shape)"
   ],
   "id": "6dcd32b1fe9dbd9f",
   "outputs": [
    {
     "name": "stdout",
     "output_type": "stream",
     "text": [
      "Train shape: (159571, 8)\n",
      "Test shape: (153164, 2)\n"
     ]
    }
   ],
   "execution_count": 12
  },
  {
   "metadata": {},
   "cell_type": "markdown",
   "source": "Show first rows:",
   "id": "b01a1e45b20f14e1"
  },
  {
   "metadata": {
    "ExecuteTime": {
     "end_time": "2025-05-17T17:53:40.823118Z",
     "start_time": "2025-05-17T17:53:40.815602Z"
    }
   },
   "cell_type": "code",
   "source": "display(df_train.head())",
   "id": "6197884840e9f270",
   "outputs": [
    {
     "data": {
      "text/plain": [
       "                 id                                       comment_text  toxic  \\\n",
       "0  0000997932d777bf  Explanation\\r\\nWhy the edits made under my use...      0   \n",
       "1  000103f0d9cfb60f  D'aww! He matches this background colour I'm s...      0   \n",
       "2  000113f07ec002fd  Hey man, I'm really not trying to edit war. It...      0   \n",
       "3  0001b41b1c6bb37e  \"\\r\\nMore\\r\\nI can't make any real suggestions...      0   \n",
       "4  0001d958c54c6e35  You, sir, are my hero. Any chance you remember...      0   \n",
       "\n",
       "   severe_toxic  obscene  threat  insult  identity_hate  \n",
       "0             0        0       0       0              0  \n",
       "1             0        0       0       0              0  \n",
       "2             0        0       0       0              0  \n",
       "3             0        0       0       0              0  \n",
       "4             0        0       0       0              0  "
      ],
      "text/html": [
       "<div>\n",
       "<style scoped>\n",
       "    .dataframe tbody tr th:only-of-type {\n",
       "        vertical-align: middle;\n",
       "    }\n",
       "\n",
       "    .dataframe tbody tr th {\n",
       "        vertical-align: top;\n",
       "    }\n",
       "\n",
       "    .dataframe thead th {\n",
       "        text-align: right;\n",
       "    }\n",
       "</style>\n",
       "<table border=\"1\" class=\"dataframe\">\n",
       "  <thead>\n",
       "    <tr style=\"text-align: right;\">\n",
       "      <th></th>\n",
       "      <th>id</th>\n",
       "      <th>comment_text</th>\n",
       "      <th>toxic</th>\n",
       "      <th>severe_toxic</th>\n",
       "      <th>obscene</th>\n",
       "      <th>threat</th>\n",
       "      <th>insult</th>\n",
       "      <th>identity_hate</th>\n",
       "    </tr>\n",
       "  </thead>\n",
       "  <tbody>\n",
       "    <tr>\n",
       "      <th>0</th>\n",
       "      <td>0000997932d777bf</td>\n",
       "      <td>Explanation\\r\\nWhy the edits made under my use...</td>\n",
       "      <td>0</td>\n",
       "      <td>0</td>\n",
       "      <td>0</td>\n",
       "      <td>0</td>\n",
       "      <td>0</td>\n",
       "      <td>0</td>\n",
       "    </tr>\n",
       "    <tr>\n",
       "      <th>1</th>\n",
       "      <td>000103f0d9cfb60f</td>\n",
       "      <td>D'aww! He matches this background colour I'm s...</td>\n",
       "      <td>0</td>\n",
       "      <td>0</td>\n",
       "      <td>0</td>\n",
       "      <td>0</td>\n",
       "      <td>0</td>\n",
       "      <td>0</td>\n",
       "    </tr>\n",
       "    <tr>\n",
       "      <th>2</th>\n",
       "      <td>000113f07ec002fd</td>\n",
       "      <td>Hey man, I'm really not trying to edit war. It...</td>\n",
       "      <td>0</td>\n",
       "      <td>0</td>\n",
       "      <td>0</td>\n",
       "      <td>0</td>\n",
       "      <td>0</td>\n",
       "      <td>0</td>\n",
       "    </tr>\n",
       "    <tr>\n",
       "      <th>3</th>\n",
       "      <td>0001b41b1c6bb37e</td>\n",
       "      <td>\"\\r\\nMore\\r\\nI can't make any real suggestions...</td>\n",
       "      <td>0</td>\n",
       "      <td>0</td>\n",
       "      <td>0</td>\n",
       "      <td>0</td>\n",
       "      <td>0</td>\n",
       "      <td>0</td>\n",
       "    </tr>\n",
       "    <tr>\n",
       "      <th>4</th>\n",
       "      <td>0001d958c54c6e35</td>\n",
       "      <td>You, sir, are my hero. Any chance you remember...</td>\n",
       "      <td>0</td>\n",
       "      <td>0</td>\n",
       "      <td>0</td>\n",
       "      <td>0</td>\n",
       "      <td>0</td>\n",
       "      <td>0</td>\n",
       "    </tr>\n",
       "  </tbody>\n",
       "</table>\n",
       "</div>"
      ]
     },
     "metadata": {},
     "output_type": "display_data"
    }
   ],
   "execution_count": 13
  },
  {
   "metadata": {},
   "cell_type": "markdown",
   "source": "Null values by column in train:",
   "id": "36fac5104794c55e"
  },
  {
   "metadata": {
    "ExecuteTime": {
     "end_time": "2025-05-17T17:53:42.810927Z",
     "start_time": "2025-05-17T17:53:42.787404Z"
    }
   },
   "cell_type": "code",
   "source": "print(df_train.isnull().sum())",
   "id": "654b1aa6276d9dc3",
   "outputs": [
    {
     "name": "stdout",
     "output_type": "stream",
     "text": [
      "id               0\n",
      "comment_text     0\n",
      "toxic            0\n",
      "severe_toxic     0\n",
      "obscene          0\n",
      "threat           0\n",
      "insult           0\n",
      "identity_hate    0\n",
      "dtype: int64\n"
     ]
    }
   ],
   "execution_count": 14
  },
  {
   "metadata": {},
   "cell_type": "markdown",
   "source": "Label distribution in train:",
   "id": "4df27d627c2c0395"
  },
  {
   "metadata": {
    "ExecuteTime": {
     "end_time": "2025-05-17T17:53:44.517407Z",
     "start_time": "2025-05-17T17:53:44.509773Z"
    }
   },
   "cell_type": "code",
   "source": [
    "label_cols = ['toxic', 'severe_toxic', 'obscene', 'threat', 'insult', 'identity_hate']\n",
    "print(df_train[label_cols].sum().sort_values(ascending=False))"
   ],
   "id": "1b480f7af14aaf68",
   "outputs": [
    {
     "name": "stdout",
     "output_type": "stream",
     "text": [
      "toxic            15294\n",
      "obscene           8449\n",
      "insult            7877\n",
      "severe_toxic      1595\n",
      "identity_hate     1405\n",
      "threat             478\n",
      "dtype: int64\n"
     ]
    }
   ],
   "execution_count": 15
  },
  {
   "metadata": {
    "ExecuteTime": {
     "end_time": "2025-05-17T17:53:46.108996Z",
     "start_time": "2025-05-17T17:53:45.960602Z"
    }
   },
   "cell_type": "code",
   "source": [
    "plt.figure(figsize=(10,6))\n",
    "sns.barplot(x=df_train[label_cols].sum().index, y=df_train[label_cols].sum().values)\n",
    "plt.title('Label distribution')\n",
    "plt.title('Comment Distribution by Label')\n",
    "plt.ylabel('Number of Comments')\n",
    "plt.xlabel('Labels')\n",
    "plt.show()"
   ],
   "id": "435f7578e309df57",
   "outputs": [
    {
     "data": {
      "text/plain": [
       "<Figure size 1000x600 with 1 Axes>"
      ],
      "image/png": "[encoded data removed]"
     },
     "metadata": {},
     "output_type": "display_data"
    }
   ],
   "execution_count": 16
  },
  {
   "metadata": {},
   "cell_type": "markdown",
   "source": "2. Exploratory Data Analysis (EDA)",
   "id": "53320fafcd18443"
  },
  {
   "metadata": {},
   "cell_type": "markdown",
   "source": "2.1 Missing Values and Null Checks",
   "id": "b94881a0101986fc"
  },
  {
   "metadata": {},
   "cell_type": "code",
   "outputs": [],
   "execution_count": null,
   "source": "df_train.isnull().sum()",
   "id": "5c26d4dd1c74b282"
  },
  {
   "metadata": {},
   "cell_type": "markdown",
   "source": "2.2 Class Distribution",
   "id": "6012d894e6896f99"
  },
  {
   "metadata": {},
   "cell_type": "markdown",
   "source": [
    "The dataset has six target columns: toxic, severe_toxic, obscene, threat, insult, identity_hate.\n",
    "\n",
    "Display the count and proportion of each class:"
   ],
   "id": "dcfb35565e86acad"
  },
  {
   "metadata": {
    "ExecuteTime": {
     "end_time": "2025-05-17T18:01:02.975788Z",
     "start_time": "2025-05-17T18:01:02.966682Z"
    }
   },
   "cell_type": "code",
   "source": [
    "label_cols = ['toxic', 'severe_toxic', 'obscene', 'threat', 'insult', 'identity_hate']\n",
    "class_counts = df_train[label_cols].sum().sort_values(ascending=False)\n",
    "class_props = class_counts / len(df_train)\n",
    "print(pd.concat([class_counts, class_props], axis=1, keys=['count','proportion']))"
   ],
   "id": "fe2af2f4e4e09927",
   "outputs": [
    {
     "name": "stdout",
     "output_type": "stream",
     "text": [
      "               count  proportion\n",
      "toxic          15294    0.095844\n",
      "obscene         8449    0.052948\n",
      "insult          7877    0.049364\n",
      "severe_toxic    1595    0.009996\n",
      "identity_hate   1405    0.008805\n",
      "threat           478    0.002996\n"
     ]
    }
   ],
   "execution_count": 17
  },
  {
   "metadata": {},
   "cell_type": "markdown",
   "source": "2.3 Comment Length Analysis",
   "id": "95fa0c639562aeb9"
  },
  {
   "metadata": {},
   "cell_type": "markdown",
   "source": "Compute length of each comment (in characters and words):",
   "id": "e95aefa32145a028"
  },
  {
   "metadata": {
    "ExecuteTime": {
     "end_time": "2025-05-17T18:01:38.740862Z",
     "start_time": "2025-05-17T18:01:38.126794Z"
    }
   },
   "cell_type": "code",
   "source": [
    "df_train['char_count'] = df_train['comment_text'].apply(len)\n",
    "df_train['word_count'] = df_train['comment_text'].apply(lambda x: len(x.split()))\n",
    "display(df_train[['char_count','word_count']].describe())"
   ],
   "id": "65f9f6409bb58223",
   "outputs": [
    {
     "data": {
      "text/plain": [
       "          char_count     word_count\n",
       "count  159571.000000  159571.000000\n",
       "mean      396.593961      67.273527\n",
       "std       594.387869      99.230702\n",
       "min         6.000000       1.000000\n",
       "25%        97.000000      17.000000\n",
       "50%       207.000000      36.000000\n",
       "75%       438.000000      75.000000\n",
       "max      5000.000000    1411.000000"
      ],
      "text/html": [
       "<div>\n",
       "<style scoped>\n",
       "    .dataframe tbody tr th:only-of-type {\n",
       "        vertical-align: middle;\n",
       "    }\n",
       "\n",
       "    .dataframe tbody tr th {\n",
       "        vertical-align: top;\n",
       "    }\n",
       "\n",
       "    .dataframe thead th {\n",
       "        text-align: right;\n",
       "    }\n",
       "</style>\n",
       "<table border=\"1\" class=\"dataframe\">\n",
       "  <thead>\n",
       "    <tr style=\"text-align: right;\">\n",
       "      <th></th>\n",
       "      <th>char_count</th>\n",
       "      <th>word_count</th>\n",
       "    </tr>\n",
       "  </thead>\n",
       "  <tbody>\n",
       "    <tr>\n",
       "      <th>count</th>\n",
       "      <td>159571.000000</td>\n",
       "      <td>159571.000000</td>\n",
       "    </tr>\n",
       "    <tr>\n",
       "      <th>mean</th>\n",
       "      <td>396.593961</td>\n",
       "      <td>67.273527</td>\n",
       "    </tr>\n",
       "    <tr>\n",
       "      <th>std</th>\n",
       "      <td>594.387869</td>\n",
       "      <td>99.230702</td>\n",
       "    </tr>\n",
       "    <tr>\n",
       "      <th>min</th>\n",
       "      <td>6.000000</td>\n",
       "      <td>1.000000</td>\n",
       "    </tr>\n",
       "    <tr>\n",
       "      <th>25%</th>\n",
       "      <td>97.000000</td>\n",
       "      <td>17.000000</td>\n",
       "    </tr>\n",
       "    <tr>\n",
       "      <th>50%</th>\n",
       "      <td>207.000000</td>\n",
       "      <td>36.000000</td>\n",
       "    </tr>\n",
       "    <tr>\n",
       "      <th>75%</th>\n",
       "      <td>438.000000</td>\n",
       "      <td>75.000000</td>\n",
       "    </tr>\n",
       "    <tr>\n",
       "      <th>max</th>\n",
       "      <td>5000.000000</td>\n",
       "      <td>1411.000000</td>\n",
       "    </tr>\n",
       "  </tbody>\n",
       "</table>\n",
       "</div>"
      ]
     },
     "metadata": {},
     "output_type": "display_data"
    }
   ],
   "execution_count": 18
  },
  {
   "metadata": {},
   "cell_type": "markdown",
   "source": "Plot histograms of comment lengths:",
   "id": "2e79011d6cc1a29b"
  },
  {
   "metadata": {
    "ExecuteTime": {
     "end_time": "2025-05-17T18:02:21.475940Z",
     "start_time": "2025-05-17T18:02:21.332046Z"
    }
   },
   "cell_type": "code",
   "source": [
    "plt.figure(figsize=(8,4))\n",
    "df_train['word_count'].hist(bins=50)\n",
    "plt.title('Distribution of Comment Word Counts')\n",
    "plt.xlabel('Word Count')\n",
    "plt.ylabel('Frequency')\n",
    "plt.show()"
   ],
   "id": "22be53cb4a3c0297",
   "outputs": [
    {
     "data": {
      "text/plain": [
       "<Figure size 800x400 with 1 Axes>"
      ],
      "image/png": "[encoded data removed]"
     },
     "metadata": {},
     "output_type": "display_data"
    }
   ],
   "execution_count": 19
  },
  {
   "metadata": {},
   "cell_type": "markdown",
   "source": "2.4 Sample Comments by Category",
   "id": "ef4007cc1923293d"
  },
  {
   "metadata": {},
   "cell_type": "markdown",
   "source": "Show example comments for each label where the label is 1:",
   "id": "7ef9ed9b221f1b83"
  },
  {
   "metadata": {
    "ExecuteTime": {
     "end_time": "2025-05-17T18:03:48.111023Z",
     "start_time": "2025-05-17T18:03:48.092277Z"
    }
   },
   "cell_type": "code",
   "source": [
    "for col in label_cols:\n",
    "    print(f\"\\nExamples of {col} comments:\")\n",
    "    examples = df_train[df_train[col]==1]['comment_text'].sample(2, random_state=42).tolist()\n",
    "    for ex in examples:\n",
    "        print(\"-\", ex)"
   ],
   "id": "5b378adfcf9cdb73",
   "outputs": [
    {
     "name": "stdout",
     "output_type": "stream",
     "text": [
      "\n",
      "Examples of toxic comments:\n",
      "- Hi! \r\n",
      "\r\n",
      "I wanna rape you!\n",
      "- Terrorize \r\n",
      "I will terrorise you for as long as you live - you are an arrogant, disgusting and rude excuse for a human being & you are going to die soon so I suggest you stop threatening people you bastard.\n",
      "\n",
      "Examples of severe_toxic comments:\n",
      "- \"\r\n",
      "\r\n",
      " WHAT  IN THE FUCK ARE YOU REFERRING TOO \r\n",
      "\r\n",
      "I HAVE NO IDEA WHAT THE PISS YOU'RE REFERRING TOO, OR WHY YOU BOTHERED TO WRITE ME.  LISTEN I'VE ADDED PLENTY TO THESE PAGE INCLUDING A \"\"SMASHING\"\" ARTICLE ON SMASHED GLADYS...BUT THAT REALLY ISNT ANY OF YOU BUSSINESS NOW IS IT.  IF SOMEBODY HAS A PROBLEM WITH ANYTHING THAT I WROTE THEM I ASSUME THEY CAN CONTACT ME THROUGH REGULAR MEANS WITHOUT YOU HAVING TO \"\"WIPE THEIR ASS\"\" FOR THEM.  IF I CAPITALIZE IT IS NOT MEANT NECCISARYLY AS AN INSULT, AND MOST PEOPLE I WRITE UNDERSTAND THAT.  IN THIS CASE IT IS BECAUSE MY CAPS BUTTON ISNT WORKING FOR SOME REASON.  SO HERES AN IDEA FOR YOU...DONT SHOVE YOUR NOSE IN MY BUSSINESS, I AM CLOSE FREINDS WITH ADMINISTRATOR UNCLEG AND IM SURE HE WOULD HAVE LET ME KNOW IF I DID SOMETHING INNAPPROPRIATE.  TRY INSTEAD TO REMOVE THE PLANK OUT OF YOUR OWN EYE, RATHER THAN BITCHING ABOUT SOMETHING YOU THINK MAY HAVE OFFENED SOMEONE.  I APPRECIATE YOU COMMENTS \"\n",
      "- takes it up the arse.  takes it up the arse.  takes it up the arse.  takes it up the arse.  takes it up the arse.  takes it up the arse.  takes it up the arse.  takes it up the arse.  takes it up the arse.  takes it up the arse.  takes it up the arse.  takes it up the arse.  takes it up the arse.  takes it up the arse.  takes it up the arse.  takes it up the arse.  takes it up the arse.  takes it up the arse.  takes it up the arse.  takes it up the arse.  takes it up the arse.  takes it up the arse.  takes it up the arse.  takes it up the arse.  takes it up the arse.  takes it up the arse.  takes it up the arse.  takes it up the arse.  takes it up the arse.  takes it up the arse.  takes it up the arse.  takes it up the arse.  takes it up the arse.  takes it up the arse.  takes it up the arse.  takes it up the arse.  takes it up the arse.  takes it up the arse.  takes it up the arse.  takes it up the arse.  takes it up the arse.  takes it up the arse.  takes it up the arse.  takes it up the arse.  takes it up the arse.  takes it up the arse.  takes it up the arse.  takes it up the arse.  takes it up the arse.  takes it up the arse.  takes it up the arse.  takes it up the arse.  takes it up the arse.  takes it up the arse.  takes it up the arse.  takes it up the arse.  takes it up the arse.  takes it up the arse.  takes it up the arse.  takes it up the arse.  takes it up the arse.  takes it up the arse.  takes it up the arse.  takes it up the arse.  takes it up the arse.  takes it up the arse.  takes it up the arse.  takes it up the arse.  takes it up the arse.  takes it up the arse.  takes it up the arse.  takes it up the arse.  takes it up the arse.  takes it up the arse.  takes it up the arse.  takes it up the arse.  takes it up the arse.  takes it up the arse.  takes it up the arse.  takes it up the arse.  takes it up the arse.  takes it up the arse.  takes it up the arse.  takes it up the arse.  takes it up the arse.  takes it up the arse.  takes it up the arse.  takes it up the arse.  takes it up the arse.  takes it up the arse.  takes it up the arse.  takes it up the arse.  takes it up the arse.  takes it up the arse.  takes it up the arse.  takes it up the arse.  takes it up the arse.  takes it up the arse.  takes it up the arse.  takes it up the arse.  takes it up the arse.  takes it up the arse.  takes it up the arse.  takes it up the arse.  takes it up the arse.  takes it up the arse.  takes it up the arse.  takes it up the arse.  takes it up the arse.  takes it up the arse.  takes it up the arse.  takes it up the arse.  takes it up the arse.\n",
      "\n",
      "Examples of obscene comments:\n",
      "- You are an utter fucking faggot...u need a life outside of wikipedia...maybe a didlo fuk by ur mom?\n",
      "- WTF! \r\n",
      "\r\n",
      "u fckin faggot ass mutha fcker u jus re-did and delted my work and my gay school! WTF IS UR PROMBLEM U GAY CHILD MOLESTER!!!!\n",
      "\n",
      "Examples of threat comments:\n",
      "- if you do not stop, the wikapidea nijas will come to your house and kill you\n",
      "- Fuck you Sarcasticidealist i will kill you with my gun as well bitch ass motherfucker}}\n",
      "\n",
      "Examples of insult comments:\n",
      "- FUCK YOU ALL, LOSERS \r\n",
      "\r\n",
      "FUCK OFF MY PAGE, FAGS\n",
      "- What are you retarded? I already am blocked. What a fucking moron.\n",
      "\n",
      "Examples of identity_hate comments:\n",
      "- REDIRECT Talk:Bolivian chinchilla rat\n",
      "- TO SITUSH(PAKISTANI  PIG) \r\n",
      "\r\n",
      "What  is your problem, you bloody muslim pakistani, why the hell are you jealous of HINDUS and SIKHS ???\r\n",
      "\r\n",
      "you born out of shit of a pig just stay away from this article...we don't prefer pakistani muslim pigs touching this pious article.\n"
     ]
    }
   ],
   "execution_count": 22
  }
 ],
 "metadata": {
  "kernelspec": {
   "display_name": "Python 3",
   "language": "python",
   "name": "python3"
  },
  "language_info": {
   "codemirror_mode": {
    "name": "ipython",
    "version": 2
   },
   "file_extension": ".py",
   "mimetype": "text/x-python",
   "name": "python",
   "nbconvert_exporter": "python",
   "pygments_lexer": "ipython2",
   "version": "2.7.6"
  }
 },
 "nbformat": 4,
 "nbformat_minor": 5
}
