{
 "cells": [
  {
   "cell_type": "markdown",
   "id": "6f1f6d1a92610ac9",
   "metadata": {},
   "source": [
    "Toxic Comment Classification"
   ]
  },
  {
   "cell_type": "markdown",
   "id": "1bd7d7117f45e1d6",
   "metadata": {},
   "source": [
    "Import modules"
   ]
  },
  {
   "cell_type": "code",
   "execution_count": null,
   "id": "62251e13d707c4ab",
   "metadata": {
    "ExecuteTime": {
     "end_time": "2025-05-18T12:02:26.018331Z",
     "start_time": "2025-05-18T12:02:26.015787Z"
    }
   },
   "outputs": [],
   "source": [
    "import os\n",
    "import pandas as pd\n",
    "import matplotlib.pyplot as plt\n",
    "import seaborn as sns\n",
    "from nltk import FreqDist\n",
    "from nltk.corpus import CategorizedPlaintextCorpusReader\n",
    "import string"
   ]
  },
  {
   "cell_type": "markdown",
   "id": "7722b403d60fa28a",
   "metadata": {},
   "source": [
    "1. Data Download and Loading"
   ]
  },
  {
   "cell_type": "markdown",
   "id": "528121cec364f215",
   "metadata": {},
   "source": [
    "1.1 Loading Data with pandas"
   ]
  },
  {
   "cell_type": "code",
   "execution_count": 26,
   "id": "89919bed94647f3d",
   "metadata": {
    "ExecuteTime": {
     "end_time": "2025-05-18T12:03:35.175385Z",
     "start_time": "2025-05-18T12:03:33.777191Z"
    }
   },
   "outputs": [],
   "source": [
    "def load_data(train_path, test_path):\n",
    "    df_train = pd.read_csv(train_path)\n",
    "    df_test  = pd.read_csv(test_path)\n",
    "\n",
    "    label_cols = ['toxic', 'severe_toxic', 'obscene', 'threat', 'insult', 'identity_hate']\n",
    "    df_train['non_toxic'] = (df_train[label_cols].sum(axis=1) == 0).astype(int)\n",
    "\n",
    "    return df_train, df_test\n",
    "\n",
    "# Example usage\n",
    "df_train, df_test = load_data(\n",
    "    'Dataset/train.csv',\n",
    "    'Dataset/test.csv'\n",
    ")"
   ]
  },
  {
   "cell_type": "markdown",
   "id": "52932bb578eabb9d",
   "metadata": {},
   "source": [
    "1.2 Initial Inspection"
   ]
  },
  {
   "cell_type": "markdown",
   "id": "ab128bcff0ed9205",
   "metadata": {},
   "source": [
    "Display dimensions:"
   ]
  },
  {
   "cell_type": "code",
   "execution_count": 27,
   "id": "6dcd32b1fe9dbd9f",
   "metadata": {
    "ExecuteTime": {
     "end_time": "2025-05-18T12:02:28.623964Z",
     "start_time": "2025-05-18T12:02:28.621573Z"
    }
   },
   "outputs": [],
   "source": [
    "print(\"Train shape:\", df_train.shape)\n",
    "print(\"Test shape:\", df_test.shape)"
   ]
  },
  {
   "cell_type": "markdown",
   "id": "b01a1e45b20f14e1",
   "metadata": {},
   "source": [
    "Show first rows:"
   ]
  },
  {
   "cell_type": "code",
   "execution_count": 28,
   "id": "6197884840e9f270",
   "metadata": {
    "ExecuteTime": {
     "end_time": "2025-05-18T12:02:28.643399Z",
     "start_time": "2025-05-18T12:02:28.637833Z"
    }
   },
   "outputs": [],
   "source": [
    "display(df_train.head())"
   ]
  },
  {
   "cell_type": "markdown",
   "id": "36fac5104794c55e",
   "metadata": {},
   "source": [
    "Null values by column in train:"
   ]
  },
  {
   "cell_type": "code",
   "execution_count": 29,
   "id": "654b1aa6276d9dc3",
   "metadata": {
    "ExecuteTime": {
     "end_time": "2025-05-18T12:02:28.703796Z",
     "start_time": "2025-05-18T12:02:28.680927Z"
    }
   },
   "outputs": [],
   "source": [
    "print(df_train.isnull().sum())"
   ]
  },
  {
   "cell_type": "markdown",
   "id": "4df27d627c2c0395",
   "metadata": {},
   "source": [
    "Label distribution in train:"
   ]
  },
  {
   "cell_type": "code",
   "execution_count": 30,
   "id": "1b480f7af14aaf68",
   "metadata": {
    "ExecuteTime": {
     "end_time": "2025-05-18T12:02:28.755053Z",
     "start_time": "2025-05-18T12:02:28.747926Z"
    }
   },
   "outputs": [],
   "source": [
    "label_cols = ['toxic', 'severe_toxic', 'obscene', 'threat', 'insult', 'identity_hate', 'non_toxic']\n",
    "print(df_train[label_cols].sum().sort_values(ascending=False))"
   ]
  },
  {
   "cell_type": "code",
   "execution_count": 31,
   "id": "435f7578e309df57",
   "metadata": {
    "ExecuteTime": {
     "end_time": "2025-05-18T12:02:28.881063Z",
     "start_time": "2025-05-18T12:02:28.774913Z"
    }
   },
   "outputs": [],
   "source": [
    "plt.figure(figsize=(10,6))\n",
    "sns.barplot(x=df_train[label_cols].sum().index, y=df_train[label_cols].sum().values)\n",
    "plt.title('Label distribution')\n",
    "plt.title('Comment Distribution by Label')\n",
    "plt.ylabel('Number of Comments')\n",
    "plt.xlabel('Labels')\n",
    "plt.show()"
   ]
  },
  {
   "cell_type": "markdown",
   "id": "53320fafcd18443",
   "metadata": {},
   "source": [
    "2. First Analysis"
   ]
  },
  {
   "cell_type": "markdown",
   "id": "b94881a0101986fc",
   "metadata": {},
   "source": [
    "2.1 Missing Values and Null Checks"
   ]
  },
  {
   "cell_type": "code",
   "execution_count": 32,
   "id": "5c26d4dd1c74b282",
   "metadata": {
    "ExecuteTime": {
     "end_time": "2025-05-18T12:02:28.916861Z",
     "start_time": "2025-05-18T12:02:28.892872Z"
    }
   },
   "outputs": [],
   "source": [
    "df_train.isnull().sum()"
   ]
  },
  {
   "cell_type": "markdown",
   "id": "6012d894e6896f99",
   "metadata": {},
   "source": [
    "2.2 Class Distribution"
   ]
  },
  {
   "cell_type": "markdown",
   "id": "dcfb35565e86acad",
   "metadata": {},
   "source": [
    "The dataset has six target columns: toxic, severe_toxic, obscene, threat, insult, identity_hate.\n",
    "\n",
    "Display the count and proportion of each class:"
   ]
  },
  {
   "cell_type": "code",
   "execution_count": 33,
   "id": "fe2af2f4e4e09927",
   "metadata": {
    "ExecuteTime": {
     "end_time": "2025-05-18T12:02:28.963508Z",
     "start_time": "2025-05-18T12:02:28.954833Z"
    }
   },
   "outputs": [],
   "source": [
    "label_cols = ['toxic', 'severe_toxic', 'obscene', 'threat', 'insult', 'identity_hate', 'non_toxic']\n",
    "class_counts = df_train[label_cols].sum().sort_values(ascending=False)\n",
    "class_props = class_counts / len(df_train)\n",
    "print(pd.concat([class_counts, class_props], axis=1, keys=['count','proportion']))"
   ]
  },
  {
   "cell_type": "markdown",
   "id": "95fa0c639562aeb9",
   "metadata": {},
   "source": [
    "2.3 Comment Length Analysis"
   ]
  },
  {
   "cell_type": "markdown",
   "id": "e95aefa32145a028",
   "metadata": {},
   "source": [
    "Compute length of each comment (in characters and words):"
   ]
  },
  {
   "cell_type": "code",
   "execution_count": 34,
   "id": "65f9f6409bb58223",
   "metadata": {
    "ExecuteTime": {
     "end_time": "2025-05-18T12:02:29.656799Z",
     "start_time": "2025-05-18T12:02:29.045535Z"
    }
   },
   "outputs": [],
   "source": [
    "df_train['char_count'] = df_train['comment_text'].apply(len)\n",
    "df_train['word_count'] = df_train['comment_text'].apply(lambda x: len(x.split()))\n",
    "display(df_train[['char_count','word_count']].describe())"
   ]
  },
  {
   "cell_type": "markdown",
   "id": "2e79011d6cc1a29b",
   "metadata": {},
   "source": [
    "Plot histograms of comment lengths:"
   ]
  },
  {
   "cell_type": "code",
   "execution_count": 35,
   "id": "22be53cb4a3c0297",
   "metadata": {
    "ExecuteTime": {
     "end_time": "2025-05-18T12:02:29.794089Z",
     "start_time": "2025-05-18T12:02:29.668301Z"
    }
   },
   "outputs": [],
   "source": [
    "plt.figure(figsize=(8,4))\n",
    "df_train['word_count'].hist(bins=50)\n",
    "plt.title('Distribution of Comment Word Counts')\n",
    "plt.xlabel('Word Count')\n",
    "plt.ylabel('Frequency')\n",
    "plt.show()"
   ]
  },
  {
   "cell_type": "markdown",
   "id": "ef4007cc1923293d",
   "metadata": {},
   "source": [
    "2.4 Sample Comments by Category"
   ]
  },
  {
   "cell_type": "markdown",
   "id": "7ef9ed9b221f1b83",
   "metadata": {},
   "source": [
    "Show example comments for each label where the label is 1:"
   ]
  },
  {
   "cell_type": "code",
   "execution_count": 36,
   "id": "5b378adfcf9cdb73",
   "metadata": {
    "ExecuteTime": {
     "end_time": "2025-05-18T12:02:29.839889Z",
     "start_time": "2025-05-18T12:02:29.805626Z"
    }
   },
   "outputs": [],
   "source": [
    "for col in label_cols:\n",
    "    print(f\"\\nExamples of {col} comments:\")\n",
    "    examples = df_train[df_train[col]==1]['comment_text'].sample(2, random_state=42).tolist()\n",
    "    for ex in examples:\n",
    "        print(\"- \", ex)"
   ]
  },
  {
   "cell_type": "markdown",
   "id": "98441ade1d051432",
   "metadata": {},
   "source": [
    "3. Create corpus"
   ]
  },
  {
   "cell_type": "code",
   "execution_count": 37,
   "id": "e6b8f2144eb88bcc",
   "metadata": {
    "ExecuteTime": {
     "end_time": "2025-05-18T12:02:30.183874Z",
     "start_time": "2025-05-18T12:02:29.864086Z"
    }
   },
   "outputs": [],
   "source": [
    "# Crear el directorio principal para almacenar el corpus\n",
    "corpus_dir = 'corpus_by_label'\n",
    "os.makedirs(corpus_dir, exist_ok=True)\n",
    "\n",
    "# Guardar los comentarios en carpetas y archivos separados por etiqueta\n",
    "for label in label_cols:\n",
    "    comments = df_train[df_train[label] == 1]['comment_text'].dropna()\n",
    "\n",
    "    # Crear una carpeta con el nombre de la etiqueta\n",
    "    label_dir = os.path.join(corpus_dir, label)\n",
    "    os.makedirs(label_dir, exist_ok=True)\n",
    "\n",
    "    # Ruta del archivo dentro de la carpeta creada\n",
    "    file_path = os.path.join(label_dir, f\"{label}.txt\")\n",
    "\n",
    "    # Guardar todos los comentarios de la etiqueta en el archivo dentro de su carpeta\n",
    "    with open(file_path, 'w', encoding='utf-8') as f:\n",
    "        for comment in comments:\n",
    "            f.write(comment.replace('\\n', ' ') + '\\n')\n",
    "\n",
    "print(f\"Corpus successfully loaded in: {corpus_dir}\")"
   ]
  },
  {
   "cell_type": "code",
   "execution_count": 38,
   "id": "c96d84175ce0d2c7",
   "metadata": {
    "ExecuteTime": {
     "end_time": "2025-05-18T12:02:30.206627Z",
     "start_time": "2025-05-18T12:02:30.203130Z"
    }
   },
   "outputs": [],
   "source": [
    "nltk.download('punkt')\n",
    "\n",
    "# Load corpus\n",
    "corpus = CategorizedPlaintextCorpusReader(\n",
    "    corpus_dir,\n",
    "    r'.*\\.txt',\n",
    "    cat_pattern=r\"([^/.]+)/.*\"\n",
    ")"
   ]
  },
  {
   "cell_type": "code",
   "execution_count": 39,
   "id": "6c8eb384cdfa3b83",
   "metadata": {
    "ExecuteTime": {
     "end_time": "2025-05-18T12:02:30.225268Z",
     "start_time": "2025-05-18T12:02:30.222742Z"
    }
   },
   "outputs": [],
   "source": [
    "print(\"File IDs:\", corpus.fileids())\n",
    "print(\"Categories:\", corpus.categories())"
   ]
  },
  {
   "cell_type": "code",
   "execution_count": 40,
   "id": "a3cfc7d3e9a2b0bf",
   "metadata": {
    "ExecuteTime": {
     "end_time": "2025-05-18T12:05:11.647445Z",
     "start_time": "2025-05-18T12:05:11.643630Z"
    }
   },
   "outputs": [],
   "source": [
    "print(\"Primeras 10 palabras de 'toxic':\")\n",
    "print(corpus.words(categories='toxic')[:10])"
   ]
  },
  {
   "cell_type": "markdown",
   "id": "a2a90712",
   "metadata": {},
   "source": [
    "4. Corpus Analysis"
   ]
  },
  {
   "cell_type": "code",
   "execution_count": 41,
   "id": "53b9ebc4",
   "metadata": {},
   "outputs": [],
   "source": [
    "def lexical_diversity(text):\n",
    "    return len(set(text)) / len(text)\n",
    "\n",
    "def percentage(count, total):\n",
    "    return 100 * count / total\n",
    "\n",
    "# Lexical diversity of the entire corpus\n",
    "div_global = lexical_diversity(corpus.words(categories='non_toxic'))\n",
    "print(f\"Global lexical diversity: {div_global:.4f}\")"
   ]
  },
  {
   "cell_type": "code",
   "execution_count": 42,
   "id": "1238104e",
   "metadata": {},
   "outputs": [],
   "source": [
    "def preprocess_and_tokenize(text):\n",
    "    # Convert to lowercase\n",
    "    text = text.lower()\n",
    "    # Remove punctuation\n",
    "    text = ''.join(ch for ch in text if ch not in string.punctuation)\n",
    "    # Tokenize into words\n",
    "    return nltk.word_tokenize(text)\n",
    "\n",
    "# Preprocess and tokenize text by category\n",
    "tokens_by_category = {}\n",
    "for category in corpus.categories():\n",
    "    text = corpus.raw(categories=category)\n",
    "    tokens = preprocess_and_tokenize(text)\n",
    "    tokens_by_category[category] = tokens\n",
    "\n",
    "# Build a global vocabulary: most frequent words in the whole corpus\n",
    "all_tokens = [token for tokens in tokens_by_category.values() for token in tokens]\n",
    "all_words = FreqDist(all_tokens)\n",
    "\n",
    "# Select the 2000 most frequent words (or 5000 if you prefer)\n",
    "word_features = list(all_words)[:2000]\n",
    "\n",
    "print(\"Vocabulary size:\", len(word_features))\n",
    "print(\"First 10 features:\", word_features[:10])\n",
    "\n",
    "# Example: most frequent words by category\n",
    "for category, tokens in tokens_by_category.items():\n",
    "    fdist = FreqDist(tokens)\n",
    "    print(f\"\\nTop 5 words in {category}:\")\n",
    "    for word, freq in fdist.most_common(5):\n",
    "        print(f\"{word}: {freq}\")"
   ]
  },
  {
   "cell_type": "markdown",
   "id": "1bd7d7117f45e1d6",
   "metadata": {},
   "source": [
    "Import modules"
   ]
  },
  {
   "cell_type": "code",
   "execution_count": null,
   "id": "62251e13d707c4ab",
   "metadata": {
    "ExecuteTime": {
     "end_time": "2025-05-18T12:02:26.018331Z",
     "start_time": "2025-05-18T12:02:26.015787Z"
    }
   },
   "outputs": [],
   "source": [
    "import os\n",
    "import pandas as pd\n",
    "import matplotlib.pyplot as plt\n",
    "import seaborn as sns\n",
    "from nltk import FreqDist\n",
    "from nltk.corpus import CategorizedPlaintextCorpusReader\n",
    "import string"
   ]
  },
  {
   "cell_type": "markdown",
   "id": "7722b403d60fa28a",
   "metadata": {},
   "source": [
    "1. Data Download and Loading"
   ]
  },
  {
   "cell_type": "markdown",
   "id": "528121cec364f215",
   "metadata": {},
   "source": [
    "1.1 Loading Data with pandas"
   ]
  },
  {
   "cell_type": "code",
   "execution_count": 26,
   "id": "89919bed94647f3d",
   "metadata": {
    "ExecuteTime": {
     "end_time": "2025-05-18T12:03:35.175385Z",
     "start_time": "2025-05-18T12:03:33.777191Z"
    }
   },
   "outputs": [],
   "source": [
    "def load_data(train_path, test_path):\n",
    "    df_train = pd.read_csv(train_path)\n",
    "    df_test  = pd.read_csv(test_path)\n",
    "\n",
    "    label_cols = ['toxic', 'severe_toxic', 'obscene', 'threat', 'insult', 'identity_hate']\n",
    "    df_train['non_toxic'] = (df_train[label_cols].sum(axis=1) == 0).astype(int)\n",
    "\n",
    "    return df_train, df_test\n",
    "\n",
    "# Example usage\n",
    "df_train, df_test = load_data(\n",
    "    'Dataset/train.csv',\n",
    "    'Dataset/test.csv'\n",
    ")"
   ]
  },
  {
   "cell_type": "markdown",
   "id": "52932bb578eabb9d",
   "metadata": {},
   "source": [
    "1.2 Initial Inspection"
   ]
  },
  {
   "cell_type": "markdown",
   "id": "ab128bcff0ed9205",
   "metadata": {},
   "source": [
    "Display dimensions:"
   ]
  },
  {
   "cell_type": "code",
   "execution_count": 27,
   "id": "6dcd32b1fe9dbd9f",
   "metadata": {
    "ExecuteTime": {
     "end_time": "2025-05-18T12:02:28.623964Z",
     "start_time": "2025-05-18T12:02:28.621573Z"
    }
   },
   "outputs": [
    {
     "name": "stdout",
     "output_type": "stream",
     "text": [
      "Train shape: (159571, 9)\n",
      "Test shape: (153164, 2)\n"
     ]
    }
   ],
   "source": [
    "print(\"Train shape:\", df_train.shape)\n",
    "print(\"Test shape:\", df_test.shape)"
   ]
  },
  {
   "cell_type": "markdown",
   "id": "b01a1e45b20f14e1",
   "metadata": {},
   "source": [
    "Show first rows:"
   ]
  },
  {
   "cell_type": "code",
   "execution_count": 28,
   "id": "6197884840e9f270",
   "metadata": {
    "ExecuteTime": {
     "end_time": "2025-05-18T12:02:28.643399Z",
     "start_time": "2025-05-18T12:02:28.637833Z"
    }
   },
   "outputs": [
    {
     "data": {
      "text/html": [
       "<div>\n",
       "<style scoped>\n",
       "    .dataframe tbody tr th:only-of-type {\n",
       "        vertical-align: middle;\n",
       "    }\n",
       "\n",
       "    .dataframe tbody tr th {\n",
       "        vertical-align: top;\n",
       "    }\n",
       "\n",
       "    .dataframe thead th {\n",
       "        text-align: right;\n",
       "    }\n",
       "</style>\n",
       "<table border=\"1\" class=\"dataframe\">\n",
       "  <thead>\n",
       "    <tr style=\"text-align: right;\">\n",
       "      <th></th>\n",
       "      <th>id</th>\n",
       "      <th>comment_text</th>\n",
       "      <th>toxic</th>\n",
       "      <th>severe_toxic</th>\n",
       "      <th>obscene</th>\n",
       "      <th>threat</th>\n",
       "      <th>insult</th>\n",
       "      <th>identity_hate</th>\n",
       "      <th>non_toxic</th>\n",
       "    </tr>\n",
       "  </thead>\n",
       "  <tbody>\n",
       "    <tr>\n",
       "      <th>0</th>\n",
       "      <td>0000997932d777bf</td>\n",
       "      <td>Explanation\\r\\nWhy the edits made under my use...</td>\n",
       "      <td>0</td>\n",
       "      <td>0</td>\n",
       "      <td>0</td>\n",
       "      <td>0</td>\n",
       "      <td>0</td>\n",
       "      <td>0</td>\n",
       "      <td>1</td>\n",
       "    </tr>\n",
       "    <tr>\n",
       "      <th>1</th>\n",
       "      <td>000103f0d9cfb60f</td>\n",
       "      <td>D'aww! He matches this background colour I'm s...</td>\n",
       "      <td>0</td>\n",
       "      <td>0</td>\n",
       "      <td>0</td>\n",
       "      <td>0</td>\n",
       "      <td>0</td>\n",
       "      <td>0</td>\n",
       "      <td>1</td>\n",
       "    </tr>\n",
       "    <tr>\n",
       "      <th>2</th>\n",
       "      <td>000113f07ec002fd</td>\n",
       "      <td>Hey man, I'm really not trying to edit war. It...</td>\n",
       "      <td>0</td>\n",
       "      <td>0</td>\n",
       "      <td>0</td>\n",
       "      <td>0</td>\n",
       "      <td>0</td>\n",
       "      <td>0</td>\n",
       "      <td>1</td>\n",
       "    </tr>\n",
       "    <tr>\n",
       "      <th>3</th>\n",
       "      <td>0001b41b1c6bb37e</td>\n",
       "      <td>\"\\r\\nMore\\r\\nI can't make any real suggestions...</td>\n",
       "      <td>0</td>\n",
       "      <td>0</td>\n",
       "      <td>0</td>\n",
       "      <td>0</td>\n",
       "      <td>0</td>\n",
       "      <td>0</td>\n",
       "      <td>1</td>\n",
       "    </tr>\n",
       "    <tr>\n",
       "      <th>4</th>\n",
       "      <td>0001d958c54c6e35</td>\n",
       "      <td>You, sir, are my hero. Any chance you remember...</td>\n",
       "      <td>0</td>\n",
       "      <td>0</td>\n",
       "      <td>0</td>\n",
       "      <td>0</td>\n",
       "      <td>0</td>\n",
       "      <td>0</td>\n",
       "      <td>1</td>\n",
       "    </tr>\n",
       "  </tbody>\n",
       "</table>\n",
       "</div>"
      ],
      "text/plain": [
       "                 id                                       comment_text  toxic  \\\n",
       "0  0000997932d777bf  Explanation\\r\\nWhy the edits made under my use...      0   \n",
       "1  000103f0d9cfb60f  D'aww! He matches this background colour I'm s...      0   \n",
       "2  000113f07ec002fd  Hey man, I'm really not trying to edit war. It...      0   \n",
       "3  0001b41b1c6bb37e  \"\\r\\nMore\\r\\nI can't make any real suggestions...      0   \n",
       "4  0001d958c54c6e35  You, sir, are my hero. Any chance you remember...      0   \n",
       "\n",
       "   severe_toxic  obscene  threat  insult  identity_hate  non_toxic  \n",
       "0             0        0       0       0              0          1  \n",
       "1             0        0       0       0              0          1  \n",
       "2             0        0       0       0              0          1  \n",
       "3             0        0       0       0              0          1  \n",
       "4             0        0       0       0              0          1  "
      ]
     },
     "metadata": {},
     "output_type": "display_data"
    }
   ],
   "source": [
    "display(df_train.head())"
   ]
  },
  {
   "cell_type": "markdown",
   "id": "36fac5104794c55e",
   "metadata": {},
   "source": [
    "Null values by column in train:"
   ]
  },
  {
   "cell_type": "code",
   "execution_count": 29,
   "id": "654b1aa6276d9dc3",
   "metadata": {
    "ExecuteTime": {
     "end_time": "2025-05-18T12:02:28.703796Z",
     "start_time": "2025-05-18T12:02:28.680927Z"
    }
   },
   "outputs": [
    {
     "name": "stdout",
     "output_type": "stream",
     "text": [
      "id               0\n",
      "comment_text     0\n",
      "toxic            0\n",
      "severe_toxic     0\n",
      "obscene          0\n",
      "threat           0\n",
      "insult           0\n",
      "identity_hate    0\n",
      "non_toxic        0\n",
      "dtype: int64\n"
     ]
    }
   ],
   "source": [
    "print(df_train.isnull().sum())"
   ]
  },
  {
   "cell_type": "markdown",
   "id": "4df27d627c2c0395",
   "metadata": {},
   "source": [
    "Label distribution in train:"
   ]
  },
  {
   "cell_type": "code",
   "execution_count": 30,
   "id": "1b480f7af14aaf68",
   "metadata": {
    "ExecuteTime": {
     "end_time": "2025-05-18T12:02:28.755053Z",
     "start_time": "2025-05-18T12:02:28.747926Z"
    }
   },
   "outputs": [
    {
     "name": "stdout",
     "output_type": "stream",
     "text": [
      "non_toxic        143346\n",
      "toxic             15294\n",
      "obscene            8449\n",
      "insult             7877\n",
      "severe_toxic       1595\n",
      "identity_hate      1405\n",
      "threat              478\n",
      "dtype: int64\n"
     ]
    }
   ],
   "source": [
    "label_cols = ['toxic', 'severe_toxic', 'obscene', 'threat', 'insult', 'identity_hate', 'non_toxic']\n",
    "print(df_train[label_cols].sum().sort_values(ascending=False))"
   ]
  },
  {
   "cell_type": "code",
   "execution_count": 31,
   "id": "435f7578e309df57",
   "metadata": {
    "ExecuteTime": {
     "end_time": "2025-05-18T12:02:28.881063Z",
     "start_time": "2025-05-18T12:02:28.774913Z"
    }
   },
   "outputs": [
    {
     "data": {
      "image/png": "[encoded data removed]",
      "text/plain": [
       "<Figure size 1000x600 with 1 Axes>"
      ]
     },
     "metadata": {},
     "output_type": "display_data"
    }
   ],
   "source": [
    "plt.figure(figsize=(10,6))\n",
    "sns.barplot(x=df_train[label_cols].sum().index, y=df_train[label_cols].sum().values)\n",
    "plt.title('Label distribution')\n",
    "plt.title('Comment Distribution by Label')\n",
    "plt.ylabel('Number of Comments')\n",
    "plt.xlabel('Labels')\n",
    "plt.show()"
   ]
  },
  {
   "cell_type": "markdown",
   "id": "53320fafcd18443",
   "metadata": {},
   "source": [
    "2. First Analysis"
   ]
  },
  {
   "cell_type": "markdown",
   "id": "b94881a0101986fc",
   "metadata": {},
   "source": [
    "2.1 Missing Values and Null Checks"
   ]
  },
  {
   "cell_type": "code",
   "execution_count": 32,
   "id": "5c26d4dd1c74b282",
   "metadata": {
    "ExecuteTime": {
     "end_time": "2025-05-18T12:02:28.916861Z",
     "start_time": "2025-05-18T12:02:28.892872Z"
    }
   },
   "outputs": [
    {
     "data": {
      "text/plain": [
       "id               0\n",
       "comment_text     0\n",
       "toxic            0\n",
       "severe_toxic     0\n",
       "obscene          0\n",
       "threat           0\n",
       "insult           0\n",
       "identity_hate    0\n",
       "non_toxic        0\n",
       "dtype: int64"
      ]
     },
     "execution_count": 32,
     "metadata": {},
     "output_type": "execute_result"
    }
   ],
   "source": [
    "df_train.isnull().sum()"
   ]
  },
  {
   "cell_type": "markdown",
   "id": "6012d894e6896f99",
   "metadata": {},
   "source": [
    "2.2 Class Distribution"
   ]
  },
  {
   "cell_type": "markdown",
   "id": "dcfb35565e86acad",
   "metadata": {},
   "source": [
    "The dataset has six target columns: toxic, severe_toxic, obscene, threat, insult, identity_hate.\n",
    "\n",
    "Display the count and proportion of each class:"
   ]
  },
  {
   "cell_type": "code",
   "execution_count": 33,
   "id": "fe2af2f4e4e09927",
   "metadata": {
    "ExecuteTime": {
     "end_time": "2025-05-18T12:02:28.963508Z",
     "start_time": "2025-05-18T12:02:28.954833Z"
    }
   },
   "outputs": [
    {
     "name": "stdout",
     "output_type": "stream",
     "text": [
      "                count  proportion\n",
      "non_toxic      143346    0.898321\n",
      "toxic           15294    0.095844\n",
      "obscene          8449    0.052948\n",
      "insult           7877    0.049364\n",
      "severe_toxic     1595    0.009996\n",
      "identity_hate    1405    0.008805\n",
      "threat            478    0.002996\n"
     ]
    }
   ],
   "source": [
    "label_cols = ['toxic', 'severe_toxic', 'obscene', 'threat', 'insult', 'identity_hate', 'non_toxic']\n",
    "class_counts = df_train[label_cols].sum().sort_values(ascending=False)\n",
    "class_props = class_counts / len(df_train)\n",
    "print(pd.concat([class_counts, class_props], axis=1, keys=['count','proportion']))"
   ]
  },
  {
   "cell_type": "markdown",
   "id": "95fa0c639562aeb9",
   "metadata": {},
   "source": [
    "2.3 Comment Length Analysis"
   ]
  },
  {
   "cell_type": "markdown",
   "id": "e95aefa32145a028",
   "metadata": {},
   "source": [
    "Compute length of each comment (in characters and words):"
   ]
  },
  {
   "cell_type": "code",
   "execution_count": 34,
   "id": "65f9f6409bb58223",
   "metadata": {
    "ExecuteTime": {
     "end_time": "2025-05-18T12:02:29.656799Z",
     "start_time": "2025-05-18T12:02:29.045535Z"
    }
   },
   "outputs": [
    {
     "data": {
      "text/html": [
       "<div>\n",
       "<style scoped>\n",
       "    .dataframe tbody tr th:only-of-type {\n",
       "        vertical-align: middle;\n",
       "    }\n",
       "\n",
       "    .dataframe tbody tr th {\n",
       "        vertical-align: top;\n",
       "    }\n",
       "\n",
       "    .dataframe thead th {\n",
       "        text-align: right;\n",
       "    }\n",
       "</style>\n",
       "<table border=\"1\" class=\"dataframe\">\n",
       "  <thead>\n",
       "    <tr style=\"text-align: right;\">\n",
       "      <th></th>\n",
       "      <th>char_count</th>\n",
       "      <th>word_count</th>\n",
       "    </tr>\n",
       "  </thead>\n",
       "  <tbody>\n",
       "    <tr>\n",
       "      <th>count</th>\n",
       "      <td>159571.000000</td>\n",
       "      <td>159571.000000</td>\n",
       "    </tr>\n",
       "    <tr>\n",
       "      <th>mean</th>\n",
       "      <td>396.593961</td>\n",
       "      <td>67.273527</td>\n",
       "    </tr>\n",
       "    <tr>\n",
       "      <th>std</th>\n",
       "      <td>594.387869</td>\n",
       "      <td>99.230702</td>\n",
       "    </tr>\n",
       "    <tr>\n",
       "      <th>min</th>\n",
       "      <td>6.000000</td>\n",
       "      <td>1.000000</td>\n",
       "    </tr>\n",
       "    <tr>\n",
       "      <th>25%</th>\n",
       "      <td>97.000000</td>\n",
       "      <td>17.000000</td>\n",
       "    </tr>\n",
       "    <tr>\n",
       "      <th>50%</th>\n",
       "      <td>207.000000</td>\n",
       "      <td>36.000000</td>\n",
       "    </tr>\n",
       "    <tr>\n",
       "      <th>75%</th>\n",
       "      <td>438.000000</td>\n",
       "      <td>75.000000</td>\n",
       "    </tr>\n",
       "    <tr>\n",
       "      <th>max</th>\n",
       "      <td>5000.000000</td>\n",
       "      <td>1411.000000</td>\n",
       "    </tr>\n",
       "  </tbody>\n",
       "</table>\n",
       "</div>"
      ],
      "text/plain": [
       "          char_count     word_count\n",
       "count  159571.000000  159571.000000\n",
       "mean      396.593961      67.273527\n",
       "std       594.387869      99.230702\n",
       "min         6.000000       1.000000\n",
       "25%        97.000000      17.000000\n",
       "50%       207.000000      36.000000\n",
       "75%       438.000000      75.000000\n",
       "max      5000.000000    1411.000000"
      ]
     },
     "metadata": {},
     "output_type": "display_data"
    }
   ],
   "source": [
    "df_train['char_count'] = df_train['comment_text'].apply(len)\n",
    "df_train['word_count'] = df_train['comment_text'].apply(lambda x: len(x.split()))\n",
    "display(df_train[['char_count','word_count']].describe())"
   ]
  },
  {
   "cell_type": "markdown",
   "id": "2e79011d6cc1a29b",
   "metadata": {},
   "source": [
    "Plot histograms of comment lengths:"
   ]
  },
  {
   "cell_type": "code",
   "execution_count": 35,
   "id": "22be53cb4a3c0297",
   "metadata": {
    "ExecuteTime": {
     "end_time": "2025-05-18T12:02:29.794089Z",
     "start_time": "2025-05-18T12:02:29.668301Z"
    }
   },
   "outputs": [
    {
     "data": {
      "image/png": "[encoded data removed]",
      "text/plain": [
       "<Figure size 800x400 with 1 Axes>"
      ]
     },
     "metadata": {},
     "output_type": "display_data"
    }
   ],
   "source": [
    "plt.figure(figsize=(8,4))\n",
    "df_train['word_count'].hist(bins=50)\n",
    "plt.title('Distribution of Comment Word Counts')\n",
    "plt.xlabel('Word Count')\n",
    "plt.ylabel('Frequency')\n",
    "plt.show()"
   ]
  },
  {
   "cell_type": "markdown",
   "id": "ef4007cc1923293d",
   "metadata": {},
   "source": [
    "2.4 Sample Comments by Category"
   ]
  },
  {
   "cell_type": "markdown",
   "id": "7ef9ed9b221f1b83",
   "metadata": {},
   "source": [
    "Show example comments for each label where the label is 1:"
   ]
  },
  {
   "cell_type": "code",
   "execution_count": 36,
   "id": "5b378adfcf9cdb73",
   "metadata": {
    "ExecuteTime": {
     "end_time": "2025-05-18T12:02:29.839889Z",
     "start_time": "2025-05-18T12:02:29.805626Z"
    }
   },
   "outputs": [
    {
     "name": "stdout",
     "output_type": "stream",
     "text": [
      "\n",
      "Examples of toxic comments:\n",
      "-  Hi! \n",
      "\n",
      "I wanna rape you!\n",
      "-  Terrorize \n",
      "I will terrorise you for as long as you live - you are an arrogant, disgusting and rude excuse for a human being & you are going to die soon so I suggest you stop threatening people you bastard.\n",
      "\n",
      "Examples of severe_toxic comments:\n",
      "-  \"\n",
      "\n",
      " WHAT  IN THE FUCK ARE YOU REFERRING TOO \n",
      "\n",
      "I HAVE NO IDEA WHAT THE PISS YOU'RE REFERRING TOO, OR WHY YOU BOTHERED TO WRITE ME.  LISTEN I'VE ADDED PLENTY TO THESE PAGE INCLUDING A \"\"SMASHING\"\" ARTICLE ON SMASHED GLADYS...BUT THAT REALLY ISNT ANY OF YOU BUSSINESS NOW IS IT.  IF SOMEBODY HAS A PROBLEM WITH ANYTHING THAT I WROTE THEM I ASSUME THEY CAN CONTACT ME THROUGH REGULAR MEANS WITHOUT YOU HAVING TO \"\"WIPE THEIR ASS\"\" FOR THEM.  IF I CAPITALIZE IT IS NOT MEANT NECCISARYLY AS AN INSULT, AND MOST PEOPLE I WRITE UNDERSTAND THAT.  IN THIS CASE IT IS BECAUSE MY CAPS BUTTON ISNT WORKING FOR SOME REASON.  SO HERES AN IDEA FOR YOU...DONT SHOVE YOUR NOSE IN MY BUSSINESS, I AM CLOSE FREINDS WITH ADMINISTRATOR UNCLEG AND IM SURE HE WOULD HAVE LET ME KNOW IF I DID SOMETHING INNAPPROPRIATE.  TRY INSTEAD TO REMOVE THE PLANK OUT OF YOUR OWN EYE, RATHER THAN BITCHING ABOUT SOMETHING YOU THINK MAY HAVE OFFENED SOMEONE.  I APPRECIATE YOU COMMENTS \"\n",
      "-  takes it up the arse.  takes it up the arse.  takes it up the arse.  takes it up the arse.  takes it up the arse.  takes it up the arse.  takes it up the arse.  takes it up the arse.  takes it up the arse.  takes it up the arse.  takes it up the arse.  takes it up the arse.  takes it up the arse.  takes it up the arse.  takes it up the arse.  takes it up the arse.  takes it up the arse.  takes it up the arse.  takes it up the arse.  takes it up the arse.  takes it up the arse.  takes it up the arse.  takes it up the arse.  takes it up the arse.  takes it up the arse.  takes it up the arse.  takes it up the arse.  takes it up the arse.  takes it up the arse.  takes it up the arse.  takes it up the arse.  takes it up the arse.  takes it up the arse.  takes it up the arse.  takes it up the arse.  takes it up the arse.  takes it up the arse.  takes it up the arse.  takes it up the arse.  takes it up the arse.  takes it up the arse.  takes it up the arse.  takes it up the arse.  takes it up the arse.  takes it up the arse.  takes it up the arse.  takes it up the arse.  takes it up the arse.  takes it up the arse.  takes it up the arse.  takes it up the arse.  takes it up the arse.  takes it up the arse.  takes it up the arse.  takes it up the arse.  takes it up the arse.  takes it up the arse.  takes it up the arse.  takes it up the arse.  takes it up the arse.  takes it up the arse.  takes it up the arse.  takes it up the arse.  takes it up the arse.  takes it up the arse.  takes it up the arse.  takes it up the arse.  takes it up the arse.  takes it up the arse.  takes it up the arse.  takes it up the arse.  takes it up the arse.  takes it up the arse.  takes it up the arse.  takes it up the arse.  takes it up the arse.  takes it up the arse.  takes it up the arse.  takes it up the arse.  takes it up the arse.  takes it up the arse.  takes it up the arse.  takes it up the arse.  takes it up the arse.  takes it up the arse.  takes it up the arse.  takes it up the arse.  takes it up the arse.  takes it up the arse.  takes it up the arse.  takes it up the arse.  takes it up the arse.  takes it up the arse.  takes it up the arse.  takes it up the arse.  takes it up the arse.  takes it up the arse.  takes it up the arse.  takes it up the arse.  takes it up the arse.  takes it up the arse.  takes it up the arse.  takes it up the arse.  takes it up the arse.  takes it up the arse.  takes it up the arse.  takes it up the arse.  takes it up the arse.  takes it up the arse.  takes it up the arse.  takes it up the arse.  takes it up the arse.  takes it up the arse.\n",
      "\n",
      "Examples of obscene comments:\n",
      "-  You are an utter fucking faggot...u need a life outside of wikipedia...maybe a didlo fuk by ur mom?\n",
      "-  WTF! \n",
      "\n",
      "u fckin faggot ass mutha fcker u jus re-did and delted my work and my gay school! WTF IS UR PROMBLEM U GAY CHILD MOLESTER!!!!\n",
      "\n",
      "Examples of threat comments:\n",
      "-  if you do not stop, the wikapidea nijas will come to your house and kill you\n",
      "-  Fuck you Sarcasticidealist i will kill you with my gun as well bitch ass motherfucker}}\n",
      "\n",
      "Examples of insult comments:\n",
      "-  FUCK YOU ALL, LOSERS \n",
      "\n",
      "FUCK OFF MY PAGE, FAGS\n",
      "-  What are you retarded? I already am blocked. What a fucking moron.\n",
      "\n",
      "Examples of identity_hate comments:\n",
      "-  REDIRECT Talk:Bolivian chinchilla rat\n",
      "-  TO SITUSH(PAKISTANI  PIG) \n",
      "\n",
      "What  is your problem, you bloody muslim pakistani, why the hell are you jealous of HINDUS and SIKHS ???\n",
      "\n",
      "you born out of shit of a pig just stay away from this article...we don't prefer pakistani muslim pigs touching this pious article.\n",
      "\n",
      "Examples of non_toxic comments:\n",
      "-  \"\n",
      "\n",
      "Oh, don't worry about me, Sandstein. I'm of no strong opinion as to what is \"\"well.\"\" Editing Wikipedia is not a personal benefit; if it were, I'd be COI! I do have some unfinished business, both with articles and \"\"arbitration or sanctions,\"\" such as the RfAr/Clarification and a dispute over my last block, which was ostensibly about the sanction and which I hope can be resolved without much fuss. On the other hand, I hoped that in the past as well, but I can't control how others respond. I understand your recommendation and see it as well-motivated. Thanks.   \"\n",
      "-  Are you trying to dispute that fact?\n"
     ]
    }
   ],
   "source": [
    "for col in label_cols:\n",
    "    print(f\"\\nExamples of {col} comments:\")\n",
    "    examples = df_train[df_train[col]==1]['comment_text'].sample(2, random_state=42).tolist()\n",
    "    for ex in examples:\n",
    "        print(\"- \", ex)"
   ]
  },
  {
   "cell_type": "markdown",
   "id": "98441ade1d051432",
   "metadata": {},
   "source": [
    "3. Create corpus"
   ]
  },
  {
   "cell_type": "code",
   "execution_count": 37,
   "id": "e6b8f2144eb88bcc",
   "metadata": {
    "ExecuteTime": {
     "end_time": "2025-05-18T12:02:30.183874Z",
     "start_time": "2025-05-18T12:02:29.864086Z"
    }
   },
   "outputs": [
    {
     "name": "stdout",
     "output_type": "stream",
     "text": [
      "Corpus successfully loaded in: corpus_by_label\n"
     ]
    }
   ],
   "source": [
    "# Crear el directorio principal para almacenar el corpus\n",
    "corpus_dir = 'corpus_by_label'\n",
    "os.makedirs(corpus_dir, exist_ok=True)\n",
    "\n",
    "# Guardar los comentarios en carpetas y archivos separados por etiqueta\n",
    "for label in label_cols:\n",
    "    comments = df_train[df_train[label] == 1]['comment_text'].dropna()\n",
    "\n",
    "    # Crear una carpeta con el nombre de la etiqueta\n",
    "    label_dir = os.path.join(corpus_dir, label)\n",
    "    os.makedirs(label_dir, exist_ok=True)\n",
    "\n",
    "    # Ruta del archivo dentro de la carpeta creada\n",
    "    file_path = os.path.join(label_dir, f\"{label}.txt\")\n",
    "\n",
    "    # Guardar todos los comentarios de la etiqueta en el archivo dentro de su carpeta\n",
    "    with open(file_path, 'w', encoding='utf-8') as f:\n",
    "        for comment in comments:\n",
    "            f.write(comment.replace('\\n', ' ') + '\\n')\n",
    "\n",
    "print(f\"Corpus successfully loaded in: {corpus_dir}\")"
   ]
  },
  {
   "cell_type": "code",
   "execution_count": 38,
   "id": "c96d84175ce0d2c7",
   "metadata": {
    "ExecuteTime": {
     "end_time": "2025-05-18T12:02:30.206627Z",
     "start_time": "2025-05-18T12:02:30.203130Z"
    }
   },
   "outputs": [
    {
     "name": "stderr",
     "output_type": "stream",
     "text": [
      "[nltk_data] Downloading package punkt to\n",
      "[nltk_data]     C:\\Users\\Jorge\\AppData\\Roaming\\nltk_data...\n",
      "[nltk_data]   Package punkt is already up-to-date!\n"
     ]
    }
   ],
   "source": [
    "nltk.download('punkt')\n",
    "\n",
    "# Load corpus\n",
    "corpus = CategorizedPlaintextCorpusReader(\n",
    "    corpus_dir,\n",
    "    r'.*\\.txt',\n",
    "    cat_pattern=r\"([^/.]+)/.*\"\n",
    ")"
   ]
  },
  {
   "cell_type": "code",
   "execution_count": 39,
   "id": "6c8eb384cdfa3b83",
   "metadata": {
    "ExecuteTime": {
     "end_time": "2025-05-18T12:02:30.225268Z",
     "start_time": "2025-05-18T12:02:30.222742Z"
    }
   },
   "outputs": [
    {
     "name": "stdout",
     "output_type": "stream",
     "text": [
      "File IDs: ['identity_hate/identity_hate.txt', 'insult/insult.txt', 'non_toxic/non_toxic.txt', 'obscene/obscene.txt', 'severe_toxic/severe_toxic.txt', 'threat/threat.txt', 'toxic/toxic.txt']\n",
      "Categories: ['identity_hate', 'insult', 'non_toxic', 'obscene', 'severe_toxic', 'threat', 'toxic']\n"
     ]
    }
   ],
   "source": [
    "print(\"File IDs:\", corpus.fileids())\n",
    "print(\"Categories:\", corpus.categories())"
   ]
  },
  {
   "cell_type": "code",
   "execution_count": 40,
   "id": "a3cfc7d3e9a2b0bf",
   "metadata": {
    "ExecuteTime": {
     "end_time": "2025-05-18T12:05:11.647445Z",
     "start_time": "2025-05-18T12:05:11.643630Z"
    }
   },
   "outputs": [
    {
     "name": "stdout",
     "output_type": "stream",
     "text": [
      "Primeras 10 palabras de 'toxic':\n",
      "['COCKSUCKER', 'BEFORE', 'YOU', 'PISS', 'AROUND', 'ON', 'MY', 'WORK', 'Hey', '...']\n"
     ]
    }
   ],
   "source": [
    "print(\"Primeras 10 palabras de 'toxic':\")\n",
    "print(corpus.words(categories='toxic')[:10])"
   ]
  },
  {
   "cell_type": "markdown",
   "id": "a2a90712",
   "metadata": {},
   "source": [
    "4. Corpus Analysis"
   ]
  },
  {
   "cell_type": "code",
   "execution_count": 41,
   "id": "53b9ebc4",
   "metadata": {},
   "outputs": [
    {
     "name": "stdout",
     "output_type": "stream",
     "text": [
      "Global lexical diversity: 0.0188\n"
     ]
    }
   ],
   "source": [
    "def lexical_diversity(text):\n",
    "    return len(set(text)) / len(text)\n",
    "\n",
    "def percentage(count, total):\n",
    "    return 100 * count / total\n",
    "\n",
    "# Lexical diversity of the entire corpus\n",
    "div_global = lexical_diversity(corpus.words(categories='non_toxic'))\n",
    "print(f\"Global lexical diversity: {div_global:.4f}\")"
   ]
  },
  {
   "cell_type": "code",
   "execution_count": 42,
   "id": "1238104e",
   "metadata": {},
   "outputs": [
    {
     "ename": "NameError",
     "evalue": "name 'FreqDist' is not defined",
     "output_type": "error",
     "traceback": [
      "\u001b[31m---------------------------------------------------------------------------\u001b[39m",
      "\u001b[31mNameError\u001b[39m                                 Traceback (most recent call last)",
      "\u001b[36mCell\u001b[39m\u001b[36m \u001b[39m\u001b[32mIn[42]\u001b[39m\u001b[32m, line 18\u001b[39m\n\u001b[32m     16\u001b[39m \u001b[38;5;66;03m# Build a global vocabulary: most frequent words in the whole corpus\u001b[39;00m\n\u001b[32m     17\u001b[39m all_tokens = [token \u001b[38;5;28;01mfor\u001b[39;00m tokens \u001b[38;5;129;01min\u001b[39;00m tokens_by_category.values() \u001b[38;5;28;01mfor\u001b[39;00m token \u001b[38;5;129;01min\u001b[39;00m tokens]\n\u001b[32m---> \u001b[39m\u001b[32m18\u001b[39m all_words = \u001b[43mFreqDist\u001b[49m(all_tokens)\n\u001b[32m     20\u001b[39m \u001b[38;5;66;03m# Select the 2000 most frequent words (or 5000 if you prefer)\u001b[39;00m\n\u001b[32m     21\u001b[39m word_features = \u001b[38;5;28mlist\u001b[39m(all_words)[:\u001b[32m2000\u001b[39m]\n",
      "\u001b[31mNameError\u001b[39m: name 'FreqDist' is not defined"
     ]
    }
   ],
   "source": [
    "def preprocess_and_tokenize(text):\n",
    "    # Convert to lowercase\n",
    "    text = text.lower()\n",
    "    # Remove punctuation\n",
    "    text = ''.join(ch for ch in text if ch not in string.punctuation)\n",
    "    # Tokenize into words\n",
    "    return nltk.word_tokenize(text)\n",
    "\n",
    "# Preprocess and tokenize text by category\n",
    "tokens_by_category = {}\n",
    "for category in corpus.categories():\n",
    "    text = corpus.raw(categories=category)\n",
    "    tokens = preprocess_and_tokenize(text)\n",
    "    tokens_by_category[category] = tokens\n",
    "\n",
    "# Build a global vocabulary: most frequent words in the whole corpus\n",
    "all_tokens = [token for tokens in tokens_by_category.values() for token in tokens]\n",
    "all_words = FreqDist(all_tokens)\n",
    "\n",
    "# Select the 2000 most frequent words (or 5000 if you prefer)\n",
    "word_features = list(all_words)[:2000]\n",
    "\n",
    "print(\"Vocabulary size:\", len(word_features))\n",
    "print(\"First 10 features:\", word_features[:10])\n",
    "\n",
    "# Example: most frequent words by category\n",
    "for category, tokens in tokens_by_category.items():\n",
    "    fdist = FreqDist(tokens)\n",
    "    print(f\"\\nTop 5 words in {category}:\")\n",
    "    for word, freq in fdist.most_common(5):\n",
    "        print(f\"{word}: {freq}\")"
   ]
  }
 ],
 "metadata": {
  "kernelspec": {
   "display_name": "Python 3",
   "language": "python",
   "name": "python3"
  },
  "language_info": {
   "codemirror_mode": {
    "name": "ipython",
    "version": 3
   },
   "file_extension": ".py",
   "mimetype": "text/x-python",
   "name": "python",
   "nbconvert_exporter": "python",
   "pygments_lexer": "ipython3",
   "version": "3.11.9"
  }
 },
 "nbformat": 4,
 "nbformat_minor": 5
}
