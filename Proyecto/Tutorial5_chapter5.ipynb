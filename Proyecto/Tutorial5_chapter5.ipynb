{
 "cells": [
  {
   "cell_type": "markdown",
   "id": "189e97a6fb1dde7c",
   "metadata": {},
   "source": [
    "Chapter 5:"
   ]
  },
  {
   "cell_type": "code",
   "id": "3de0f9d8",
   "metadata": {
    "ExecuteTime": {
     "end_time": "2025-05-12T09:26:25.595469Z",
     "start_time": "2025-05-12T09:26:25.259441Z"
    }
   },
   "source": [
    "# Cell 1: Imports y recursos NLTK\n",
    "import nltk\n",
    "from nltk import word_tokenize, FreqDist\n",
    "# Descargar recursos necesarios\n",
    "nltk.download('punkt')                      # Tokenizador\n",
    "nltk.download('averaged_perceptron_tagger')\n",
    "nltk.download('averaged_perceptron_tagger_eng')"
   ],
   "outputs": [
    {
     "name": "stderr",
     "output_type": "stream",
     "text": [
      "[nltk_data] Downloading package punkt to\n",
      "[nltk_data]     C:\\Users\\hugom\\AppData\\Roaming\\nltk_data...\n",
      "[nltk_data]   Package punkt is already up-to-date!\n",
      "[nltk_data] Downloading package averaged_perceptron_tagger to\n",
      "[nltk_data]     C:\\Users\\hugom\\AppData\\Roaming\\nltk_data...\n",
      "[nltk_data]   Package averaged_perceptron_tagger is already up-to-\n",
      "[nltk_data]       date!\n",
      "[nltk_data] Downloading package averaged_perceptron_tagger_eng to\n",
      "[nltk_data]     C:\\Users\\hugom\\AppData\\Roaming\\nltk_data...\n",
      "[nltk_data]   Unzipping taggers\\averaged_perceptron_tagger_eng.zip.\n"
     ]
    },
    {
     "data": {
      "text/plain": [
       "True"
      ]
     },
     "execution_count": 11,
     "metadata": {},
     "output_type": "execute_result"
    }
   ],
   "execution_count": 11
  },
  {
   "cell_type": "code",
   "id": "2396a1e3",
   "metadata": {
    "ExecuteTime": {
     "end_time": "2025-05-12T09:27:32.190635Z",
     "start_time": "2025-05-12T09:26:28.472399Z"
    }
   },
   "source": [
    "# Cell 2: Cargar y etiquetar\n",
    "\n",
    "from nltk.corpus import PlaintextCorpusReader\n",
    "\n",
    "# Usar raw string para evitar problemas de escape\n",
    "corpus = PlaintextCorpusReader('corpus_by_label', r'.*\\.txt')\n",
    "\n",
    "total_sents = []\n",
    "tagged_sents = []\n",
    "for fid in corpus.fileids():\n",
    "    for line in corpus.raw(fid).splitlines():\n",
    "        if line.strip():\n",
    "            tokens = word_tokenize(line)\n",
    "            total_sents.append(tokens)\n",
    "            tagged_sents.append(nltk.pos_tag(tokens))\n",
    "print(f\"Total oraciones: {len(total_sents)}\")"
   ],
   "outputs": [
    {
     "name": "stdout",
     "output_type": "stream",
     "text": [
      "Total oraciones: 35098\n"
     ]
    }
   ],
   "execution_count": 12
  },
  {
   "cell_type": "code",
   "id": "6de45788",
   "metadata": {
    "ExecuteTime": {
     "end_time": "2025-05-12T09:28:37.125133Z",
     "start_time": "2025-05-12T09:27:39.815513Z"
    }
   },
   "source": [
    "# Cell 3: Etiquetado automático\n",
    "tagged_sents = [nltk.pos_tag(sent) for sent in total_sents]\n",
    "\n",
    "for sent in tagged_sents[:5]:\n",
    "    print(sent)"
   ],
   "outputs": [
    {
     "name": "stdout",
     "output_type": "stream",
     "text": [
      "[('You', 'PRP'), ('are', 'VBP'), ('gay', 'JJ'), ('or', 'CC'), ('antisemmitian', 'JJ'), ('?', '.'), ('Archangel', 'NNP'), ('WHite', 'NNP'), ('Tiger', 'NNP'), ('Meow', 'NNP'), ('!', '.'), ('Greetingshhh', 'NNP'), ('!', '.'), ('Uh', 'NNP'), (',', ','), ('there', 'EX'), ('are', 'VBP'), ('two', 'CD'), ('ways', 'NNS'), (',', ','), ('why', 'WRB'), ('you', 'PRP'), ('do', 'VBP'), ('erased', 'VBN'), ('my', 'PRP$'), ('comment', 'NN'), ('about', 'IN'), ('WW2', 'NNP'), (',', ','), ('that', 'IN'), ('holocaust', 'NN'), ('was', 'VBD'), ('brutally', 'RB'), ('slaying', 'VBG'), ('of', 'IN'), ('Jews', 'NNP'), ('and', 'CC'), ('not', 'RB'), ('gays/Gypsys/Slavs/anyone', 'VB'), ('...', ':'), ('1', 'CD'), ('-', ':'), ('If', 'IN'), ('you', 'PRP'), ('are', 'VBP'), ('anti-semitian', 'JJ'), (',', ','), ('than', 'IN'), ('shave', 'VB'), ('your', 'PRP$'), ('head', 'NN'), ('bald', 'NN'), ('and', 'CC'), ('go', 'VB'), ('to', 'TO'), ('the', 'DT'), ('skinhead', 'JJ'), ('meetings', 'NNS'), ('!', '.'), ('2', 'CD'), ('-', ':'), ('If', 'IN'), ('you', 'PRP'), ('doubt', 'VBP'), ('words', 'NNS'), ('of', 'IN'), ('the', 'DT'), ('Bible', 'NNP'), (',', ','), ('that', 'IN'), ('homosexuality', 'NN'), ('is', 'VBZ'), ('a', 'DT'), ('deadly', 'JJ'), ('sin', 'NN'), (',', ','), ('make', 'VB'), ('a', 'DT'), ('pentagram', 'NN'), ('tatoo', 'NN'), ('on', 'IN'), ('your', 'PRP$'), ('forehead', 'NN'), ('go', 'VBP'), ('to', 'TO'), ('the', 'DT'), ('satanistic', 'JJ'), ('masses', 'NNS'), ('with', 'IN'), ('your', 'PRP$'), ('gay', 'NN'), ('pals', 'NNS'), ('!', '.'), ('3', 'CD'), ('-', ':'), ('First', 'NNP'), ('and', 'CC'), ('last', 'JJ'), ('warning', 'NN'), (',', ','), ('you', 'PRP'), ('fucking', 'VBP'), ('gay', 'JJ'), ('-', ':'), ('I', 'PRP'), ('wo', 'MD'), (\"n't\", 'RB'), ('appreciate', 'VB'), ('if', 'IN'), ('any', 'DT'), ('more', 'JJR'), ('nazi', 'JJ'), ('shwain', 'NN'), ('would', 'MD'), ('write', 'VB'), ('in', 'IN'), ('my', 'PRP$'), ('page', 'NN'), ('!', '.'), ('I', 'PRP'), ('do', 'VBP'), (\"n't\", 'RB'), ('wish', 'VB'), ('to', 'TO'), ('talk', 'VB'), ('to', 'TO'), ('you', 'PRP'), ('anymore', 'RB'), ('!', '.'), ('Beware', 'NNP'), ('of', 'IN'), ('the', 'DT'), ('Dark', 'NNP'), ('Side', 'NNP'), ('!', '.')]\n",
      "[('A', 'DT'), ('pair', 'NN'), ('of', 'IN'), ('jew-hating', 'JJ'), ('weiner', 'NN'), ('nazi', 'JJ'), ('schmucks', 'NNS'), ('.', '.')]\n",
      "[('I', 'PRP'), ('think', 'VBP'), ('that', 'IN'), ('your', 'PRP$'), ('a', 'DT'), ('Fagget', 'NNP'), ('get', 'VB'), ('a', 'DT'), ('oife', 'NN'), ('and', 'CC'), ('burn', 'NN'), ('in', 'IN'), ('Hell', 'NNP'), ('I', 'PRP'), ('hate', 'VBP'), ('you', 'PRP'), (\"'m\", 'VBP'), ('sorry', 'JJ'), ('we', 'PRP'), ('cant', 'VBP'), ('have', 'VBP'), ('any', 'DT'), ('more', 'JJR'), ('sex', 'NN'), ('i', 'NN'), (\"'m\", 'VBP'), ('running', 'VBG'), ('out', 'IN'), ('of', 'IN'), ('conndoms', 'NNS')]\n",
      "[('Kill', 'NNP'), ('all', 'DT'), ('niggers', 'NNS'), ('.', '.'), ('I', 'PRP'), ('have', 'VBP'), ('hard', 'JJ'), (',', ','), ('that', 'IN'), ('others', 'NNS'), ('have', 'VBP'), ('said', 'VBD'), ('this', 'DT'), ('..', 'NN'), ('should', 'MD'), ('this', 'DT'), ('be', 'VB'), ('included', 'VBN'), ('?', '.'), ('That', 'DT'), ('racists', 'VBZ'), ('sometimes', 'RB'), ('say', 'VB'), ('these', 'DT'), ('.', '.')]\n",
      "[('u', 'JJ'), ('r', 'NN'), ('a', 'DT'), ('tw', 'NN'), ('@', 'NNP'), ('fuck', 'VBD'), ('off', 'RP'), ('u', 'JJ'), ('gay', 'NN'), ('boy.U', 'NN'), ('r', 'NN'), ('smelly.Fuck', 'VBD'), ('ur', 'JJ'), ('mum', 'NN'), ('poopie', 'NN')]\n"
     ]
    }
   ],
   "execution_count": 13
  },
  {
   "cell_type": "code",
   "id": "56b46951",
   "metadata": {
    "ExecuteTime": {
     "end_time": "2025-05-12T09:28:54.066380Z",
     "start_time": "2025-05-12T09:28:53.305458Z"
    }
   },
   "source": [
    "# Cell 4: Análisis de frecuencias de etiquetas\n",
    "from nltk import FreqDist\n",
    "\n",
    "all_tags = [tag for sent in tagged_sents for (_, tag) in sent]\n",
    "fd = FreqDist(all_tags)\n",
    "\n",
    "print(\"Top 15 etiquetas en tu corpus:\", fd.most_common(15))"
   ],
   "outputs": [
    {
     "name": "stdout",
     "output_type": "stream",
     "text": [
      "Top 15 etiquetas en tu corpus: [('NNP', 410863), ('NN', 252439), ('.', 245997), ('PRP', 162664), ('IN', 125392), ('JJ', 124416), ('DT', 119706), ('VBP', 106965), ('VB', 81394), ('RB', 79637), (',', 62598), ('NNS', 55904), ('VBZ', 50244), ('CC', 41986), ('PRP$', 36157)]\n"
     ]
    }
   ],
   "execution_count": 14
  },
  {
   "cell_type": "code",
   "id": "518fe026",
   "metadata": {
    "ExecuteTime": {
     "end_time": "2025-05-12T09:28:58.748602Z",
     "start_time": "2025-05-12T09:28:58.260063Z"
    }
   },
   "source": [
    "# Cell 5: Guardar el corpus etiquetado en archivos por etiqueta original\n",
    "import os\n",
    "output_dir = 'tagged_corpus'\n",
    "os.makedirs(output_dir, exist_ok=True)\n",
    "offset = 0\n",
    "for fid in label_files:\n",
    "    comments = [c for c in corpus.raw(fid).splitlines() if c.strip()]\n",
    "    n = len(comments)\n",
    "    with open(os.path.join(output_dir, fid.replace('.txt', '_tagged.txt')), 'w', encoding='utf-8') as f:\n",
    "        for sent in tagged_sents[offset:offset+n]:\n",
    "            f.write(' '.join(f\"{w}/{t}\" for w, t in sent) + '\\n')\n",
    "    offset += n\n",
    "print(f\"Corpus etiquetado guardado en: {output_dir}\")"
   ],
   "outputs": [
    {
     "name": "stdout",
     "output_type": "stream",
     "text": [
      "Corpus etiquetado guardado en: tagged_corpus\n"
     ]
    }
   ],
   "execution_count": 15
  },
  {
   "cell_type": "code",
   "id": "0223967e",
   "metadata": {
    "ExecuteTime": {
     "end_time": "2025-05-12T09:29:04.419659Z",
     "start_time": "2025-05-12T09:29:01.803310Z"
    }
   },
   "source": [
    "# Cell 6: Performance del Lookup Tagger con tu corpus\n",
    "from nltk import FreqDist, ConditionalFreqDist\n",
    "import matplotlib.pyplot as plt\n",
    "\n",
    "# Preparar datos para modelo lookup\n",
    "tokens = [w for sent in total_sents for w in sent]\n",
    "fdist = FreqDist(tokens)\n",
    "# Obtener lista de palabras ordenadas por frecuencia\n",
    "words_by_freq = [w for w, _ in fdist.most_common()]\n",
    "# Construir CDF de palabra vs etiqueta del gold standard\n",
    "cfd = ConditionalFreqDist((w, t) for sent in tagged_sents for (w, t) in sent)"
   ],
   "outputs": [],
   "execution_count": 16
  },
  {
   "cell_type": "code",
   "id": "30027c7b",
   "metadata": {
    "ExecuteTime": {
     "end_time": "2025-05-12T09:29:08.450411Z",
     "start_time": "2025-05-12T09:29:08.446081Z"
    }
   },
   "source": [
    "# Función de rendimiento\n",
    "from nltk import UnigramTagger, DefaultTagger\n",
    "def performance(wordlist):\n",
    "    model = {w: cfd[w].max() for w in wordlist}\n",
    "    tagger = UnigramTagger(model=model, backoff=DefaultTagger('NN'))\n",
    "    # Evaluar contra gold standard usando tagged_sents\n",
    "    correct = total = 0\n",
    "    for sent, gold in zip(total_sents, tagged_sents):\n",
    "        tagged = tagger.tag(sent)\n",
    "        for (_, g_tag), (_, t_tag) in zip(gold, tagged):\n",
    "            total += 1\n",
    "            if g_tag == t_tag:\n",
    "                correct += 1\n",
    "    return correct / total"
   ],
   "outputs": [],
   "execution_count": 17
  },
  {
   "cell_type": "code",
   "id": "d3c54eb1",
   "metadata": {
    "ExecuteTime": {
     "end_time": "2025-05-12T09:29:31.993540Z",
     "start_time": "2025-05-12T09:29:18.138855Z"
    }
   },
   "source": [
    "# Calcular rendimientos para distintos tamaños de modelo\n",
    "sizes = [2**i for i in range(1, 15)]\n",
    "perfs = [performance(words_by_freq[:s]) for s in sizes]\n",
    "\n",
    "# Graficar\n",
    "plt.plot(sizes, perfs, '-o')\n",
    "plt.xscale('log', base=2)\n",
    "plt.title('Lookup Tagger Performance vs. Tamaño de Modelo')\n",
    "plt.xlabel('Tamaño del Modelo (n palabras frecuentes)')\n",
    "plt.ylabel('Exactitud')\n",
    "plt.show()"
   ],
   "outputs": [
    {
     "data": {
      "text/plain": [
       "<Figure size 640x480 with 1 Axes>"
      ],
      "image/png": "[encoded data removed]"
     },
     "metadata": {},
     "output_type": "display_data"
    }
   ],
   "execution_count": 18
  },
  {
   "cell_type": "markdown",
   "id": "bd7c31df",
   "metadata": {},
   "source": [
    "Training and Testing Data"
   ]
  },
  {
   "cell_type": "code",
   "id": "d743dc93",
   "metadata": {
    "ExecuteTime": {
     "end_time": "2025-05-12T09:30:59.779392Z",
     "start_time": "2025-05-12T09:29:55.504741Z"
    }
   },
   "source": [
    "# Cell 2: Cargar y etiquetar\n",
    "corpus = PlaintextCorpusReader('corpus_by_label', r'.*\\.txt')\n",
    "\n",
    "# Tokenizar y taggear con pos_tag\n",
    "total_sents = []\n",
    "tagged_sents = []\n",
    "for fid in corpus.fileids():\n",
    "    for line in corpus.raw(fid).splitlines():\n",
    "        if line.strip():\n",
    "            tokens = word_tokenize(line)\n",
    "            total_sents.append(tokens)\n",
    "            tagged_sents.append(nltk.pos_tag(tokens))\n",
    "print(f\"Total oraciones: {len(total_sents)}\")"
   ],
   "outputs": [
    {
     "name": "stdout",
     "output_type": "stream",
     "text": [
      "Total oraciones: 35098\n"
     ]
    }
   ],
   "execution_count": 20
  },
  {
   "cell_type": "code",
   "id": "32008d16",
   "metadata": {
    "ExecuteTime": {
     "end_time": "2025-05-12T09:31:03.005459Z",
     "start_time": "2025-05-12T09:31:03.000507Z"
    }
   },
   "source": [
    "# Cell 3: Separar entrenamiento y prueba (90/10)\n",
    "size = int(len(tagged_sents) * 0.9)\n",
    "train_sents = tagged_sents[:size]\n",
    "test_sents = tagged_sents[size:]\n",
    "print(f\"Train: {len(train_sents)} sentences, Test: {len(test_sents)} sentences\")"
   ],
   "outputs": [
    {
     "name": "stdout",
     "output_type": "stream",
     "text": [
      "Train: 31588 sentences, Test: 3510 sentences\n"
     ]
    }
   ],
   "execution_count": 21
  },
  {
   "cell_type": "code",
   "id": "166d374a",
   "metadata": {
    "ExecuteTime": {
     "end_time": "2025-05-12T09:31:24.805601Z",
     "start_time": "2025-05-12T09:31:04.932077Z"
    }
   },
   "source": [
    "# Cell 4: Entrenar Unigram, Bigram y Trigram Taggers con backoff\n",
    "tag0 = nltk.DefaultTagger('NN')\n",
    "tag1 = nltk.UnigramTagger(train_sents, backoff=tag0)\n",
    "tag2 = nltk.BigramTagger(train_sents, backoff=tag1)\n",
    "tag3 = nltk.TrigramTagger(train_sents, backoff=tag2)\n",
    "\n",
    "# Evaluar cada tagger\n",
    "print(\"Unigram accuracy:\", tag1.evaluate(test_sents))\n",
    "print(\"Bigram accuracy:\", tag2.evaluate(test_sents))\n",
    "print(\"Trigram accuracy:\", tag3.evaluate(test_sents))"
   ],
   "outputs": [
    {
     "name": "stderr",
     "output_type": "stream",
     "text": [
      "C:\\Users\\hugom\\AppData\\Local\\Temp\\ipykernel_20660\\4052552101.py:8: DeprecationWarning: \n",
      "  Function evaluate() has been deprecated.  Use accuracy(gold)\n",
      "  instead.\n",
      "  print(\"Unigram accuracy:\", tag1.evaluate(test_sents))\n",
      "C:\\Users\\hugom\\AppData\\Local\\Temp\\ipykernel_20660\\4052552101.py:9: DeprecationWarning: \n",
      "  Function evaluate() has been deprecated.  Use accuracy(gold)\n",
      "  instead.\n",
      "  print(\"Bigram accuracy:\", tag2.evaluate(test_sents))\n"
     ]
    },
    {
     "name": "stdout",
     "output_type": "stream",
     "text": [
      "Unigram accuracy: 0.8860075249905381\n",
      "Bigram accuracy: 0.93100162521985\n"
     ]
    },
    {
     "name": "stderr",
     "output_type": "stream",
     "text": [
      "C:\\Users\\hugom\\AppData\\Local\\Temp\\ipykernel_20660\\4052552101.py:10: DeprecationWarning: \n",
      "  Function evaluate() has been deprecated.  Use accuracy(gold)\n",
      "  instead.\n",
      "  print(\"Trigram accuracy:\", tag3.evaluate(test_sents))\n"
     ]
    },
    {
     "name": "stdout",
     "output_type": "stream",
     "text": [
      "Trigram accuracy: 0.9386601954716477\n"
     ]
    }
   ],
   "execution_count": 22
  },
  {
   "cell_type": "code",
   "id": "c373e708",
   "metadata": {
    "ExecuteTime": {
     "end_time": "2025-05-12T09:31:41.099611Z",
     "start_time": "2025-05-12T09:31:41.095286Z"
    }
   },
   "source": [
    "# Cell 5: Demostración de etiquetado para nuevas oraciones de tu corpus\n",
    "# Mostrar 5 ejemplos del conjunto de prueba\n",
    "demo_sents = total_sents[size:size+5]\n",
    "for sent in demo_sents:\n",
    "    print(\"Input:\", sent)\n",
    "    print(\"Tagged:\", tag3.tag(sent))\n",
    "    print()"
   ],
   "outputs": [
    {
     "name": "stdout",
     "output_type": "stream",
     "text": [
      "Input: ['Listen', 'Cuntboy', 'You', \"'re\", 'just', 'a', 'fag', 'from', 'north', 'of', 'the', 'border', '.', 'Do', \"n't\", 'know', 'jack', 'about', 'the', 'NEvada', 'DOC', '.', 'I', 'fucked', 'your', 'wife', 'asshole']\n",
      "Tagged: [('Listen', 'NNP'), ('Cuntboy', 'NNP'), ('You', 'PRP'), (\"'re\", 'VBP'), ('just', 'RB'), ('a', 'DT'), ('fag', 'NN'), ('from', 'IN'), ('north', 'JJ'), ('of', 'IN'), ('the', 'DT'), ('border', 'NN'), ('.', '.'), ('Do', 'VBP'), (\"n't\", 'RB'), ('know', 'VB'), ('jack', 'NN'), ('about', 'IN'), ('the', 'DT'), ('NEvada', 'NNP'), ('DOC', 'NNP'), ('.', '.'), ('I', 'PRP'), ('fucked', 'VBD'), ('your', 'PRP$'), ('wife', 'NN'), ('asshole', 'NN')]\n",
      "\n",
      "Input: ['You', 'are', 'a', 'dumb', 'flower', 'Now', ',', 'normally', ',', 'I', 'do', 'not', 'use', 'that', 'term', 'explicitly', '.', 'I', 'just', 'quietly', 'think', 'it', '.', 'But', 'in', 'this', 'case', ',', 'there', 'is', 'evidence', '.', 'You', 'have', 'no', 'ISBN', \"'s\", 'to', 'your', 'name', '.', 'In', 'my', 'book', ',', 'that', 'makes', 'you', 'a', 'dumb', 'flower', 'I', 'happened', 'to', 'a', 'bit', 'demanding', 'about', 'these', 'sorts', 'of', 'things', '.', 'The', 'ISBN', \"'s\", '1-894840-36-4', 'and', '1-894840-38-0', '.', 'Tell', 'me', 'something', ':', 'At', 'you', 'local', 'library', ':', 'do', 'they', 'actually', 'allow', 'you', 'in', 'there', '?', 'Maybe', 'they', 'just', 'let', 'you', 'in', 'because', 'you', 'are', 'a', 'girl', ',', 'I', 'dunno', '.', 'Do', 'they', 'have', 'an', 'old-fashioned', 'card', 'catalog', 'system', 'there', '?', 'Do', 'you', 'experience', 'urges', 'to', 'rip', 'out', 'the', 'cards', 'of', 'the', 'books', 'that', 'you', 'simply', 'do', 'not', 'like', '?', 'I', 'can', 'assure', 'you', 'that', 'you', 'need', 'to', 'try', 'and', 'suppress', 'those', 'urges', '.', 'OF', 'COURSE', 'I', 'added', 'those', 'ISBN', \"'s\", 'for', 'you', 'dear', '.', 'It', 'is', 'like', 'honey', 'to', 'flies', '.', 'Dumb', 'cunts', 'like', 'you', 'can', 'not', 'suppress', 'their', 'urges', 'to', 'go', 'and', 'delete', 'them', '.', 'And', 'thereby', ',', 'I', 'trap', 'you', ',', 'my', 'pretty', 'little', 'dumb', 'flower', '.']\n",
      "Tagged: [('You', 'PRP'), ('are', 'VBP'), ('a', 'DT'), ('dumb', 'JJ'), ('flower', 'NN'), ('Now', 'RB'), (',', ','), ('normally', 'RB'), (',', ','), ('I', 'PRP'), ('do', 'VBP'), ('not', 'RB'), ('use', 'VB'), ('that', 'IN'), ('term', 'NN'), ('explicitly', 'RB'), ('.', '.'), ('I', 'PRP'), ('just', 'RB'), ('quietly', 'RB'), ('think', 'VBP'), ('it', 'PRP'), ('.', '.'), ('But', 'CC'), ('in', 'IN'), ('this', 'DT'), ('case', 'NN'), (',', ','), ('there', 'EX'), ('is', 'VBZ'), ('evidence', 'NN'), ('.', '.'), ('You', 'PRP'), ('have', 'VBP'), ('no', 'DT'), ('ISBN', 'NNP'), (\"'s\", 'POS'), ('to', 'TO'), ('your', 'PRP$'), ('name', 'NN'), ('.', '.'), ('In', 'IN'), ('my', 'PRP$'), ('book', 'NN'), (',', ','), ('that', 'WDT'), ('makes', 'VBZ'), ('you', 'PRP'), ('a', 'DT'), ('dumb', 'JJ'), ('flower', 'NN'), ('I', 'PRP'), ('happened', 'VBD'), ('to', 'TO'), ('a', 'DT'), ('bit', 'NN'), ('demanding', 'VBG'), ('about', 'IN'), ('these', 'DT'), ('sorts', 'NNS'), ('of', 'IN'), ('things', 'NNS'), ('.', '.'), ('The', 'DT'), ('ISBN', 'NNP'), (\"'s\", 'POS'), ('1-894840-36-4', 'JJ'), ('and', 'CC'), ('1-894840-38-0', 'JJ'), ('.', '.'), ('Tell', 'VB'), ('me', 'PRP'), ('something', 'NN'), (':', ':'), ('At', 'IN'), ('you', 'PRP'), ('local', 'JJ'), ('library', 'NN'), (':', ':'), ('do', 'VBP'), ('they', 'PRP'), ('actually', 'RB'), ('allow', 'VBP'), ('you', 'PRP'), ('in', 'IN'), ('there', 'EX'), ('?', '.'), ('Maybe', 'RB'), ('they', 'PRP'), ('just', 'RB'), ('let', 'VB'), ('you', 'PRP'), ('in', 'IN'), ('because', 'IN'), ('you', 'PRP'), ('are', 'VBP'), ('a', 'DT'), ('girl', 'NN'), (',', ','), ('I', 'PRP'), ('dunno', 'VBP'), ('.', '.'), ('Do', 'VBP'), ('they', 'PRP'), ('have', 'VB'), ('an', 'DT'), ('old-fashioned', 'JJ'), ('card', 'NN'), ('catalog', 'NN'), ('system', 'NN'), ('there', 'RB'), ('?', '.'), ('Do', 'VBP'), ('you', 'PRP'), ('experience', 'VB'), ('urges', 'NNS'), ('to', 'TO'), ('rip', 'VB'), ('out', 'RP'), ('the', 'DT'), ('cards', 'NNS'), ('of', 'IN'), ('the', 'DT'), ('books', 'NNS'), ('that', 'WDT'), ('you', 'PRP'), ('simply', 'RB'), ('do', 'VBP'), ('not', 'RB'), ('like', 'VB'), ('?', '.'), ('I', 'PRP'), ('can', 'MD'), ('assure', 'VB'), ('you', 'PRP'), ('that', 'IN'), ('you', 'PRP'), ('need', 'VBP'), ('to', 'TO'), ('try', 'VB'), ('and', 'CC'), ('suppress', 'VB'), ('those', 'DT'), ('urges', 'NNS'), ('.', '.'), ('OF', 'IN'), ('COURSE', 'NNP'), ('I', 'PRP'), ('added', 'VBD'), ('those', 'DT'), ('ISBN', 'NNP'), (\"'s\", 'POS'), ('for', 'IN'), ('you', 'PRP'), ('dear', 'VBP'), ('.', '.'), ('It', 'PRP'), ('is', 'VBZ'), ('like', 'IN'), ('honey', 'NN'), ('to', 'TO'), ('flies', 'NNS'), ('.', '.'), ('Dumb', 'JJ'), ('cunts', 'NNS'), ('like', 'IN'), ('you', 'PRP'), ('can', 'MD'), ('not', 'RB'), ('suppress', 'VB'), ('their', 'PRP$'), ('urges', 'NNS'), ('to', 'TO'), ('go', 'VB'), ('and', 'CC'), ('delete', 'VB'), ('them', 'PRP'), ('.', '.'), ('And', 'CC'), ('thereby', 'RB'), (',', ','), ('I', 'PRP'), ('trap', 'VBP'), ('you', 'PRP'), (',', ','), ('my', 'PRP$'), ('pretty', 'JJ'), ('little', 'JJ'), ('dumb', 'JJ'), ('flower', 'NN'), ('.', '.')]\n",
      "\n",
      "Input: ['(', 'UTC', ')', 'Ass', 'hole', '-', '17:53', ',', '9', 'March', '2007']\n",
      "Tagged: [('(', '('), ('UTC', 'NNP'), (')', ')'), ('Ass', 'NNP'), ('hole', 'NN'), ('-', ':'), ('17:53', 'CD'), (',', ','), ('9', 'CD'), ('March', 'NNP'), ('2007', 'CD')]\n",
      "\n",
      "Input: ['hey', 'bitch', 'im', 'trying', 'to', 'edit', 'this', 'page', 'and', 'u', 'deleted', 'it', '.', 'u', 'son', 'of', 'a', 'bitch', 'better', 'put', 'it', 'back', 'or', 'im', 'going', 'to', 'find', 'u', 'and', 'kick', 'your', 'FAT', 'ASS', '!']\n",
      "Tagged: [('hey', 'NN'), ('bitch', 'NN'), ('im', 'NN'), ('trying', 'VBG'), ('to', 'TO'), ('edit', 'VB'), ('this', 'DT'), ('page', 'NN'), ('and', 'CC'), ('u', 'JJ'), ('deleted', 'JJ'), ('it', 'PRP'), ('.', '.'), ('u', 'JJ'), ('son', 'NN'), ('of', 'IN'), ('a', 'DT'), ('bitch', 'NN'), ('better', 'RBR'), ('put', 'VBD'), ('it', 'PRP'), ('back', 'RB'), ('or', 'CC'), ('im', 'VB'), ('going', 'VBG'), ('to', 'TO'), ('find', 'VB'), ('u', 'JJ'), ('and', 'CC'), ('kick', 'VB'), ('your', 'PRP$'), ('FAT', 'NNP'), ('ASS', 'NNP'), ('!', '.')]\n",
      "\n",
      "Input: ['whata', 'load', 'of', 'CRAP', 'from', 'Barek', '...', 'leave', 'it', 'out', 'then', '..', 'and', 'have', 'the', 'wiki', 'be', 'INCOMPLETE', 'I', 'am', 'NOT', 'trying', 'to', 'SELF', 'promote', '.', 'you', 'goof', '.', 'I', 'am', 'trying', 'to', 'set', 'the', 'record', 'STRAIGHT', 'in', 'SPITE', 'of', 'your', 'goofy', 'butt', '.', 'and', 'some', 'dude', 'in', 'greece', '..', 'that', 'you', 'ALWAYS', 'leave', 'IN', '..', 'you', 'goof', '.', 'do', 'your', 'HOMEWORK', 'you', 'goofy', 'schoolkid', '.', 'NO', 'self', 'promotion', '.', 'I', 'am', 'who', 'I', 'am', 'with', 'or', 'with', 'out', 'YOU', 'or', 'the', 'wiki', 'or', 'the', 'greek', 'gator', ',', 'BUT', 'he', 'is', 'WRONG', '.', 'and', 'I', 'am', 'correct', '....', 'your', 'just', 'too', 'stupid', 'to', 'realize', 'it', '.', 'do', 'your', 'homework', '.', 'goofball', '.', 'leave', 'the', 'history', 'section', 'OUT', '.', 'suits', 'me', 'FINE', '.', 'I', 'LIKE', 'it', 'incomplete', '..', 'at', 'least', 'its', 'NOT', 'WRONG', '....', 'like', 'you', 'ALLOWED', 'before', 'I', 'had', 'to', 'change', 'it', 'AGAIN', '.', 'jerk', '.']\n",
      "Tagged: [('whata', 'NNS'), ('load', 'NN'), ('of', 'IN'), ('CRAP', 'NNP'), ('from', 'IN'), ('Barek', 'NNP'), ('...', ':'), ('leave', 'VBP'), ('it', 'PRP'), ('out', 'IN'), ('then', 'RB'), ('..', 'JJ'), ('and', 'CC'), ('have', 'VBP'), ('the', 'DT'), ('wiki', 'NNS'), ('be', 'VB'), ('INCOMPLETE', 'NNP'), ('I', 'PRP'), ('am', 'VBP'), ('NOT', 'RB'), ('trying', 'VBG'), ('to', 'TO'), ('SELF', 'NNP'), ('promote', 'NN'), ('.', '.'), ('you', 'PRP'), ('goof', 'VBP'), ('.', '.'), ('I', 'PRP'), ('am', 'VBP'), ('trying', 'VBG'), ('to', 'TO'), ('set', 'VB'), ('the', 'DT'), ('record', 'NN'), ('STRAIGHT', 'NNP'), ('in', 'IN'), ('SPITE', 'NNP'), ('of', 'IN'), ('your', 'PRP$'), ('goofy', 'NN'), ('butt', 'NN'), ('.', '.'), ('and', 'CC'), ('some', 'DT'), ('dude', 'NN'), ('in', 'IN'), ('greece', 'NN'), ('..', 'NN'), ('that', 'WDT'), ('you', 'PRP'), ('ALWAYS', 'VBP'), ('leave', 'VB'), ('IN', 'NNP'), ('..', 'NNP'), ('you', 'PRP'), ('goof', 'VBP'), ('.', '.'), ('do', 'VBP'), ('your', 'PRP$'), ('HOMEWORK', 'NNP'), ('you', 'PRP'), ('goofy', 'VBP'), ('schoolkid', 'JJ'), ('.', '.'), ('NO', 'CC'), ('self', 'JJ'), ('promotion', 'NN'), ('.', '.'), ('I', 'PRP'), ('am', 'VBP'), ('who', 'WP'), ('I', 'PRP'), ('am', 'VBP'), ('with', 'IN'), ('or', 'CC'), ('with', 'IN'), ('out', 'RP'), ('YOU', 'NNP'), ('or', 'CC'), ('the', 'DT'), ('wiki', 'NN'), ('or', 'CC'), ('the', 'DT'), ('greek', 'JJ'), ('gator', 'NN'), (',', ','), ('BUT', 'NNP'), ('he', 'PRP'), ('is', 'VBZ'), ('WRONG', 'JJ'), ('.', '.'), ('and', 'CC'), ('I', 'PRP'), ('am', 'VBP'), ('correct', 'JJ'), ('....', 'NN'), ('your', 'PRP$'), ('just', 'RB'), ('too', 'RB'), ('stupid', 'JJ'), ('to', 'TO'), ('realize', 'VB'), ('it', 'PRP'), ('.', '.'), ('do', 'VB'), ('your', 'PRP$'), ('homework', 'NN'), ('.', '.'), ('goofball', 'NN'), ('.', '.'), ('leave', 'VB'), ('the', 'DT'), ('history', 'NN'), ('section', 'NN'), ('OUT', 'NNP'), ('.', '.'), ('suits', 'NNS'), ('me', 'PRP'), ('FINE', 'NNP'), ('.', '.'), ('I', 'PRP'), ('LIKE', 'VBP'), ('it', 'PRP'), ('incomplete', 'JJ'), ('..', 'NNP'), ('at', 'IN'), ('least', 'JJS'), ('its', 'PRP$'), ('NOT', 'NNP'), ('WRONG', 'NNP'), ('....', 'NNP'), ('like', 'IN'), ('you', 'PRP'), ('ALLOWED', 'VBP'), ('before', 'IN'), ('I', 'PRP'), ('had', 'VBD'), ('to', 'TO'), ('change', 'VB'), ('it', 'PRP'), ('AGAIN', 'NNP'), ('.', '.'), ('jerk', 'NN'), ('.', '.')]\n",
      "\n"
     ]
    }
   ],
   "execution_count": 23
  },
  {
   "cell_type": "code",
   "id": "ed6148ff",
   "metadata": {
    "ExecuteTime": {
     "end_time": "2025-05-12T09:33:37.572949Z",
     "start_time": "2025-05-12T09:33:37.130010Z"
    }
   },
   "source": [
    "# Cell 6: Matriz de confusión para evaluar errores\n",
    "from nltk import ConfusionMatrix\n",
    "# Recolectar predicciones y gold tags\n",
    "test_gold = [tag for sent in test_sents for (_, tag) in sent]\n",
    "test_pred = [tag for sent in [tag3.tag(sent) for sent in total_sents[size:]] for (_, tag) in sent]\n",
    "print(nltk.ConfusionMatrix(test_gold, test_pred))"
   ],
   "outputs": [
    {
     "name": "stdout",
     "output_type": "stream",
     "text": [
      "     |                                                                                                                             N                             P                                                                                                             |\n",
      "     |                                                                                               J     J                 N     N     N     P     P     P     R           R     R           S                       V     V     V     V     V     W           W     W       |\n",
      "     |                 '                                   C     C     D     E     F     I     J     J     J     M     N     N     P     N     D     O     R     P     R     B     B     R     Y     T     U     V     B     B     B     B     B     D     W     P     R     ` |\n",
      "     |     #     $     '     (     )     ,     .     :     C     D     T     X     W     N     J     R     S     D     N     P     S     S     T     S     P     $     B     R     S     P     M     O     H     B     D     G     N     P     Z     T     P     $     B     ` |\n",
      "-----+-------------------------------------------------------------------------------------------------------------------------------------------------------------------------------------------------------------------------------------------------------------------------+\n",
      "   # |   <33>    .     .     .     .     .     .     .     .     .     .     .     .     .     .     .     .     .     .     .     .     .     .     .     .     .     .     .     .     .     .     .     .     .     .     .     .     .     .     .     .     .     .     . |\n",
      "   $ |     .   <36>    .     .     .     .     .     .     1     .     .     .     .     .     2     .     .     .    76     4     .     .     .     .     .     .     .     .     .     .     .     .     .     3     .     .     .     .     .     .     .     .     .     . |\n",
      "  '' |     .     . <3028>    .     .     .     .     .     .     .     .     .     .     .     .     .     .     .     2     1     .     .     .    11     .     .     .     .     .     .     .     .     .     .     .     .     .     .     .     .     .     .     .     . |\n",
      "   ( |     .     .     .  <722>    .     .     .     .     .     .     .     .     .     .     .     .     .     .     .     .     .     .     .     .     .     .     .     .     .     .     .     .     .     .     .     .     .     .     .     .     .     .     .     . |\n",
      "   ) |     .     .     .     .  <942>    .     .     .     .     .     .     .     .     .     .     .     .     .     .     .     .     .     .     .     .     .     .     .     .     .     .     .     .     .     .     .     .     .     .     .     .     .     .     . |\n",
      "   , |     .     .     .     .     . <6093>    .     .     .     .     .     .     .     .     .     .     .     .     .     .     .     .     .     .     .     .     .     .     .     .     .     .     .     .     .     .     .     .     .     .     .     .     .     . |\n",
      "   . |     .     .     .     .     .     .<22535>    .     .     .     .     .     .     .     .     .     .     .     .     .     .     .     .     .     .     .     .     .     .     .     .     .     .     .     .     .     .     .     .     .     .     .     .     . |\n",
      "   : |     .     .     .     .     .     .     . <1623>    .     .     .     .     .     .     .     .     .     .     .     .     .     .     .     .     .     .     .     .     .     .     .     .     .     .     .     .     .     .     .     .     .     .     .     . |\n",
      "  CC |     .     .     .     .     .     .     .     . <4607>    .     7     .     .     1     2     .     .     .    22    17     .     .     .     .     .     .     6     .     .     .     .     .     3     2     .     .     1     2     .     .     .     .     .     . |\n",
      "  CD |     .     .     .     .     .     .     .     .     . <1677>    .     .     .     .     6     .     .     .   244     8     .     .     .     .     .     .     .     .     .     .     .     .     .     .     .     .     .     .     .     .     .     .     .     . |\n",
      "  DT |     .     .     .     .     .     .     .     .     5     .<12521>    .     .   120     .     .     .     .     .    62     .     .    25     .     .     .     9     .     .     .     .     .     2     1     .     .     .     .     .    19     .     .     .     . |\n",
      "  EX |     .     .     .     .     .     .     .     .     .     .     .  <220>    .     .     .     .     .     .     .     .     .     .     .     .     1     .    15     .     .     .     .     .     .     .     .     .     .     .     .     .     .     .     .     . |\n",
      "  FW |     .     .     .     .     .     .     .     .     .     .     .     .   <47>    3     .     .     .     .     7     1     .     .     .     .     .     .     .     .     .     .     .     .     .     .     .     .     .     .     .     .     .     .     .     . |\n",
      "  IN |     .     .     .     .     .     .     .     .     .     .    66     .     .<12763>   22     .     .     .    48    86     .     1     .     .     1     .   115     .     .    86     .     .     1    20     .     .     .     9     2    95     .     .     .     . |\n",
      "  JJ |     .     .     .     .     .     .     .     .     4     4     .     .     .     8<10327>    1     2     .  1154   273     .    19     1     .     6     3    66     .     .     1     1     2     1    95    23    24    46    55    11     .     1     .     .     . |\n",
      " JJR |     .     .     .     .     .     .     .     .     .     .     .     .     .     1     3  <487>    .     .    15     5     .     .     .     .     .     .     5    32     .     .     .     .     .     2     .     .     .     4     .     .     .     .     .     . |\n",
      " JJS |     .     .     .     .     .     .     .     .     .     .     .     .     .     .     1     .  <190>    .     9     .     .     .     .     .     .     .     .     .     6     .     .     .     .     .     .     .     .     .     .     .     .     .     .     . |\n",
      "  MD |     .     .     .     .     .     .     .     .     .     .     .     .     .     .     .     .     . <2239>    3     4     .     .     .     1     1     .     .     .     .     .     .     .     .     .     1     .     .     8     .     .     .     .     .     . |\n",
      "  NN |     .     1     .     .     .     .     .     .     3    31     .     .     7    20   633     4     4     .<24326>  400     .    42     1     .     7     2    33     .     .     4     3     .     5   231    43    85    19   545    23     2     3     .     1     . |\n",
      " NNP |     .     2     2     .     .     .     .     .    11     3    28     1     .    48   341     3     1    23  2327<31145>   11    25     1     .     5    16    72     .     .     1     .     .    17   109     8    14    12    89   215     .     9     .    13     . |\n",
      "NNPS |     .     .     .     .     .     .     .     .     .     .     .     .     .     .     1     .     .     .    21    18  <114>   12     .     .     .     .     .     .     .     .     .     .     .     .     .     .     .     .     2     .     .     .     .     . |\n",
      " NNS |     .     .     .     .     .     .     .     .     1     .     .     .     .     6    39     .     .     .   345    21     4 <5663>    .     .     5     1     4     .     .     1     .     .     .    11     .     .     2    15    77     .     .     .     .     . |\n",
      " PDT |     .     .     .     .     .     .     .     .     .     .    71     .     .     .    11     .     .     .     4     4     .     .   <21>    .     .     .     1     .     .     .     .     .     .     1     .     .     2     .     .     .     .     .     .     . |\n",
      " POS |     .     .    39     .     .     .     .     .     .     .     .     .     .     2     .     .     .     .     7     .     .     .     .  <649>    .     .     .     .     .     .     .     .     .     .     .     .     .     1     4     .     .     .     .     . |\n",
      " PRP |     .     .     .     .     .     .     .     .     2     .     .     .     .     .     3     .     .     .    12    18     .     1     .     4<17023>    6     .     .     .     .     .     .     .     5     .     .     .     2     .     .     .     .     .     . |\n",
      "PRP$ |     .     .     .     .     .     .     .     .     .     .     .     .     .     .     .     .     .     .     .     3     .     5     .     .     2 <3954>    .     .     .     .     .     .     1     .     .     .     .     1     .     .     .     .     .     . |\n",
      "  RB |     .     .     .     .     .     .     .     .     4     .    16    34     2   157   131     6     2     .   137    51     .    82     .     .     2     . <8503>    1     .    48     .     4     7    22     4     1     2    11     .     1     .     .     .     . |\n",
      " RBR |     .     .     .     .     .     .     .     .     .     .     .     .     .     .     2    54     .     .     .     2     .     .     .     .     .     .     4   <91>    .     .     .     .     .     1     .     .     .     1     .     .     .     .     .     . |\n",
      " RBS |     .     .     .     .     .     .     .     .     .     .     .     .     .     .     .     .     2     .     .     2     .     .     .     .     .     .     .     .   <36>    .     .     .     .     .     .     .     .     .     .     .     .     .     .     . |\n",
      "  RP |     .     .     .     .     .     .     .     .     .     .     .     .     .    58     .     .     .     .     .     4     .     1     .     .     .     .    35     .     .  <845>    .     .     .     2     .     .     .     .     .     .     .     .     .     . |\n",
      " SYM |     .     .     .     .     .     .     .     .     .     .     .     .     .     .     1     .     .     .     3     .     .     1     .     .     .     .     .     .     .     .    <1>    .     .     .     .     .     .     .     .     .     .     .     .     . |\n",
      "  TO |     .     .     .     .     .     .     .     .     .     .     .     .     .     .     4     .     .     .     .     .     .     .     .     .     .     .     .     .     .     .     . <3430>    .     .     .     .     .     .     .     .     .     .     .     . |\n",
      "  UH |     .     .     .     .     .     .     .     .     2     .    13     .     .     .     2     .     .     .     5    65     .     1     .     .     3     .     5     .     .     .     .     .  <165>    1     .     .     .     .     .     .     .     .     .     . |\n",
      "  VB |     .     .     .     .     .     .     .     .     1     1     2     .     1    16   100     3     1     1   355   186     .    11     .     .     .     1    25     .     .     1     .     .     3 <7627>   17     3    16   359     5     .     .     .     .     . |\n",
      " VBD |     .     .     .     .     .     .     .     .     .     .     .     .     .     .    27     .     .     3   104    24     .     1     .     .     .     .     2     .     .     .     .     .     .    27 <3032>    .   147    29     1     1     .     .     .     . |\n",
      " VBG |     .     .     .     .     .     .     .     .     .     .     .     .     .     .    32     .     .     .   207     9     .     .     .     .     .     .     .     .     .     .     .     .     .     3     . <3216>    .    10     .     .     .     .     .     . |\n",
      " VBN |     .     .     .     .     .     .     .     .     .     .     2     .     .     .    58     .     .     .    97    12     .     2     .     .     1     .     4     .     .     .     .     .     .    31   134     1 <2083>    3     1     .     .     .     .     . |\n",
      " VBP |     .     .     .     .     .     .     .     .     .     .     2     .     3    13    51     1     .     4   183   110     .     6     .     4     1     .    15     .     .     .     .     .     .   294    21     4     3 <9757>   15     .     .     .     1     . |\n",
      " VBZ |     .     .     .     .     .     .     .     .     .     .     .     1     .     2    18     .     .     .    86    34     .    87     .    11     .     .     2     .     .     .     .     .     1     9     5     .     .    17 <4534>    .     1     .     1     . |\n",
      " WDT |     .     .     .     .     .     .     .     .     .     .     9     .     .   150     .     .     .     .     2     2     .     .     .     .     .     .     .     .     .     .     .     .     .     1     .     .     .     2     .  <366>    2     .     .     . |\n",
      "  WP |     .     .     .     .     .     .     .     .     .     .     .     .     .     1     .     .     .     .     7     4     .     .     .     .     .     .     .     .     .     .     .     .     .     1     .     .     .     .     .     1 <1309>    .     .     . |\n",
      " WP$ |     .     .     .     .     .     .     .     .     .     .     .     .     .     .     .     .     .     .     .     .     .     .     .     .     .     .     .     .     .     .     .     .     .     .     .     .     .     .     .     .     .   <11>    .     . |\n",
      " WRB |     .     .     .     .     .     .     .     .     .     .     .     .     .     .     1     .     .     .     .     5     .     .     .     .     .     .     .     .     .     .     .     .     .     .     .     .     .     .     .     .     .     .  <977>    . |\n",
      "  `` |     .     .     .     .     .     .     .     .     .     .     .     .     .     .     .     .     .     .     .     .     .     .     .     .     .     .     .     .     .     .     .     .     .     .     .     .     .     .     .     .     .     .     . <1841>|\n",
      "-----+-------------------------------------------------------------------------------------------------------------------------------------------------------------------------------------------------------------------------------------------------------------------------+\n",
      "(row = reference; col = test)\n",
      "\n"
     ]
    }
   ],
   "execution_count": 26
  },
  {
   "cell_type": "code",
   "id": "bb46977a",
   "metadata": {
    "ExecuteTime": {
     "end_time": "2025-05-12T09:33:39.839951Z",
     "start_time": "2025-05-12T09:33:39.798489Z"
    }
   },
   "source": [
    "# Cell 7: Guardar el mejor tagger entrenado\n",
    "import pickle\n",
    "with open('trigram_tagger.pkl', 'wb') as f:\n",
    "    pickle.dump(tag3, f)\n",
    "print(\"Trigram tagger guardado en 'trigram_tagger.pkl'\")"
   ],
   "outputs": [
    {
     "name": "stdout",
     "output_type": "stream",
     "text": [
      "Trigram tagger guardado en 'trigram_tagger.pkl'\n"
     ]
    }
   ],
   "execution_count": 27
  }
 ],
 "metadata": {
  "kernelspec": {
   "display_name": "Python 3",
   "language": "python",
   "name": "python3"
  },
  "language_info": {
   "codemirror_mode": {
    "name": "ipython",
    "version": 3
   },
   "file_extension": ".py",
   "mimetype": "text/x-python",
   "name": "python",
   "nbconvert_exporter": "python",
   "pygments_lexer": "ipython3",
   "version": "3.11.9"
  }
 },
 "nbformat": 4,
 "nbformat_minor": 5
}
