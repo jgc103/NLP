{
 "cells": [
  {
   "cell_type": "markdown",
   "id": "faed0adc",
   "metadata": {},
   "source": "Capítulo 1"
  },
  {
   "cell_type": "code",
   "execution_count": 1,
   "id": "e563cc9b",
   "metadata": {},
   "outputs": [
    {
     "name": "stdout",
     "output_type": "stream",
     "text": [
      "Train DataFrame shape: (159571, 8)\n",
      "\n",
      "Train DataFrame Head:\n",
      "                 id                                       comment_text  toxic  \\\n",
      "0  0000997932d777bf  Explanation\\nWhy the edits made under my usern...      0   \n",
      "1  000103f0d9cfb60f  D'aww! He matches this background colour I'm s...      0   \n",
      "2  000113f07ec002fd  Hey man, I'm really not trying to edit war. It...      0   \n",
      "3  0001b41b1c6bb37e  \"\\nMore\\nI can't make any real suggestions on ...      0   \n",
      "4  0001d958c54c6e35  You, sir, are my hero. Any chance you remember...      0   \n",
      "\n",
      "   severe_toxic  obscene  threat  insult  identity_hate  \n",
      "0             0        0       0       0              0  \n",
      "1             0        0       0       0              0  \n",
      "2             0        0       0       0              0  \n",
      "3             0        0       0       0              0  \n",
      "4             0        0       0       0              0  \n",
      "\n",
      "Null values by column in train:\n",
      "id               0\n",
      "comment_text     0\n",
      "toxic            0\n",
      "severe_toxic     0\n",
      "obscene          0\n",
      "threat           0\n",
      "insult           0\n",
      "identity_hate    0\n",
      "dtype: int64\n",
      "\n",
      "Label distribution in train:\n",
      "toxic            15294\n",
      "obscene           8449\n",
      "insult            7877\n",
      "severe_toxic      1595\n",
      "identity_hate     1405\n",
      "threat             478\n",
      "dtype: int64\n"
     ]
    },
    {
     "data": {
      "image/png": "[encoded data removed]",
      "text/plain": [
       "<Figure size 1000x600 with 1 Axes>"
      ]
     },
     "metadata": {},
     "output_type": "display_data"
    }
   ],
   "source": [
    "import pandas as pd\n",
    "import nltk\n",
    "import numpy as np\n",
    "import matplotlib.pyplot as plt\n",
    "import seaborn as sns\n",
    "\n",
    "df = pd.read_csv('Dataset/train.csv')\n",
    "\n",
    "print(\"Train DataFrame shape:\", df.shape)\n",
    "\n",
    "print(\"\\nTrain DataFrame Head:\")\n",
    "print(df.head())\n",
    "\n",
    "print(\"\\nNull values by column in train:\")\n",
    "print(df.isnull().sum())\n",
    "\n",
    "label_cols = ['toxic', 'severe_toxic', 'obscene', 'threat', 'insult', 'identity_hate']\n",
    "print(\"\\nLabel distribution in train:\")\n",
    "print(df[label_cols].sum().sort_values(ascending=False))\n",
    "\n",
    "plt.figure(figsize=(10,6))\n",
    "sns.barplot(x=df[label_cols].sum().index, y=df[label_cols].sum().values)\n",
    "plt.title('Label distribution')\n",
    "plt.title('Comment Distribution by Label')\n",
    "plt.ylabel('Number of Comments')\n",
    "plt.xlabel('Labels')\n",
    "plt.show()"
   ]
  },
  {
   "cell_type": "code",
   "execution_count": 2,
   "id": "11e10203",
   "metadata": {},
   "outputs": [
    {
     "name": "stdout",
     "output_type": "stream",
     "text": [
      "Example comment:\n",
      " Explanation\n",
      "Why the edits made under my username Hardcore Metallica Fan were reverted? They weren't vandalisms, just closure on some GAs after I voted at New York Dolls FAC. And please don't remove the template from the talk page since I'm retired now.89.205.38.27\n",
      "\n",
      "Tokens:\n",
      " ['Explanation', 'Why', 'the', 'edits', 'made', 'under', 'my', 'username', 'Hardcore', 'Metallica', 'Fan', 'were', 'reverted?', 'They', \"weren't\", 'vandalisms,', 'just', 'closure', 'on', 'some', 'GAs', 'after', 'I', 'voted', 'at', 'New', 'York', 'Dolls', 'FAC.', 'And', 'please', \"don't\", 'remove', 'the', 'template', 'from', 'the', 'talk', 'page', 'since', \"I'm\", 'retired', 'now.89.205.38.27']\n",
      "\n",
      "Number of tokens in comment: 43\n"
     ]
    }
   ],
   "source": [
    "# Example comment\n",
    "comment = df.loc[0, 'comment_text']\n",
    "print(\"Example comment:\\n\", comment)\n",
    "\n",
    "# Simple tokenization: split by whitespace\n",
    "tokens = comment.split()\n",
    "print(\"\\nTokens:\\n\", tokens)\n",
    "print(f\"\\nNumber of tokens in comment: {len(tokens)}\")"
   ]
  },
  {
   "cell_type": "code",
   "execution_count": 3,
   "id": "015f6385",
   "metadata": {},
   "outputs": [
    {
     "name": "stdout",
     "output_type": "stream",
     "text": [
      "Total tokens in corpus: 10734904\n",
      "Number of different tokens in corpus: 532299\n"
     ]
    }
   ],
   "source": [
    "# Tokenize all comments using split()\n",
    "all_tokens = []\n",
    "for text in df['comment_text']:\n",
    "    all_tokens.extend(text.split())\n",
    "\n",
    "total_tokens = len(all_tokens)\n",
    "vocabulary = set(all_tokens)\n",
    "num_types = len(vocabulary)\n",
    "\n",
    "print(f\"Total tokens in corpus: {total_tokens}\")\n",
    "print(f\"Number of different tokens in corpus: {num_types}\")"
   ]
  },
  {
   "cell_type": "code",
   "execution_count": 4,
   "id": "4ad59a68",
   "metadata": {},
   "outputs": [
    {
     "name": "stdout",
     "output_type": "stream",
     "text": [
      "Global lexical diversity: 0.0496\n",
      "'nigger' appearances: 692 (0.0064% of corpus)\n"
     ]
    }
   ],
   "source": [
    "def lexical_diversity(tokens):\n",
    "    return len(set(tokens)) / len(tokens)\n",
    "\n",
    "def percentage(count, total):\n",
    "    return 100 * count / total\n",
    "\n",
    "# Lexical diversity of the entire corpus\n",
    "div_global = lexical_diversity(all_tokens)\n",
    "print(f\"Global lexical diversity: {div_global:.4f}\")\n",
    "\n",
    "# Count of the word 'X' in the \n",
    "word = 'nigger'\n",
    "count_toxic = all_tokens.count(word)\n",
    "porc_toxic = percentage(count_toxic, total_tokens)\n",
    "print(f\"'{word}' appearances: {count_toxic} ({porc_toxic:.4f}% of corpus)\")"
   ]
  },
  {
   "cell_type": "code",
   "execution_count": 5,
   "id": "083dec3a",
   "metadata": {},
   "outputs": [
    {
     "name": "stdout",
     "output_type": "stream",
     "text": [
      "Displaying 25 of 3251 matches:\n",
      " warning then you fucking block me, nigger cunt eat pussy bitch Bob Parsons Th\n",
      "ith its liberal defenders, FUCK YOU NIGGER OBOAMA! List of FNL awards and noms\n",
      "ple. In my holy opinion, there is a nigger inside of all of us. People (like y\n",
      "and mexicans try to compete with da nigger Gs but we r too strong. but in real\n",
      "son, you suck. Stop being so white. Nigger pride. -(non-white person) \" A case\n",
      " Are you a gay nigger? Then the Gay Nigger Association of America is right for\n",
      "suggestions now. IN THE anus with a nigger dick in it.68.33.41.181 The use of \n",
      " all for your input ) Fan-1967 is a nigger licker Fan-1967 is a nigger licker \n",
      "67 is a nigger licker Fan-1967 is a nigger licker Fan-1967 is a nigger licker \n",
      "67 is a nigger licker Fan-1967 is a nigger licker Fan-1967 is a nigger licker \n",
      "67 is a nigger licker Fan-1967 is a nigger licker Fan-1967 is a nigger licker \n",
      "67 is a nigger licker Fan-1967 is a nigger licker Fan-1967 is a nigger licker \n",
      "67 is a nigger licker Fan-1967 is a nigger licker Fan-1967 is a nigger licker \n",
      "67 is a nigger licker Fan-1967 is a nigger licker Fan-1967 is a nigger licker \n",
      "67 is a nigger licker Fan-1967 is a nigger licker Fan-1967 is a nigger licker \n",
      "67 is a nigger licker Fan-1967 is a nigger licker Fan-1967 is a nigger licker \n",
      "67 is a nigger licker Fan-1967 is a nigger licker Fan-1967 is a nigger licker \n",
      "67 is a nigger licker Fan-1967 is a nigger licker Fan-1967 is a nigger licker \n",
      "67 is a nigger licker Fan-1967 is a nigger licker Fan-1967 is a nigger licker \n",
      "67 is a nigger licker Fan-1967 is a nigger licker Fan-1967 is a nigger licker \n",
      "67 is a nigger licker Fan-1967 is a nigger licker Fan-1967 is a nigger licker \n",
      "67 is a nigger licker Fan-1967 is a nigger licker Fan-1967 is a nigger licker \n",
      "67 is a nigger licker Fan-1967 is a nigger licker Fan-1967 is a nigger licker \n",
      "67 is a nigger licker Fan-1967 is a nigger licker Fan-1967 is a nigger licker \n",
      "67 is a nigger licker Fan-1967 is a nigger licker Fan-1967 is a nigger licker \n"
     ]
    }
   ],
   "source": [
    "from nltk.text import Text\n",
    "# Create a Text object from the list of tokens\n",
    "text_nltk = Text(all_tokens)\n",
    "# Show concordances with a word\n",
    "text_nltk.concordance(word)"
   ]
  },
  {
   "cell_type": "code",
   "execution_count": 6,
   "id": "5b8d5b66",
   "metadata": {},
   "outputs": [
    {
     "data": {
      "image/png": "[encoded data removed]",
      "text/plain": [
       "<Figure size 640x480 with 1 Axes>"
      ]
     },
     "metadata": {},
     "output_type": "display_data"
    }
   ],
   "source": [
    "# Visualize trends of the usage of different words\n",
    "environment = Text(all_tokens)\n",
    "%matplotlib inline\n",
    "environment.dispersion_plot(['nigga', 'fat', 'faggot', 'jew'])"
   ]
  },
  {
   "cell_type": "code",
   "execution_count": 7,
   "id": "0d1f67ff",
   "metadata": {},
   "outputs": [
    {
     "name": "stdout",
     "output_type": "stream",
     "text": [
      "Comment 1: Explanation\n",
      "Why the edits made under my username Hardcore Metallica Fan were reverted? They weren't vandalisms, just closure on some GAs after I voted at New York Dolls FAC. And please don't remove the template from the talk page since I'm retired now.89.205.38.27\n",
      "Tokens list (first 20): ['Explanation', 'Why', 'the', 'edits', 'made', 'under', 'my', 'username', 'Hardcore', 'Metallica', 'Fan', 'were', 'reverted?', 'They', \"weren't\", 'vandalisms,', 'just', 'closure', 'on', 'some']\n"
     ]
    }
   ],
   "source": [
    "# Sample comment and represent as a words list\n",
    "comment1 = df.loc[0, 'comment_text']\n",
    "print(\"Comment 1:\", comment1)\n",
    "# Simple tikenization: split by whitespace\n",
    "tokens1 = comment1.split()\n",
    "print(f\"Tokens list (first 20): {tokens1[:20]}\")"
   ]
  },
  {
   "cell_type": "code",
   "execution_count": 8,
   "id": "6757c310",
   "metadata": {},
   "outputs": [
    {
     "name": "stdout",
     "output_type": "stream",
     "text": [
      "Number of tokens in comment1: 43\n",
      "Number of appearances of the word 'Hardcore': 1\n",
      "Number of tokens in comment2: 17\n",
      "Combined number of comments: 60\n",
      "Last 5 tokens after append: ['since', \"I'm\", 'retired', 'now.89.205.38.27', '<END>']\n"
     ]
    }
   ],
   "source": [
    "# Lenght and count of a token\n",
    "word = 'Hardcore'\n",
    "print(f\"Number of tokens in comment1: {len(tokens1)}\")\n",
    "print(f\"Number of appearances of the word '{word}': {tokens1.count(word)}\")\n",
    "\n",
    "# List concatenation: join two comments\n",
    "comment2 = df.loc[1, 'comment_text']\n",
    "tokens2 = comment2.split()\n",
    "print(f\"Number of tokens in comment2: {len(tokens2)}\")\n",
    "tokens_concat = tokens1+tokens2\n",
    "print(f\"Combined number of comments: {len(tokens_concat)}\")\n",
    "\n",
    "# Append: add a final token\n",
    "tokens1_copy = tokens1.copy()\n",
    "tokens1_copy.append('<END>')\n",
    "print(f\"Last 5 tokens after append: {tokens1_copy[-5:]}\")"
   ]
  },
  {
   "cell_type": "code",
   "execution_count": 9,
   "id": "7918a7cd",
   "metadata": {},
   "outputs": [
    {
     "name": "stdout",
     "output_type": "stream",
     "text": [
      "Token on the 10th position: Fan\n",
      "First occurrence of 'Fan' in tokens_concat on the index: 10\n",
      "Context alongside 'Fan': ['Hardcore', 'Metallica', 'Fan', 'were', 'reverted?']\n"
     ]
    }
   ],
   "source": [
    "# Get the token at a specific position (e.g., position 10)\n",
    "if len(tokens1) > 10:\n",
    "    print(f\"Token on the 10th position: {tokens1[10]}\")\n",
    "\n",
    "# Find the index of the first occurrence of 'toxic' in tokens_concat\n",
    "pat = 'Fan'\n",
    "if pat in tokens_concat:\n",
    "    idx = tokens_concat.index(pat)\n",
    "    print(f\"First occurrence of '{pat}' in tokens_concat on the index: {idx}\")\n",
    "\n",
    "# Slicing: obtain a window of 5 tokens alongside this position\n",
    "    start = max(idx - 2, 0)\n",
    "    end = idx + 3\n",
    "    print(f\"Context alongside '{pat}': {tokens_concat[start:end]}\")"
   ]
  },
  {
   "cell_type": "code",
   "execution_count": 10,
   "id": "eb1b62e6",
   "metadata": {},
   "outputs": [
    {
     "name": "stdout",
     "output_type": "stream",
     "text": [
      "Total tokens combined: 60\n",
      "Number of diferent types in tokens_concat: 57\n"
     ]
    }
   ],
   "source": [
    "# Save types and token counts as variables\n",
    "total_tokens = len(tokens_concat)\n",
    "distinct_types = len(set(tokens_concat))\n",
    "\n",
    "print(f\"Total tokens combined: {total_tokens}\")\n",
    "print(f\"Number of diferent types in tokens_concat: {distinct_types}\")"
   ]
  },
  {
   "cell_type": "code",
   "execution_count": 11,
   "id": "55f1af73",
   "metadata": {},
   "outputs": [
    {
     "name": "stdout",
     "output_type": "stream",
     "text": [
      "First token: Explanation\n",
      "First character of 'Explanation': E\n",
      "First 4 characters of 'Explanation': Expl\n",
      "Duplicate Explanation: ExplanationExplanation\n",
      "Add exclamation: Explanation!\n",
      "Joined (first 10 tokens): Explanation Why the edits made under my username Hardcore Metallica\n",
      "Split again: ['Explanation', 'Why', 'the', 'edits', 'made', 'under', 'my', 'username', 'Hardcore', 'Metallica']\n"
     ]
    }
   ],
   "source": [
    "# Take the first token of the list and string operations\n",
    "word = tokens1[0] if tokens1 else ''\n",
    "print(f\"First token: {word}\")\n",
    "\n",
    "# Character indexing \n",
    "if len(word) >= 1:\n",
    "    print(f\"First character of '{word}': {word[0]}\")\n",
    "\n",
    "# Slicing of string\n",
    "print(f\"First 4 characters of '{word}': {word[:4]}\")\n",
    "\n",
    "# Multiply and concatenate strings\n",
    "print(f\"Duplicate {word}: {word * 2}\")\n",
    "print(f\"Add exclamation: {word + '!'}\")\n",
    "\n",
    "# Join the tokens into a single string and split again\n",
    "joined = ' '.join(tokens1[:10])\n",
    "print(f\"Joined (first 10 tokens): {joined}\")\n",
    "print(f\"Split again: {joined.split()}\" )"
   ]
  },
  {
   "cell_type": "code",
   "execution_count": 12,
   "id": "44dffd74",
   "metadata": {},
   "outputs": [
    {
     "name": "stdout",
     "output_type": "stream",
     "text": [
      "<FreqDist with 532299 samples and 10734904 outcomes>\n",
      "[('the', 445987), ('to', 288817), ('of', 219334), ('and', 207381), ('a', 201817), ('I', 183930), ('is', 164639), ('you', 157272), ('that', 140545), ('in', 130262), ('for', 96010), ('it', 92651), ('on', 84453), ('not', 83944), ('\"', 81755), ('be', 80928), ('this', 71429), ('have', 69414), ('as', 68345), ('are', 66277)]\n",
      "Apariciones de 'nigger': 692\n"
     ]
    }
   ],
   "source": [
    "from nltk.probability import FreqDist\n",
    "\n",
    "dist_freq = FreqDist(all_tokens)\n",
    "print(dist_freq)\n",
    "\n",
    "# Print the 20 most common tokens\n",
    "print(dist_freq.most_common(20))\n",
    "\n",
    "# Frequency of token 'nigger'\n",
    "word = 'nigger'\n",
    "print(f\"Apariciones de '{word}': {dist_freq[word]}\")"
   ]
  },
  {
   "cell_type": "code",
   "execution_count": 13,
   "id": "c026faa1",
   "metadata": {},
   "outputs": [
    {
     "name": "stdout",
     "output_type": "stream",
     "text": [
      "Number of hapaxes: 348064\n",
      "Hapaxes examples: ['now.89.205.38.27', \"D'aww!\", 'Wikipedia:Good_article_nominations#Transport', 'Shirvington', 'article(wow', \"'animal\", \"breeding'\", 'eugenics?', 'it-maybe', 'phone?', 'TALIBANS...who', '(non)-contribution', 'itself-making', 'relevant-this', 'ex-president', 'aircracft', 'liberally.', 'Yvesnimmo.', 'Santanas', 'Diplomats.']\n"
     ]
    }
   ],
   "source": [
    "hapaxes = dist_freq.hapaxes()\n",
    "print(f\"Number of hapaxes: {len(hapaxes)}\")\n",
    "print(f\"Hapaxes examples: {hapaxes[:20]}\")"
   ]
  },
  {
   "cell_type": "code",
   "execution_count": 14,
   "id": "9fa2add4",
   "metadata": {},
   "outputs": [
    {
     "name": "stdout",
     "output_type": "stream",
     "text": [
      "['5332480249395064', ':Image:Bahonar.jpg', 'ShaikhChandScan.jpg.', 'Template:Moogfest', \"[[Wikipedia:Bot_owners'_noticeboard#API_BREAKING_CHANGE:_Default_continuation_mode_for_action.3Dquery_will_change_at_the_end_of_this_month|this\", 'closes.149.254.58.10', 'errors/grammatical', 'eyesaggressively', 'http://de.wikipedia.org/w/index.php?title=Wikipedia:Benutzersperrung/Hans_Bug&oldid;=11470758', 'http://www.articletogo.com/articledetail.php?artid=88670&catid;=1&title;=Vedique+Goes+Online-00-1518,']\n",
      "['!align=\"\"center\"\"', '!style=\"\"background:', '\"\"...and', '\"\"...the', '\"\"According', '\"\"African', '\"\"Alexander', '\"\"Allegations', '\"\"Alternative', '\"\"Although']\n"
     ]
    }
   ],
   "source": [
    "# Words from the vocabulary with more than 15 characters\n",
    "vocab = set(all_tokens)\n",
    "long_words = [w for w in vocab if len(w) > 15]\n",
    "print(sorted(long_words[:10]))\n",
    "\n",
    "# Words with > 7 lenght and frequency\n",
    "freq_longs = sorted(w for w in vocab if len(w) > 7 and dist_freq[w] > 7)\n",
    "print(freq_longs[:10])"
   ]
  },
  {
   "cell_type": "code",
   "execution_count": 15,
   "id": "e4f41723",
   "metadata": {},
   "outputs": [
    {
     "name": "stdout",
     "output_type": "stream",
     "text": [
      "[('Explanation', 'Why'), ('Why', 'the'), ('the', 'edits'), ('edits', 'made'), ('made', 'under'), ('under', 'my'), ('my', 'username'), ('username', 'Hardcore'), ('Hardcore', 'Metallica')]\n",
      "talk page; Thank you.; NIGGER NIGGER; talk page.; PIG PIG; JEW FAT;\n",
      "FAT JEW; LOL LOL; speedy deletion; four tildes; Bark Bark; would like;\n",
      "speedy deletion,; fair use; WANKER WANKER; fish fish; five pillars;\n",
      "talk page,; tildes (~~~~);; BALLS BALLS\n"
     ]
    }
   ],
   "source": [
    "from nltk import bigrams\n",
    "\n",
    "# Example of bigrams on the first comment\n",
    "tokens_ej = tokens1[:10]\n",
    "print(list(bigrams(tokens_ej)))\n",
    "\n",
    "# Collocations on the full corpus\n",
    "text_nltk.collocations()"
   ]
  },
  {
   "cell_type": "code",
   "execution_count": 16,
   "id": "405708a7",
   "metadata": {},
   "outputs": [
    {
     "name": "stdout",
     "output_type": "stream",
     "text": [
      "[(3, 1996396), (4, 1813981), (2, 1754160), (5, 1137058), (6, 863858), (7, 819354), (8, 601516), (1, 588287), (9, 424726), (10, 291447)]\n",
      "Most common lenght: 3 (1996396 tokens)\n",
      "Lenght proportion 3: 0.1860\n"
     ]
    }
   ],
   "source": [
    "# Create FreqDist of the tokens lenght\n",
    "fd_len = FreqDist(len(w) for w in all_tokens)\n",
    "\n",
    "# 10 most common sizes\n",
    "print(fd_len.most_common(10))\n",
    "\n",
    "# Most frequent word size and its frequency\n",
    "max_len = fd_len.max()\n",
    "print(f\"Most common lenght: {max_len} ({fd_len[max_len]} tokens)\")\n",
    "print(f\"Lenght proportion {max_len}: {fd_len.freq(max_len):.4f}\")"
   ]
  },
  {
   "cell_type": "code",
   "execution_count": 17,
   "id": "644db62d",
   "metadata": {},
   "outputs": [
    {
     "name": "stdout",
     "output_type": "stream",
     "text": [
      "Tokens with length < 4: ['Why', 'the', 'my', 'Fan', 'on', 'GAs', 'I', 'at', 'New', 'And', 'the', 'the', \"I'm\"]\n",
      "Tokens with length == 4: ['made', 'were', 'They', 'just', 'some', 'York', 'FAC.', 'from', 'talk', 'page']\n",
      "Tokens with length != 4 (first 10): ['Explanation', 'Why', 'the', 'edits', 'under', 'my', 'username', 'Hardcore', 'Metallica', 'Fan']\n"
     ]
    }
   ],
   "source": [
    "# Select short tokens (less than 4 characters) in an example comment\n",
    "short_tokens = [w for w in tokens1 if len(w) < 4]\n",
    "print(f\"Tokens with length < 4: {short_tokens}\")\n",
    "\n",
    "# Select tokens with length exactly 4\n",
    "tokens_eq4 = [w for w in tokens1 if len(w) == 4]\n",
    "print(f\"Tokens with length == 4: {tokens_eq4}\")\n",
    "\n",
    "# Select tokens with length different from 4\n",
    "tokens_not4 = [w for w in tokens1 if len(w) != 4]\n",
    "print(f\"Tokens with length != 4 (first 10): {tokens_not4[:10]}\")"
   ]
  },
  {
   "cell_type": "code",
   "execution_count": 18,
   "id": "31777b3d",
   "metadata": {},
   "outputs": [
    {
     "name": "stdout",
     "output_type": "stream",
     "text": [
      "Tokens with tittle (istitle), examples: ['Kozaks', \"'Commonly'\", 'Soccorondo,', 'Template:Moogfest', 'Why?87.36.25.39', 'Kanada.', '(Law)', 'Talk:Northeast', 'Hasnain..', 'Mannanan51\"', 'Generators', 'Obese', '1(Doubleday', 'Dihydrogen', 'Petrine', '[Grizane],', 'Looney', 'H9332', 'Carlyn', 'Nananananana!\"']\n",
      "NUmeric tokens: ['510', '5332480249395064', '1867', '151', '5800', '650', '933', '327', '79', '1532', '678', '5569', '750', '3627', '322', '620', '162', '271828182', '33333333333333333333333333333333333333333333333333333333333333333333333333333', '12', '550678046', '01384402728', '00033', '0873488245', '1771', '286', '1632', '113', '203', '1326', '1832', '956', '1356', '1219', '424', '573', '1984', '78350', '864', '1774', '126', '1747', '235', '1968', '252', '9780781732819', '454', '0127', '370', '1856', '393', '870', '10017', '1828', '1900', '1817', '53', '1261', '2844', '1517', '1652', '000', '1781', '1767', '1325', '475', '10032', '1942', '1060', '489', '10628', '170', '613', '285', '0000', '401', '301', '14', '1691', '1422', '0416', '216', '77063', '518034284', '2955', '100013400624', '3234434', '725', '149776', '76', '1441', '1895', '752102', '431', '164568', '527', '2230', '555', '9115463', '1948', '132', '225', '534', '16777216', '840', '1928', '3072', '2220', '763', '0582493242', '276', '358', '11000', '390', '294', '1350', '71641', '21', '4200', '04', '2021', '9727453405', '2178', '900008106810', '1369', '3130', '0111', '1869', '0718', '343', '845', '10250', '1243', '175', '504', '17361755', '525', '0791083071', '1786', '1025', '928', '1766', '226', '645', '1133', '1217', '1758', '100013198462', '1855', '1837', '3266', '03235', '7131', '19067', '1046', '99', '591', '1798', '714', '07', '1510', '1809', '2800', '61', '361800511', '335', '1078', '2004', '89', '972', '1562', '2316', '5334252', '321', '133', '37', '0014', '1902', '1527', '3610', '8286186901', '71224', '114', '553', '1866', '521', '325', '1874', '1897', '112', '1736', '2257', '7990', '1734', '8555743092', '9999', '238280020', '292265970', '6403', '1806', '279', '196', '1', '75230', '728', '1779', '12000', '1567', '0658', '110213', '15928', '1117', '289', '242', '4563230007871035', '530', '71049', '232407407', '336', '1733', '1911', '30', '6900', '1077', '622', '675004524', '1905', '77429', '0192151940', '139', '09733', '56', '278', '1833', '2054', '550', '942', '42270', '60', '642742', '16359', '502', '12345', '960', '538', '50000', '92', '346', '1581824602', '1642', '1648', '6048', '41', '18', '1579', '396', '198', '5115', '4388576076497737', '843', '89024', '187', '375', '230001', '11253353', '1588', '813', '907', '142', '411', '1982', '1062', '619', '1502', '490', '0015', '1797', '19273', '1967', '5042', '247246', '273', '116', '1886', '2', '1400', '00000000', '156', '983', '1002', '71096', '715', '292265427', '108', '8076', '70', '808', '178', '1810', '1520', '412', '314', '39465', '1612', '3103', '1561', '118', '2013', '9800', '1871', '1204', '1037', '939', '265', '1360', '121', '1584', '1728', '1836', '1539', '1616', '34', '106', '2512', '1540', '62', '146', '1898', '197', '2929', '1910', '1763', '1873', '0714631205', '872', '55087', '1551', '1795', '1072', '1664', '6483', '160', '10212', '51389', '543', '00035', '2700', '150', '7408', '1313', '1626', '3637', '1710', '1750', '008000', '1005', '125', '1481', '1903', '908', '1732', '1119', '23', '1862', '1943', '1987', '1421', '6070', '1822', '833', '1066', '98', '6000', '03', '90943', '68', '1880', '1811', '1929', '295', '058133', '1971', '1978', '528', '797', '1000000000', '380', '256', '319', '531', '79082', '5298', '452672700', '016', '626', '1991', '2050', '12584780', '73', '351', '03210', '24240', '2022', '1124', '20889076', '1735', '1042', '1713', '1618', '292370091', '1671', '1111111111111111111111111111111111111111111111111111111111111111111111111111111111111111111111111111111111111111111111111111111111111111111111111111111111111111111111111111111111111111111111111111111111111111111111111111111111111111111111111111111111111111111111111111111111111111111111111111111111111111111111111111111111111111111111111111111111111111111111111111111111111111111111111111111111111111111111111111111111111111111111111111111111111111111111111111111111111111111111111111111111111111111111111111111111111111111111111111111111111111111111111111111111111111111111111111111111111111111111111111111111111111111111111111111111111111111111111111111111111111111111111111111111111111111111111111111111111111111111111111111111111111111111111111111111111111111111111111111111111111111111111111111111111111111111111111111111111111111111111111111111111111111111111111111111111111111111111111111111111111111111111111111111111111111111111111111111111111111111111111111111111111111111111111111111111111111111111111111111111111111111111111111111111111111111111111111111111111111111111111111111111111111111111111111111111111111111111111111111111111111111111111111111111111111111111111111111111111111111111111111111111111111111111111111111111111111111111111111111111111111111111111111111111111111111111111111111111111111111111111111111111111111111111111111111111111111111111111111111111111111111111111111111111111', '1699', '851', '85605', '236', '148797275', '7', '1891', '1259', '333', '307', '2188315593', '5275190003794910', '700', '3800', '1802', '368', '0060544309', '52', '1995', '31', '4187', '227', '1760', '5334332', '2015', '6289', '0914', '2060', '195', '214', '00595', '202', '130', '1513', '1030', '00229', '244', '1831', '60637', '270', '4192292559', '1933', '9336', '36', '1907647', '75014', '007', '1846', '5751', '1819', '1990', '455', '2010', '5356', '63', '1593', '00107', '1498', '1568', '849', '292370021', '419', '1126', '1190', '2300', '1555', '3547', '4', '1829', '87', '481', '445', '1163', '8559532716', '21217438', '284', '909090909', '1034', '1174', '1812', '1492', '11572', '185', '67', '444', '250', '1791', '24601', '9781855328259', '1644', '562', '2112', '15619190', '1896', '60000', '557', '1141', '520', '1965', '781', '819', '128', '847', '990', '90231', '62276815', '1739', '780', '1091', '97325293', '269', '570', '224', '1741', '1854', '093', '1606', '1973', '3102', '634', '90025', '486', '1215', '95404', '30008115', '9', '39', '683', '1040', '94105', '1625', '147', '1940', '1597', '846003', '149', '123', '1007', '1695', '1020', '1850', '5002', '642', '753', '00402', '6211360', '259', '5462', '1079', '1707', '1565927249', '745', '137', '3000', '8508', '1864', '131428', '842', '365', '1914', '1749', '326087077', '1966', '879', '1224', '1906', '71514', '9300', '459', '148', '80386', '598', '1262', '262', '1150', '3450', '264', '1633', '74000', '582', '104', '1453', '665330', '1647', '239', '434', '333193923', '1820', '02088982252', '787', '6526', '1630', '91207', '48911', '026', '495', '2707', '1168', '4950', '501', '48', '2100', '1947', '1941', '1859', '94', '75207', '17', '32', '009', '40', '667', '58', '10946496', '38', '538693', '1364', '1623', '੭', '124', '1179', '309', '69', '1241', '27', '905', '174', '1265', '1634', '4426441026950281', '100013404120', '44', '1983', '3848', '1922', '308', '191', '4241', '0060882417', '3401537770', '10018', '749', '9849219269', '8727', '03215', '1328', '277', '1887', '1780', '720', '617', '1300', '2661', '29', '422', '192', '0440567351', '997', '488', '1722', '1939', '1592', '1825', '03220', '1776', '1450', '1456', '1603', '17500', '452', '263', '452001', '1530', '82', '46', '100012570199', '4600', '123456', '7750', '07981', '72293', '2728444', '03240', '1755', '255³', '732', '800', '2241', '100000000000000000', '14609', '55', '5555', '9575', '310', '671', '383', '1916', '71141', '00151', '10062', '0738202711', '1554', '1685', '26810', '437', '1904', '110629', '34368411', '2016', '19', '71804', '880', '532', '439', '651', '189', '261', '2003', '71257', '730', '1931', '97', '2009051010000428', '1935071858', '754', '670', '355', '117', '127', '5127', '72', '2009', '15000', '93', '377', '1840', '850', '706', '71406', '6025', '16', '744', '1762', '2658766', '1494', '440', '8032', '704', '883', '2006', '0415', '56767', '05', '1959', '1757', '2001', '331', '359', '1909', '8175361840', '255', '181', '54', '1001', '1777', '1759', '820', '3331', '1694', '498', '186', '2360', '8080', '08', '5170', '1918', '3181', '382', '6500', '900', '353', '610', '1285', '8025', '0650', '176', '1389', '607', '1882', '1768', '232', '1178', '1084', '1920', '7100', '84', '512', '410', '7073189467', '1925', '568', '548', '274177', '13', '522', '1006', '414', '1230', '257', '1793', '647', '1100', '1314', '681', '1286', '457', '211', '1851', '215', '71209', '1577', '1541', '71176', '1823', '901', '858', '18037011', '89084', '836', '311', '1511', '494', '1975', '1014', '101', '28', '1558604790', '1890', '167', '2086', '387', '011', '1485', '2056', '2705', '409', '93550', '4420', '1718', '389', '090', '566', '5599', '600', '1565', '900031963598', '291', '7500', '91093', '2805', '9711051020', '88', '245', '14617', '4294967297', '1053', '1650', '648', '1666', '976', '1580', '484', '159', '00175', '1202', '18000', '860', '1847', '1790', '01729', '350', '385', '72087', '1839', '609', '1424', '1052', '1143', '1322', '831', '347', '655', '399', '400', '729', '687686537', '282', '2061', '168', '875', '1952', '1746', '352', '00923236916674', '13339', '941', '829', '1515', '263111948', '1138', '1076', '1488', '302', '640', '8800', '7000', '1181', '4266841268957642', '1789', '1901', '980', '1889', '645530', '537', '6611', '138', '205', '326', '1297', '1860', '1919', '3216', '2192014408', '1348', '210', '00587', '1010', '25000', '005', '7110', '21445725', '1310', '771', '29000', '230000000', '267', '22', '902', '1865', '135', '1974', '454530404', '946', '2020', '1868', '1964', '304', '816', '140', '1323', '713', '1745', '1128', '895', '4223523', '1471', '1436', '1960', '292369952', '1440', '485', '1849', '505', '1744', '110', '2277', '890', '13000', '1113', '9367079048', '06', '1106', '274', '0877277230', '722', '280713', '120', '04242', '85635', '15', '679', '1216', '507', '748', '4242', '3527', '483', '386', '238', '21045', '1479', '1605', '345', '1875', '8555743091', '586', '1827', '559', '1843', '163', '2035', '50', '207', '625', '432', '42', '1534', '1278', '0415969107', '200815', '0612', '152', '1807', '75019', '8275', '430', '727', '8000', '1970', '1826', '0853', '24079683', '09', '1899', '30501', '1801', '448', '1794', '5', '212', '188', '742538', '737', '751', '3200', '1877', '1972', '2009022410051826', '222', '28583123', '398', '3300', '72362', '1804', '1719', '100', '1927', '303', '1663', '1842', '7134', '6400', '986', '3400', '812', '134', '62249897', '0110', '4320', '002', '231', '1998', '324', '40000', '1885', '1468', '1125', '00164', '292266526', '30000', '65335', '217', '254', '240', '1500', '1985', '999', '0200', '249', '1043', '86', '4437', '1333', '77', '78', '199', '230', '2407', '356', '94709', '228', '10120', '8621', '1805', '20004', '00184', '00122', '243', '1477', '0010', '80286', '204', '0382299275', '1098', '636', '1715', '945', '3641', '98141866', '0766', '1189', '59', '5775', '8601', '00409', '000000', '166', '6', '168443', '1320', '1175', '71700', '1337', '408', '66', '2046', '090505', '468', '1402', '61400', '633', '115', '0413', '221', '20798285', '57', '533', '6829', '3868', '0966662415', '5020', '010001', '1563', '80', '467', '818', '0415289556', '95', '298', '497', '1270', '996', '00', '234980834', '276393245', '292370239', '888', '472', '9000', '106000', '293', '0422', '1956', '52278', '1566471001', '74', '1660', '2010032110008071', '1486', '1050', '012', '122', '2419', '1536', '03275', '330', '1857', '1280', '1169', '2186223820', '3436', '5489', '1977', '00579', '1994', '275', '1700', '21063', '1838', '241', '1210', '910', '371', '13462', '603', '90', '7300', '9781622920020', '2048', '360', '97233', '87301', '511', '927', '1830', '45000', '143', '1641', '388', '1640', '2845', '1596', '272', '1932', '229', '1934', '588', '2007', '1041', '2170', '10000000', '1852', '397', '1686', '2014', '2654431', '7070', '100000', '428', '9780674006621', '094', '13909', '9001', '18344', '0101', '287', '292', '653', '299', '11566102', '965', '539322', '639', '2008', '932', '1949', '413', '100000000000000000000000000000', '5300', '03230', '71373', '180', '1170', '1893', '1548', '237', '2569', '426', '577', '846', '246', '38909607', '545397483979123', '01711', '1649', '581', '2000', '109', '3048', '10927899', '65', '290', '747', '574', '523', '575', '71029', '55317', '13861', '1861', '5774', '991', '251', '194', '131', '1884', '1858', '165', '51', '8416', '930', '491', '726', '292369868', '403', '1814', '429', '1954', '71583', '00075', '1355', '707', '407', '172', '317', '161', '10681', '26328', '9036410089', '878660', '312', '4131', '02', '1497', '219', '767', '91', '71910', '826', '5600', '058162', '1021', '1815', '306', '49', '969', '1980', '624', '1061', '638', '90210', '802', '1870', '1689', '292320956', '2409', '1415', '141', '6521', '982', '1048', '1986', '1193', '00098', '13500', '1915', '11', '992', '3500', '339', '841', '1587', '35044', '136', '90265', '7272', '75', '1816', '995', '1423', '711', '2226', '183', '173', '94662', '2084', '1792', '1723', '447', '8086', '791', '2559', '2018', '6538', '717', '1848', '171', '3366', '1166', '2900', '0918', '515', '1908', '4077', '1559', '768', '1772', '693', '01', '1688', '374', '5070', '1958', '909', '674', '21870056', '462', '342', '1883', '233', '1578', '544', '71721', '72233', '1881', '1112', '1247', '305', '1930', '200', '539', '0011', '644', '247', '2211', '950', '3330', '1872', '00966568817680', '9036406239', '100000000', '35', '100013392850', '1525', '817', '1111111111111111111111', '4265', '021', '4096', '1000', '155', '1653', '951', '129', '008', '280', '1996', '1378', '1365', '100013393337', '12951', '1558', '201', '5088', '1946', '70173', '1845', '99800', '83', '1711', '742', '3900', '7434', '935', '1543', '1683', '1198', '940', '0001', '25', '1912', '248', '1248', '218', '4372', '177', '710', '103', '71615', '4000', '10000', '540', '1646', '71506', '80486', '415', '85', '1195', '1309', '68146', '1635', '292272282', '1787', '27000', '006', '³', '614', '1446', '00037', '5888', '4215', '6787173', '3750', '1937', '315', '2030', '6522', '2011', '1993', '3545', '1003', '10096', '1938', '1907', '2400', '630', '453', '1821', '0753827085', '1969', '07791', '556', '500', '874', '423', '1457', '500000', '1661', '466', '1000000', '782', '5901724216', '765658', '5200', '45', '1834', '1997', '2002', '3', '1979', '1725', '420', '5466160127371548', '10220', '1989', '8556304628', '102', '144', '182', '758', '844', '1935', '1476', '1067', '1953', '1945', '1200', '1841', '578', '1892', '71', '04980', '1785', '369', '223', '22631', '20020906', '685', '0100', '1542', '1863', '1599', '00038', '718', '947', '5771', '1879', '209', '804', '621', '1080', '5001', '2047', '47', '1765', '921', '234', '1824', '517', '1011', '1917', '775', '72010', '039', '0', '004', '666', '26', '852', '323', '985', '777', '292369754', '16051', '1961', '29441622', '1244', '1729', '680', '24', '1015', '1876', '86000', '318', '313', '6786304350', '1157', '0910311927', '292369674', '200000', '425', '1773', '010', '14000', '1705', '361', '1600', '699', '4872', '522983808', '1988', '721', '616', '673', '1146', '1999', '912', '461', '384', '5100', '5700', '11070630', '882', '5584', '724', '632', '145', '1368', '003', '71464', '1992', '0823088308', '1595', '45215', '100013397755', '576', '595', '1950', '1853', '963', '19000', '567', '1139', '660', '1330', '416', '63751', '6831', '157', '1287678', '316', '1951', '1800', '9014', '1878', '187312465', '300', '1818', '1581', '341', '1281', '96', '1924', '628', '2272', '5000', '506', '02139', '362', '2200', '1923', '1026', '16185', '027', '1751', '911', '296', '43', '111', '1639', '340', '64', '00325', '5191', '10', '790', '3768', '1248277865155', '806', '190', '1844', '1495', '320', '271', '2773', '3220', '695', '2492', '154', '524', '580143711', '328', '81', '9995', '518', '1546', '464', '604', '661', '90017', '107', '1144', '8472', '179', '1185', '16467739974', '105', '757', '518110', '193', '1226', '865', '2600', '1387', '1028', '1501', '2017', '675006605', '1191', '9525', '1913', '1957', '51024', '450', '405', '1621', '20000', '395', '2012', '7800', '220', '1604', '99999', '3410', '164', '1024', '1962', '2135', '4500', '944', '1944', '2842', '1742', '46323', '585', '213', '210200555', '1620', '1888', '75376', '1051', '81471881', '1926', '810', '1036', '1803', '283', '¹', '184', '1981', '0120487500', '0521270642', '253', '1796', '158', '33', '1610', '20', '404', '18066', '20095', '1234', '1799', '2500', '8', '001', '100012987475', '1963', '266', '256247715', '442', '435', '1601', '10400', '1921', '13913332', '623', '16000', '65000', '1770', '734', '708', '16304', '1566311', '1712', '153', '1808', '357', '00923147007006', '1638', '337', '22007', '1936', '100013390286', '731', '2233', '513', '823', '1955', '2505', '1118', '12955759', '2005', '929', '1334', '03225', '0932', '119', '3960', '1894', '1976', '2549', '1279', '260']\n",
      "Number of alphanumeric tokens: 160797\n"
     ]
    }
   ],
   "source": [
    "# Tokens starting with cappital letter (istitle)\n",
    "tokens_title = [w for w in set(all_tokens) if w.istitle()]\n",
    "print(f\"Tokens with tittle (istitle), examples: {tokens_title[:20]}\")\n",
    "\n",
    "# Tokens with digits (isdigit o any)\n",
    "tokens_digits = [w for w in set(all_tokens) if w.isdigit()]\n",
    "print(f\"NUmeric tokens: {tokens_digits}\")\n",
    "\n",
    "# Alphanumeric tokens (isalpha)\n",
    "tokens_alpha = [w for w in set(all_tokens) if w.isalpha()]\n",
    "print(f\"Number of alphanumeric tokens: {len(tokens_alpha)}\")"
   ]
  },
  {
   "cell_type": "code",
   "execution_count": 19,
   "id": "f57c4293",
   "metadata": {},
   "outputs": [
    {
     "name": "stdout",
     "output_type": "stream",
     "text": [
      "Tokens with 'nigger' (case-insensitive): 3532\n",
      "trying removing talking formatting tidying formatting intending anything requesting breeding uploading being using checking clicking selecting lacking uploading adding licensing \n"
     ]
    }
   ],
   "source": [
    "sub = 'nigger' \n",
    "count_sub = 0\n",
    "for w in all_tokens:\n",
    "    if sub in w.lower():\n",
    "        count_sub += 1\n",
    "print(f\"Tokens with '{sub}' (case-insensitive): {count_sub}\")\n",
    "\n",
    "# Print tokens ending with\n",
    "sub = 'ing'\n",
    "printed = 0\n",
    "for w in all_tokens:\n",
    "    if w.lower().endswith(sub):\n",
    "        print(w, end=' ')\n",
    "        printed += 1\n",
    "        if printed >= 20:\n",
    "            break\n",
    "print() "
   ]
  },
  {
   "cell_type": "code",
   "execution_count": 20,
   "id": "26fc3084",
   "metadata": {},
   "outputs": [
    {
     "name": "stdout",
     "output_type": "stream",
     "text": [
      "my is alphabetic\n",
      "Why is alphabetic\n",
      "I is alphabetic\n",
      "Fan is alphabetic\n",
      "made is alphabetic\n",
      "please is alphabetic\n",
      "on is alphabetic\n",
      "page is alphabetic\n",
      "weren't is mixed\n",
      "reverted? is mixed\n",
      "were is alphabetic\n",
      "And is alphabetic\n",
      "at is alphabetic\n",
      "New is alphabetic\n",
      "username is alphabetic\n",
      "vandalisms, is mixed\n",
      "Metallica is alphabetic\n",
      "under is alphabetic\n",
      "remove is alphabetic\n",
      "York is alphabetic\n",
      "since is alphabetic\n",
      "Dolls is alphabetic\n",
      "from is alphabetic\n",
      "some is alphabetic\n",
      "Hardcore is alphabetic\n",
      "They is alphabetic\n",
      "don't is mixed\n",
      "I'm is mixed\n",
      "talk is alphabetic\n",
      "now.89.205.38.27 is mixed\n",
      "just is alphabetic\n",
      "voted is alphabetic\n",
      "the is alphabetic\n",
      "retired is alphabetic\n",
      "template is alphabetic\n",
      "edits is alphabetic\n",
      "Explanation is alphabetic\n",
      "FAC. is mixed\n",
      "closure is alphabetic\n",
      "after is alphabetic\n",
      "GAs is alphabetic\n"
     ]
    }
   ],
   "source": [
    "# Clasify tokens based on type: digit, alphabetic or mixed\n",
    "for w in set(tokens1):\n",
    "    if w.isdigit():\n",
    "        print(f\"{w} is numeric\")\n",
    "    elif w.isalpha():\n",
    "        print(f\"{w} is alphabetic\")\n",
    "    else:\n",
    "        print(f\"{w} is mixed\")"
   ]
  }
 ],
 "metadata": {
  "kernelspec": {
   "display_name": "Python 3",
   "language": "python",
   "name": "python3"
  },
  "language_info": {
   "codemirror_mode": {
    "name": "ipython",
    "version": 3
   },
   "file_extension": ".py",
   "mimetype": "text/x-python",
   "name": "python",
   "nbconvert_exporter": "python",
   "pygments_lexer": "ipython3",
   "version": "3.11.9"
  }
 },
 "nbformat": 4,
 "nbformat_minor": 5
}
