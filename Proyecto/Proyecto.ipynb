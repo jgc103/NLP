{
 "cells": [
  {
   "cell_type": "markdown",
   "id": "faed0adc",
   "metadata": {},
   "source": [
    "Carga y Visualización de Datos"
   ]
  },
  {
   "cell_type": "code",
   "execution_count": 37,
   "id": "e563cc9b",
   "metadata": {},
   "outputs": [
    {
     "name": "stdout",
     "output_type": "stream",
     "text": [
      "Train DataFrame shape: (159571, 8)\n",
      "\n",
      "Train Data Head:\n",
      "                 id                                       comment_text  toxic  \\\n",
      "0  0000997932d777bf  Explanation\\nWhy the edits made under my usern...      0   \n",
      "1  000103f0d9cfb60f  D'aww! He matches this background colour I'm s...      0   \n",
      "2  000113f07ec002fd  Hey man, I'm really not trying to edit war. It...      0   \n",
      "3  0001b41b1c6bb37e  \"\\nMore\\nI can't make any real suggestions on ...      0   \n",
      "4  0001d958c54c6e35  You, sir, are my hero. Any chance you remember...      0   \n",
      "\n",
      "   severe_toxic  obscene  threat  insult  identity_hate  \n",
      "0             0        0       0       0              0  \n",
      "1             0        0       0       0              0  \n",
      "2             0        0       0       0              0  \n",
      "3             0        0       0       0              0  \n",
      "4             0        0       0       0              0  \n",
      "\n",
      "Valores nulos por columna en train:\n",
      "id               0\n",
      "comment_text     0\n",
      "toxic            0\n",
      "severe_toxic     0\n",
      "obscene          0\n",
      "threat           0\n",
      "insult           0\n",
      "identity_hate    0\n",
      "dtype: int64\n",
      "\n",
      "Distribución de etiquetas en el dataset de entrenamiento:\n",
      "toxic            15294\n",
      "obscene           8449\n",
      "insult            7877\n",
      "severe_toxic      1595\n",
      "identity_hate     1405\n",
      "threat             478\n",
      "dtype: int64\n"
     ]
    },
    {
     "data": {
      "image/png": "[encoded data removed]",
      "text/plain": [
       "<Figure size 1000x600 with 1 Axes>"
      ]
     },
     "metadata": {},
     "output_type": "display_data"
    }
   ],
   "source": [
    "import pandas as pd\n",
    "import nltk\n",
    "import numpy as np\n",
    "import matplotlib.pyplot as plt\n",
    "import seaborn as sns\n",
    "\n",
    "df = pd.read_csv('Dataset/train.csv')\n",
    "\n",
    "print(\"Train DataFrame shape:\", df.shape)\n",
    "\n",
    "print(\"\\nTrain Data Head:\")\n",
    "print(df.head())\n",
    "\n",
    "print(\"\\nValores nulos por columna en train:\")\n",
    "print(train_df.isnull().sum())\n",
    "\n",
    "label_cols = ['toxic', 'severe_toxic', 'obscene', 'threat', 'insult', 'identity_hate']\n",
    "print(\"\\nDistribución de etiquetas en el dataset de entrenamiento:\")\n",
    "print(df[label_cols].sum().sort_values(ascending=False))\n",
    "\n",
    "plt.figure(figsize=(10,6))\n",
    "sns.barplot(x=df[label_cols].sum().index, y=df[label_cols].sum().values)\n",
    "plt.title('Distribución de comentarios por etiqueta')\n",
    "plt.ylabel('Número de comentarios')\n",
    "plt.xlabel('Etiqueta')\n",
    "plt.show()"
   ]
  },
  {
   "cell_type": "markdown",
   "id": "1441313a38f6985f",
   "metadata": {},
   "source": [
    "Capítulo 1"
   ]
  },
  {
   "cell_type": "code",
   "execution_count": 38,
   "id": "11e10203",
   "metadata": {},
   "outputs": [
    {
     "name": "stdout",
     "output_type": "stream",
     "text": [
      "Comentario de ejemplo:\n",
      " Explanation\n",
      "Why the edits made under my username Hardcore Metallica Fan were reverted? They weren't vandalisms, just closure on some GAs after I voted at New York Dolls FAC. And please don't remove the template from the talk page since I'm retired now.89.205.38.27\n",
      "\n",
      "Tokens:\n",
      " ['Explanation', 'Why', 'the', 'edits', 'made', 'under', 'my', 'username', 'Hardcore', 'Metallica', 'Fan', 'were', 'reverted?', 'They', \"weren't\", 'vandalisms,', 'just', 'closure', 'on', 'some', 'GAs', 'after', 'I', 'voted', 'at', 'New', 'York', 'Dolls', 'FAC.', 'And', 'please', \"don't\", 'remove', 'the', 'template', 'from', 'the', 'talk', 'page', 'since', \"I'm\", 'retired', 'now.89.205.38.27']\n",
      "\n",
      "Número de tokens en este comentario: 43\n"
     ]
    }
   ],
   "source": [
    "# Selecciona un comentario de ejemplo\n",
    "comentario = df.loc[0, 'comment_text']\n",
    "print(\"Comentario de ejemplo:\\n\", comentario)\n",
    "\n",
    "# Tokenización sencilla: separar por espacios\n",
    "tokens = comentario.split()\n",
    "print(\"\\nTokens:\\n\", tokens)\n",
    "print(f\"\\nNúmero de tokens en este comentario: {len(tokens)}\")"
   ]
  },
  {
   "cell_type": "code",
   "execution_count": 39,
   "id": "015f6385",
   "metadata": {},
   "outputs": [
    {
     "name": "stdout",
     "output_type": "stream",
     "text": [
      "Total de tokens en el corpus: 10734904\n",
      "Número de tipos de tokens distintos: 532299\n"
     ]
    }
   ],
   "source": [
    "# Tokenizar todos los comentarios usando split()\n",
    "todos_tokens = []\n",
    "for text in df['comment_text']:\n",
    "    todos_tokens.extend(text.split())\n",
    "\n",
    "# Cálculos básicos\n",
    "total_tokens = len(todos_tokens)\n",
    "vocabulario = set(todos_tokens)\n",
    "num_types = len(vocabulario)\n",
    "\n",
    "print(f\"Total de tokens en el corpus: {total_tokens}\")\n",
    "print(f\"Número de tipos de tokens distintos: {num_types}\")"
   ]
  },
  {
   "cell_type": "code",
   "execution_count": 47,
   "id": "4ad59a68",
   "metadata": {},
   "outputs": [
    {
     "name": "stdout",
     "output_type": "stream",
     "text": [
      "Diversidad léxica global: 0.0496\n",
      "Apariciones de 'nigger': 692 (0.0064% del corpus)\n"
     ]
    }
   ],
   "source": [
    "def lexical_diversity(tokens):\n",
    "    \"\"\"Retorna la diversidad léxica: número de tipos dividido por número de tokens\"\"\"\n",
    "    return len(set(tokens)) / len(tokens)\n",
    "\n",
    "def percentage(count, total):\n",
    "    \"\"\"Retorna el porcentaje que representa count sobre total\"\"\"\n",
    "    return 100 * count / total\n",
    "\n",
    "# Diversidad léxica global\n",
    "div_global = lexical_diversity(todos_tokens)\n",
    "# Porcentaje de la palabra 'toxic' en el corpus\n",
    "count_toxic = todos_tokens.count('nigger')\n",
    "porc_toxic = percentage(count_toxic, total_tokens)\n",
    "\n",
    "print(f\"Diversidad léxica global: {div_global:.4f}\")\n",
    "print(f\"Apariciones de 'nigger': {count_toxic} ({porc_toxic:.4f}% del corpus)\")"
   ]
  },
  {
   "cell_type": "code",
   "execution_count": 82,
   "id": "083dec3a",
   "metadata": {},
   "outputs": [
    {
     "name": "stdout",
     "output_type": "stream",
     "text": [
      "Displaying 25 of 3251 matches:\n",
      " warning then you fucking block me, nigger cunt eat pussy bitch Bob Parsons Th\n",
      "ith its liberal defenders, FUCK YOU NIGGER OBOAMA! List of FNL awards and noms\n",
      "ple. In my holy opinion, there is a nigger inside of all of us. People (like y\n",
      "and mexicans try to compete with da nigger Gs but we r too strong. but in real\n",
      "son, you suck. Stop being so white. Nigger pride. -(non-white person) \" A case\n",
      " Are you a gay nigger? Then the Gay Nigger Association of America is right for\n",
      "suggestions now. IN THE anus with a nigger dick in it.68.33.41.181 The use of \n",
      " all for your input ) Fan-1967 is a nigger licker Fan-1967 is a nigger licker \n",
      "67 is a nigger licker Fan-1967 is a nigger licker Fan-1967 is a nigger licker \n",
      "67 is a nigger licker Fan-1967 is a nigger licker Fan-1967 is a nigger licker \n",
      "67 is a nigger licker Fan-1967 is a nigger licker Fan-1967 is a nigger licker \n",
      "67 is a nigger licker Fan-1967 is a nigger licker Fan-1967 is a nigger licker \n",
      "67 is a nigger licker Fan-1967 is a nigger licker Fan-1967 is a nigger licker \n",
      "67 is a nigger licker Fan-1967 is a nigger licker Fan-1967 is a nigger licker \n",
      "67 is a nigger licker Fan-1967 is a nigger licker Fan-1967 is a nigger licker \n",
      "67 is a nigger licker Fan-1967 is a nigger licker Fan-1967 is a nigger licker \n",
      "67 is a nigger licker Fan-1967 is a nigger licker Fan-1967 is a nigger licker \n",
      "67 is a nigger licker Fan-1967 is a nigger licker Fan-1967 is a nigger licker \n",
      "67 is a nigger licker Fan-1967 is a nigger licker Fan-1967 is a nigger licker \n",
      "67 is a nigger licker Fan-1967 is a nigger licker Fan-1967 is a nigger licker \n",
      "67 is a nigger licker Fan-1967 is a nigger licker Fan-1967 is a nigger licker \n",
      "67 is a nigger licker Fan-1967 is a nigger licker Fan-1967 is a nigger licker \n",
      "67 is a nigger licker Fan-1967 is a nigger licker Fan-1967 is a nigger licker \n",
      "67 is a nigger licker Fan-1967 is a nigger licker Fan-1967 is a nigger licker \n",
      "67 is a nigger licker Fan-1967 is a nigger licker Fan-1967 is a nigger licker \n"
     ]
    }
   ],
   "source": [
    "from nltk.text import Text\n",
    "# Crear un objeto Text a partir de la lista de tokens\n",
    "text_nltk = Text(todos_tokens)\n",
    "# Mostrar concordancias de la palabra 'toxic'\n",
    "text_nltk.concordance('nigger')"
   ]
  },
  {
   "cell_type": "code",
   "execution_count": 56,
   "id": "5b8d5b66",
   "metadata": {},
   "outputs": [
    {
     "data": {
      "image/png": "[encoded data removed]",
      "text/plain": [
       "<Figure size 640x480 with 1 Axes>"
      ]
     },
     "metadata": {},
     "output_type": "display_data"
    }
   ],
   "source": [
    "# Para visualizar tendencias de uso de ciertas palabras\n",
    "environment = Text(todos_tokens)\n",
    "%matplotlib inline\n",
    "environment.dispersion_plot(['nigga', 'fat', 'faggot', 'jew'])"
   ]
  },
  {
   "cell_type": "code",
   "execution_count": 61,
   "id": "0d1f67ff",
   "metadata": {},
   "outputs": [
    {
     "name": "stdout",
     "output_type": "stream",
     "text": [
      "Comentario 1: Explanation\n",
      "Why the edits made under my username Hardcore Metallica Fan were reverted? They weren't vandalisms, just closure on some GAs after I voted at New York Dolls FAC. And please don't remove the template from the talk page since I'm retired now.89.205.38.27\n",
      "Lista de tokens (primeros 20): ['Explanation', 'Why', 'the', 'edits', 'made', 'under', 'my', 'username', 'Hardcore', 'Metallica', 'Fan', 'were', 'reverted?', 'They', \"weren't\", 'vandalisms,', 'just', 'closure', 'on', 'some']\n"
     ]
    }
   ],
   "source": [
    "# Tomemos un comentario de ejemplo y representémoslo como lista de palabras\n",
    "comentario1 = df.loc[0, 'comment_text']\n",
    "print(\"Comentario 1:\", comentario1)\n",
    "# Tokenización sencilla: split por espacios\n",
    "tokens1 = comentario1.split()\n",
    "print(f\"Lista de tokens (primeros 20): {tokens1[:20]}\")"
   ]
  },
  {
   "cell_type": "code",
   "execution_count": 66,
   "id": "6757c310",
   "metadata": {},
   "outputs": [
    {
     "name": "stdout",
     "output_type": "stream",
     "text": [
      "Número de tokens en comentario1: 43\n",
      "Apariciones de la palabra 'Hardcore': 1\n",
      "Longitud combinada de tokens: 60\n",
      "Últimos 5 tokens después de append: ['since', \"I'm\", 'retired', 'now.89.205.38.27', '<END>']\n"
     ]
    }
   ],
   "source": [
    "# 4.1 Longitud y conteo de un token\n",
    "print(f\"Número de tokens en comentario1: {len(tokens1)}\")\n",
    "print(f\"Apariciones de la palabra 'Hardcore': {tokens1.count('Hardcore')}\")\n",
    "\n",
    "# 4.2 Concatenación de listas: unir dos comentarios\n",
    "comentario2 = df.loc[1, 'comment_text']\n",
    "tokens2 = comentario2.split()\n",
    "tokens_concat = tokens1 + tokens2\n",
    "print(f\"Longitud combinada de tokens: {len(tokens_concat)}\")\n",
    "\n",
    "# 4.3 Append: añadir un token al final\n",
    "tokens1_copy = tokens1.copy()\n",
    "tokens1_copy.append('<END>')\n",
    "print(f\"Últimos 5 tokens después de append: {tokens1_copy[-5:]}\")"
   ]
  },
  {
   "cell_type": "code",
   "execution_count": 71,
   "id": "7918a7cd",
   "metadata": {},
   "outputs": [
    {
     "name": "stdout",
     "output_type": "stream",
     "text": [
      "Token en posición 10: Fan\n",
      "Primera ocurrencia de 'Fan' en tokens_concat en el índice: 10\n",
      "Contexto alrededor de 'toxic': ['Hardcore', 'Metallica', 'Fan', 'were', 'reverted?']\n"
     ]
    }
   ],
   "source": [
    "# 5.1 Obtener el token en una posición concreta (e.g., la posición 10)\n",
    "if len(tokens1) > 10:\n",
    "    print(f\"Token en posición 10: {tokens1[10]}\")\n",
    "\n",
    "# 5.2 Encontrar índice de la primera ocurrencia de 'toxic' (si existe)\n",
    "if 'Fan' in tokens_concat:\n",
    "    idx = tokens_concat.index('Fan')\n",
    "    print(f\"Primera ocurrencia de 'Fan' en tokens_concat en el índice: {idx}\")\n",
    "\n",
    "# 5.3 Slicing: obtener ventana de 5 tokens alrededor de esa posición\n",
    "    start = max(idx - 2, 0)\n",
    "    end = idx + 3\n",
    "    print(f\"Contexto alrededor de 'toxic': {tokens_concat[start:end]}\")"
   ]
  },
  {
   "cell_type": "code",
   "execution_count": 72,
   "id": "eb1b62e6",
   "metadata": {},
   "outputs": [
    {
     "name": "stdout",
     "output_type": "stream",
     "text": [
      "Total de tokens combinados: 60\n",
      "Número de tipos distintos en tokens_concat: 57\n"
     ]
    }
   ],
   "source": [
    "# Guardamos tipos y token counts como variables\n",
    "total_tokens = len(tokens_concat)\n",
    "distinct_types = len(set(tokens_concat))\n",
    "\n",
    "print(f\"Total de tokens combinados: {total_tokens}\")\n",
    "print(f\"Número de tipos distintos en tokens_concat: {distinct_types}\")"
   ]
  },
  {
   "cell_type": "code",
   "execution_count": 73,
   "id": "55f1af73",
   "metadata": {},
   "outputs": [
    {
     "name": "stdout",
     "output_type": "stream",
     "text": [
      "Primer token: Explanation\n",
      "Primer caracter de 'Explanation': E\n",
      "Primeros 4 caracteres de 'Explanation': Expl\n",
      "Duplicar word: ExplanationExplanation\n",
      "Añadir exclamación: Explanation!\n",
      "Joined (primeros 10 tokens): Explanation Why the edits made under my username Hardcore Metallica\n",
      "Split de nuevo: ['Explanation', 'Why', 'the', 'edits', 'made', 'under', 'my', 'username', 'Hardcore', 'Metallica']\n"
     ]
    }
   ],
   "source": [
    "# Tomemos el primer token y veamos operaciones de string\n",
    "word = tokens1[0] if tokens1 else ''\n",
    "print(f\"Primer token: {word}\")\n",
    "\n",
    "# 7.1 Indexación de caracteres\n",
    "if len(word) >= 1:\n",
    "    print(f\"Primer caracter de '{word}': {word[0]}\")\n",
    "\n",
    "# 7.2 Slicing de string\n",
    "print(f\"Primeros 4 caracteres de '{word}': {word[:4]}\")\n",
    "\n",
    "# 7.3 Multiplicación y concatenación de strings\n",
    "print(f\"Duplicar word: {word * 2}\")\n",
    "print(f\"Añadir exclamación: {word + '!'}\")\n",
    "\n",
    "# 7.4 Unir lista de tokens en string y volver a splitear\n",
    "joined = ' '.join(tokens1[:10])\n",
    "print(f\"Joined (primeros 10 tokens): {joined}\")\n",
    "print(f\"Split de nuevo: {joined.split()}\" )"
   ]
  },
  {
   "cell_type": "code",
   "execution_count": 76,
   "id": "44dffd74",
   "metadata": {},
   "outputs": [
    {
     "name": "stdout",
     "output_type": "stream",
     "text": [
      "<FreqDist with 532299 samples and 10734904 outcomes>\n",
      "[('the', 445987), ('to', 288817), ('of', 219334), ('and', 207381), ('a', 201817), ('I', 183930), ('is', 164639), ('you', 157272), ('that', 140545), ('in', 130262), ('for', 96010), ('it', 92651), ('on', 84453), ('not', 83944), ('\"', 81755), ('be', 80928), ('this', 71429), ('have', 69414), ('as', 68345), ('are', 66277)]\n",
      "Apariciones de 'nigger': 692\n"
     ]
    }
   ],
   "source": [
    "from nltk.probability import FreqDist\n",
    "\n",
    "# Asumiendo todos_tokens como la lista de tokens global creada en Capítulo 1\n",
    "dist_freq = FreqDist(todos_tokens)\n",
    "print(dist_freq)\n",
    "\n",
    "# Mostrar las 20 palabras más frecuentes\n",
    "print(dist_freq.most_common(20))\n",
    "\n",
    "# Frecuencia del token 'nigger'\n",
    "print(f\"Apariciones de 'nigger': {dist_freq['nigger']}\")"
   ]
  },
  {
   "cell_type": "code",
   "execution_count": 77,
   "id": "c026faa1",
   "metadata": {},
   "outputs": [
    {
     "name": "stdout",
     "output_type": "stream",
     "text": [
      "Número de hapaxes: 348064\n",
      "Ejemplos de hapaxes: ['now.89.205.38.27', \"D'aww!\", 'Wikipedia:Good_article_nominations#Transport', 'Shirvington', 'article(wow', \"'animal\", \"breeding'\", 'eugenics?', 'it-maybe', 'phone?', 'TALIBANS...who', '(non)-contribution', 'itself-making', 'relevant-this', 'ex-president', 'aircracft', 'liberally.', 'Yvesnimmo.', 'Santanas', 'Diplomats.']\n"
     ]
    }
   ],
   "source": [
    "hapaxes = dist_freq.hapaxes()\n",
    "print(f\"Número de hapaxes: {len(hapaxes)}\")\n",
    "print(f\"Ejemplos de hapaxes: {hapaxes[:20]}\")"
   ]
  },
  {
   "cell_type": "code",
   "execution_count": 81,
   "id": "9fa2add4",
   "metadata": {},
   "outputs": [
    {
     "name": "stdout",
     "output_type": "stream",
     "text": [
      "['\"\"Extracurriculur\"\"', '(Baseball-Reference.com)', '1|#FFFF00|white||This', 'TABMüngersdorferstadion', 'anti-circumcision.', 'appreciated.But,', 'common-knowledge', 'holier-than-thou,', 'http://www.ahherald.com/images/news/2004/anarchy.jpg', 'troll/nazi/zealot,']\n",
      "['!align=\"\"center\"\"', '!style=\"\"background:', '\"\"...and', '\"\"...the', '\"\"According', '\"\"African', '\"\"Alexander', '\"\"Allegations', '\"\"Alternative', '\"\"Although']\n"
     ]
    }
   ],
   "source": [
    "# Palabras del vocabulario con más de 15 caracteres\n",
    "vocab = set(todos_tokens)\n",
    "long_palabras = [w for w in vocab if len(w) > 15]\n",
    "print(sorted(long_palabras[:10]))\n",
    "\n",
    "# Palabras con longitud > 7 y frecuencia > 7\n",
    "freq_largas = sorted(w for w in vocab if len(w) > 7 and dist_freq[w] > 7)\n",
    "print(freq_largas[:10])"
   ]
  },
  {
   "cell_type": "code",
   "execution_count": 79,
   "id": "e4f41723",
   "metadata": {},
   "outputs": [
    {
     "name": "stdout",
     "output_type": "stream",
     "text": [
      "[('Explanation', 'Why'), ('Why', 'the'), ('the', 'edits'), ('edits', 'made'), ('made', 'under'), ('under', 'my'), ('my', 'username'), ('username', 'Hardcore'), ('Hardcore', 'Metallica')]\n",
      "talk page; Thank you.; NIGGER NIGGER; talk page.; PIG PIG; JEW FAT;\n",
      "FAT JEW; LOL LOL; speedy deletion; four tildes; Bark Bark; would like;\n",
      "speedy deletion,; fair use; WANKER WANKER; fish fish; five pillars;\n",
      "talk page,; tildes (~~~~);; BALLS BALLS\n"
     ]
    }
   ],
   "source": [
    "from nltk import bigrams\n",
    "\n",
    "# Ejemplo de bigramas en el primer comentario\n",
    "tokens_ej = tokens1[:10]\n",
    "print(list(bigrams(tokens_ej)))\n",
    "\n",
    "# Collocations en el corpus completo\n",
    "text_nltk.collocations()"
   ]
  },
  {
   "cell_type": "code",
   "execution_count": 83,
   "id": "405708a7",
   "metadata": {},
   "outputs": [
    {
     "name": "stdout",
     "output_type": "stream",
     "text": [
      "[(3, 1996396), (4, 1813981), (2, 1754160), (5, 1137058), (6, 863858), (7, 819354), (8, 601516), (1, 588287), (9, 424726), (10, 291447)]\n",
      "Longitud más común: 3 (1996396 tokens)\n",
      "Proporción de longitud 3: 0.1860\n"
     ]
    }
   ],
   "source": [
    "# Crear FreqDist de las longitudes de los tokens\n",
    "fd_len = FreqDist(len(w) for w in todos_tokens)\n",
    "\n",
    "# Los 10 tamaños de palabra más comunes\n",
    "print(fd_len.most_common(10))\n",
    "\n",
    "# Tamaño de palabra más frecuente y su frecuencia\n",
    "max_len = fd_len.max()\n",
    "print(f\"Longitud más común: {max_len} ({fd_len[max_len]} tokens)\")\n",
    "print(f\"Proporción de longitud {max_len}: {fd_len.freq(max_len):.4f}\")"
   ]
  },
  {
   "cell_type": "code",
   "execution_count": 84,
   "id": "644db62d",
   "metadata": {},
   "outputs": [
    {
     "name": "stdout",
     "output_type": "stream",
     "text": [
      "Tokens con longitud < 4: ['Why', 'the', 'my', 'Fan', 'on', 'GAs', 'I', 'at', 'New', 'And', 'the', 'the', \"I'm\"]\n",
      "Tokens con longitud == 4: ['made', 'were', 'They', 'just', 'some', 'York', 'FAC.', 'from', 'talk', 'page']\n",
      "Tokens con longitud != 4 (primeros 10): ['Explanation', 'Why', 'the', 'edits', 'under', 'my', 'username', 'Hardcore', 'Metallica', 'Fan']\n"
     ]
    }
   ],
   "source": [
    "# Seleccionar tokens cortos (menos de 4 caracteres) en un comentario de ejemplo\n",
    "tokens_short = [w for w in tokens1 if len(w) < 4]\n",
    "print(f\"Tokens con longitud < 4: {tokens_short}\")\n",
    "\n",
    "# Seleccionar tokens con longitud exactamente 4\n",
    "tokens_eq4 = [w for w in tokens1 if len(w) == 4]\n",
    "print(f\"Tokens con longitud == 4: {tokens_eq4}\")\n",
    "\n",
    "# Seleccionar tokens con longitud distinta de 4\n",
    "tokens_not4 = [w for w in tokens1 if len(w) != 4]\n",
    "print(f\"Tokens con longitud != 4 (primeros 10): {tokens_not4[:10]}\")"
   ]
  },
  {
   "cell_type": "code",
   "execution_count": 85,
   "id": "31777b3d",
   "metadata": {},
   "outputs": [
    {
     "name": "stdout",
     "output_type": "stream",
     "text": [
      "Tokens con titulo (istitle), ejemplos: ['Norway.', '\"\"Destiny', 'Portal-Class,', 'Lavoie', 'Ostrogski', 'Laçka', 'Synth.', 'Berlet', 'Deffinatly', 'Zsolt', \"O'Sullivan\", 'Endorsements', '\"\"Extracurriculur\"\"', 'Watcher,', 'Ink,', 'Voynich', 'Cyzygy', 'Kolisevski.', 'Sunderland', 'Rumsfeld']\n",
      "Tokens numéricos: ['2407', '1259', '322', '1815', '1476', '1979', '161', '71224', '1718', '100013400624', '1930', '217', '1885', '707', '531', '1955', '1215', '00164', '5700', '27', '1620', '03235', '26810', '5000', '282', '753', '8175361840', '2409', '118', '846', '619', '1300', '1052', '2492', '15619190', '2929', '2773', '276', '117', '1873', '80386', '7073189467', '377', '1931', '127', '04980', '0011', '1563', '85635', '93550', '247246', '3200', '461', '90210', '633', '360', '1402', '725', '1804', '4320', '1000000000', '14', '104', '3750', '1640', '1865', '86000', '1713', '452672700', '791', '1874', '292370091', '24079683', '292265970', '2360', '0932', '1841', '1911', '1450', '800', '232407407', '1143', '231', '03230', '464', '383', '13', '1900', '2900', '06', '1982', '1750', '309', '497', '714', '374', '1793', '143', '00587', '71615', '9711051020', '257', '1648', '1007', '278', '326', '0000', '1005', '5001', '573', '1592', '194', '1453', '5356', '9781855328259', '353', '14617', '665330', '4215', '1707', '969', '0910311927', '10250', '0014', '229', '1872', '123456', '1786', '12951', '4223523', '177', '1858', '12345', '2013', '1078', '10', '849', '8', '98141866', '1248', '9995', '4200', '10000', '942', '03275', '6500', '1981', '365', '65', '65000', '0', '1036', '85', '2046', '20000', '1325', '2005', '781', '1333', '71', '640', '270', '60637', '595', '315', '1124', '00', '419', '0001', '02139', '1995', '0791083071', '292369952', '1195', '963', '907', '313', '928', '777', '1962', '101', '6', '511', '87301', '292', '333', '155', '1565927249', '1014', '1715', '1974', '1795', '41', '1980', '9849219269', '895', '1067', '1922', '3400', '95404', '40', '544', '1742', '3300', '0877277230', '301', '3', '292369674', '3102', '347', '163', '07791', '510', '3641', '468', '5569', '246', '1217', '976', '831', '586', '280', '1805', '1364', '422', '1806', '2060', '106', '259', '1247', '90231', '2001', '515', '1749', '2257', '992', '521', '20889076', '120', '713', '754', '287', '1660', '580143711', '1510', '7434', '6400', '1616', '1530', '1111111111111111111111', '006', '03220', '2277', '0753827085', '1348', '625', '1003', '1947', '9014', '200', '1936', '5088', '183', '1314', '763', '233', '280713', '1178', '178', '1539', '819', '1811', '79', '2048', '1026', '557', '38', '518', '1757', '1883', '90943', '1978', '5115', '1202', '4872', '203', '324', '86', '500000', '81471881', '5275190003794910', '130', '346', '31', '1421', '653', '319', '1832', '1745', '1987', '545397483979123', '223', '4500', '0714631205', '1926', '909090909', '255³', '150', '680', '1630', '75230', '1000', '320', '734', '10400', '251', '679', '1867', '1891', '141', '1050', '1819', '1441', '1368', '1700', '1758', '3547', '112', '304', '51024', '1863', '1350', '1593', '405', '264', '81', '1037', '17', '1812', '409', '62249897', '4950', '007', '424', '1577', '10946496', '737', '991', '250', '16467739974', '335', '1986', '162', '1896', '1903', '986', '52278', '498', '413', '5100', '50', '577', '1179', '1994', '201', '1146', '252', '1650', '16051', '148797275', '186', '1787', '475', '1297', '1977', '16777216', '110', '261', '539322', '3900', '166', '71700', '628', '1741', '03215', '6522', '454530404', '225', '292266526', '622', '4600', '997', '3216', '810', '1310', '847', '2700', '1243', '1905', '1126', '1862', '609', '1829', '6521', '1000000', '388', '1265', '22', '30501', '1878', '010001', '00098', '339', '1422', '483', '292265427', '2084', '361', '9575', '2300', '1844', '1500', '167', '124', '1993', '1262', '782', '1966', '1168', '72', '403', '517', '74000', '22007', '75019', '1939', '1909', '431', '26', '000000', '1226', '140', '0918', '77063', '80486', '3000', '0612', '244', '539', '12000', '1973', '883', '2135', '1907', '188', '214', '495', '10062', '298', '108', '70173', '62', '00402', '0521270642', '1596', '816', '1781', '765658', '494', '1198', '4426441026950281', '131', '1077', '1916', '1634', '1021', '447', '1601', '292370021', '106000', '1647', '939', '1928', '1653', '1824', '310', '423', '1759', '1821', '1831', '09', '5334252', '1876', '525', '1864', '1494', '1799', '55', '52', '3103', '1028', '100013392850', '352', '1989', '1603', '272', '1798', '488', '704', '7800', '6787173', '502', '1481', '1826', '1963', '414', '5191', '0192151940', '1210', '1400', '1902', '1985', '122', '0415289556', '00175', '715', '16304', '71583', '1774', '1942', '212', '2272', '100013397755', '1967', '1908', '674', '397', '2955', '19000', '71910', '1729', '1241', '1492', '00038', '3450', '990', '426', '900', '1555', '1517', '20', '237', '5775', '1595', '6000', '8508', '2241', '228', '882', '21870056', '1991', '566', '008', '00579', '93', '1935071858', '1945', '2658766', '1944', '1725', '100000000000000000000000000000', '2035', '3048', '1800', '1881', '1859', '00000000', '1599', '256', '1683', '35', '1950', '2505', '1355', '2017', '੭', '232', '1638', '76', '1541', '1843', '1929', '75376', '752102', '10017', '189', '97325293', '2100', '114', '1770', '40000', '168443', '437', '9367079048', '415', '450', '210200555', '1287678', '13462', '4294967297', '1281', '1061', '459', '18037011', '7750', '632', '1278', '173', '1015', '90025', '248', '1817', '8416', '576', '1111111111111111111111111111111111111111111111111111111111111111111111111111111111111111111111111111111111111111111111111111111111111111111111111111111111111111111111111111111111111111111111111111111111111111111111111111111111111111111111111111111111111111111111111111111111111111111111111111111111111111111111111111111111111111111111111111111111111111111111111111111111111111111111111111111111111111111111111111111111111111111111111111111111111111111111111111111111111111111111111111111111111111111111111111111111111111111111111111111111111111111111111111111111111111111111111111111111111111111111111111111111111111111111111111111111111111111111111111111111111111111111111111111111111111111111111111111111111111111111111111111111111111111111111111111111111111111111111111111111111111111111111111111111111111111111111111111111111111111111111111111111111111111111111111111111111111111111111111111111111111111111111111111111111111111111111111111111111111111111111111111111111111111111111111111111111111111111111111111111111111111111111111111111111111111111111111111111111111111111111111111111111111111111111111111111111111111111111111111111111111111111111111111111111111111111111111111111111111111111111111111111111111111111111111111111111111111111111111111111111111111111111111111111111111111111111111111111111111111111111111111111111111111111111111111111111111111111111111111111111111111111111111111111111111', '296', '058162', '3436', '46323', '1983', '1959', '216', '1694', '60000', '156', '812', '75', '9001', '852', '1309', '7500', '18066', '105', '941', '1360', '291', '864', '1625', '172', '230000000', '1894', '2009051010000428', '89084', '28583123', '2600', '00035', '290', '614', '326087077', '1952', '1663', '45', '758', '425', '371', '1943', '538', '901', '1847', '1695', '100013198462', '79082', '144', '4241', '1875', '121', '5042', '8076', '3868', '74', '1488', '33333333333333333333333333333333333333333333333333333333333333333333333333333', '671', '1953', '888', '1833', '655', '202', '34', '0422', '65335', '1890', '1457', '1580', '80', '841', '5200', '645530', '432', '398', '410', '1618', '999', '1768', '6070', '312', '940', '2842', '133', '6538', '749', '362', '000', '1777', '24240', '2020', '1839', '18344', '1534', '71721', '647', '129', '73', '56767', '1566471001', '60', '3627', '767', '115', '1157', '1948', '1389', '254', '126', '1997', '947', '1446', '829', '253', '37', '3768', '1816', '71506', '1138', '3960', '292369868', '1927', '94662', '187312465', '87', '342', '58', '1879', '1313', '30008115', '07981', '399', '1796', '2021', '11000', '532', '1870', '12', '1760', '20020906', '91', '533', '13339', '1169', '4131', '2000', '100000000000000000', '442', '1932', '1860', '1261', '003', '218', '650', '751', '2011', '553', '2654431', '2112', '670', '1652', '407', '980', '1546', '311', '675004524', '20095', '094', '200000', '2009022410051826', '72293', '1780', '7408', '89', '16359', '00923236916674', '13913332', '1626', '1644', '21045', '1888', '582', '131428', '234980834', '15000', '176', '1501', '3848', '100012987475', '230', '3610', '10096', '2022', '1733', '2226', '100000', '134', '53', '359', '0718', '562', '1671', '55087', '645', '1588', '1566311', '400', '350', '2192014408', '851', '1578', '681', '1011', '306', '1525', '180', '607', '1502', '1827', '1992', '33', '1814', '1808', '97233', '62276815', '234', '2006', '90265', '38909607', '375', '45215', '1861', '817', '54', '184', '1543', '1836', '010', '0101', '6403', '5170', '157', '68', '6526', '72010', '5332480249395064', '211', '1076', '32', '581', '1230', '71141', '730', '9780674006621', '44', '4265', '165', '5298', '139', '797', '1224', '538693', '151', '1765', '145', '17361755', '3500', '243', '369', '1128', '00229', '71373', '138', '10927899', '1960', '0582493242', '71096', '196', '1322', '263', '8472', '2230', '585', '1779', '01729', '1970', '4000', '236', '3234434', '504', '844', '273', '29000', '1174', '790', '1520', '71464', '61', '3331', '193', '878660', '1957', '171', '7070', '1581', '401', '84', '1849', '1356', '2500', '616', '293', '271', '07', '8555743092', '626', '002', '01384402728', '506', '651', '1869', '1837', '75207', '27000', '260', '220', '5', '1190', '1664', '1999', '1712', '111', '22631', '0415', '1025', '016', '90', '385', '467', '0200', '1924', '25000', '620', '204', '005', '21', '88', '5800', '266', '08', '1286', '617', '995', '21063', '2014', '874', '1415', '1868', '6289', '1646', '328', '921', '1801', '555', '826', '5462', '1118', '880', '813', '559', '1958', '833', '1117', '699', '12584780', '440', '3410', '5600', '5466160127371548', '00151', '1899', '15928', '1632', '747', '71257', '135', '00107', '239', '505', '4388576076497737', '¹', '175', '850', '624', '1907647', '787', '1562', '1838', '1166', '100012570199', '1785', '750', '19273', '507', '685', '1751', '66', '6831', '1797', '1477', '412', '1893', '693', '110629', '71029', '1641', '472', '277', '911', '489', '19067', '16000', '944', '5771', '1940', '909', '930', '0416', '570', '1139', '1851', '2004', '454', '1', '1766', '3637', '5002', '0823088308', '321', '455', '8800', '00037', '1735', '804', '78350', '1604', '5555', '1106', '0650', '149', '2707', '100000000', '56', '1887', '142', '15', '249', '3401537770', '1846', '12955759', '9525', '8032', '2', '20798285', '8080', '4187', '390', '444', '330', '2054', '1723', '1961', '1424', '429', '164', '1910', '090', '1119', '11', '1807', '00923147007006', '99800', '1610', '179', '8286186901', '1897', '226', '8275', '4563230007871035', '92', '2705', '481', '717', '501', '1880', '5888', '411', '1845', '242', '03240', '512', '147', '710', '1834', '2661', '1732', '945', '1794', '1181', '3220', '1330', '1968', '240', '574', '384', '5901724216', '72087', '1010', '01711', '1200', '98', '768', '380', '78', '393', '1954', '00075', '137', '39465', '327', '540', '1001', '1941', '1387', '567', '1803', '9999', '11572', '008000', '982', '2800', '1791', '1822', '136', '345', '262', '100', '0658', '6211360', '912', '5070', '902', '94105', '1320', '2844', '642742', '775', '1705', '238280020', '284', '708', '1688', '1323', '1378', '683', '1990', '445', '10032', '17500', '292370239', '3366', '1975', '46', '802', '534', '933', '820', '860', '389', '77429', '058133', '996', '2211', '3527', '274177', '1513', '1938', '1133', '1542', '1051', '748', '1914', '0440567351', '985', '1568', '1191', '10220', '1998', '351', '285', '20004', '7110', '149776', '2178', '500', '5751', '1728', '00033', '24601', '215', '1855', '1852', '8601', '732', '721', '109', '200815', '1337', '1456', '11253353', '2559', '269', '910', '42270', '107', '2400', '2316', '666', '011', '1996', '875', '1949', '1747', '1923', '927', '870', '333193923', '932', '299', '00122', '132', '1736', '1125', '638', '6025', '03', '274', '1048', '744', '1034', '2549', '222', '935', '1072', '1915', '30000', '256247715', '1921', '1988', '02', '4420', '1584', '908', '7300', '9300', '0766', '1649', '148', '452', '21445725', '0110', '1042', '1892', '430', '221', '727', '51', '1857', '292320956', '05', '336', '70', '94', '621', '1112', '718', '613', '1913', '1918', '5300', '1830', '453', '742538', '307', '1285', '10628', '1062', '³', '2200', '1956', '230001', '2512', '1091', '722', '2188315593', '205', '1080', '110213', '59', '0966662415', '950', '1587', '093', '04242', '1532', '1113', '1280', '7134', '7990', '55317', '1100', '630', '02088982252', '1792', '245', '182', '341', '745', '16', '706', '4077', '1326', '123', '1486', '255', '524', '9000', '1842', '543', '13861', '1485', '63751', '343', '490', '1248277865155', '578', '80286', '1497', '1189', '0914', '295', '2186223820', '164568', '700', '900031963598', '370', '10212', '213', '0415969107', '729', '99', '9', '1600', '199', '387', '2010032110008071', '283', '1771', '1642', '1365', '355', '1776', '452001', '195', '99999', '5020', '731', '842', '50000', '846003', '1498', '197', '6786304350', '77', '2018', '1060', '823', '1002', '9036406239', '1558', '1175', '8559532716', '82', '4', '247', '28', '7131', '6611', '1666', '47', '190', '94709', '675006605', '528', '10000000', '14000', '1471', '57', '1976', '0111', '71176', '639', '2061', '1912', '361800511', '5584', '1935', '0853', '644', '170', '9036410089', '1762', '97', '1767', '1763', '1041', '2050', '265', '0413', '1066', '2728444', '2012', '0060882417', '159', '575', '29441622', '10120', '292369754', '2010', '2056', '1558604790', '9336', '2030', '286', '13909', '1884', '808', '49', '004', '11566102', '69', '771', '946', '75014', '386', '1279', '026', '63', '219', '235', '648', '806', '323', '1853', '18000', '24', '1605', '1554', '119', '530', '836', '1755', '7000', '146', '30', '1559', '548', '187', '1536', '678', '661', '185', '900008106810', '711', '724', '485', '520', '209', '1934', '1150', '1565', '10018', '1802', '0738202711', '42', '1711', '9800', '2220', '1635', '610', '64', '8621', '1871', '636', '1848', '435', '408', '395', '7272', '695', '491', '1866', '420', '1691', '1965', '14609', '1423', '26328', '960', '1170', '1809', '90017', '1030', '1098', '009', '537', '7100', '2008', '160', '68146', '0127', '10681', '1854', '1606', '1621', '0382299275', '1901', '368', '1920', '6900', '1825', '3800', '1511', '23', '1823', '1551', '83', '00966568817680', '4096', '1790', '96', '2233', '1597', '71514', '1561', '1919', '103', '1633', '102', '905', '5774', '956', '72362', '191', '3545', '91207', '2845', '1856', '513', '356', '1328', '1925', '158', '457', '3330', '6483', '25', '872', '1840', '486', '1699', '1219', '48911', '2805', '1818', '1850', '1937', '642', '2170', '302', '858', '71804', '382', '2009', '337', '720', '1906', '09733', '72233', '1710', '8025', '001', '19', '325', '604', '039', '1020', '263111948', '1969', '1234', '1515', '0100', '021', '154', '1917', '198', '603', '1722', '1527', '9115463', '45000', '840', '8556304628', '1789', '466', '416', '1079', '1440', '462', '929', '292272282', '0015', '1270', '1898', '434', '965', '152', '1612', '317', '267', '4372', '2007', '4192292559', '1244', '1820', '757', '36', '113', '1951', '03210', '314', '00409', '9780781732819', '1141', '865', '1971', '522983808', '340', '91093', '01', '210', '972', '207', '1772', '742', '1163', '04', '2047', '1984', '13000', '1185', '591', '13500', '43', '1744', '1084', '5127', '224', '331', '568', '308', '1828', '181', '623', '1685', '18', '1746', '357', '1540', '21217438', '35044', '1739', '1369', '276393245', '1661', '3181', '100013393337', '67', '1567', '174', '95', '1144', '843', '728', '518034284', '1436', '168', '3130', '951', '2016', '5334332', '00184', '660', '1623', '275', '2015', '2086', '879', '598', '153', '192', '1043', '1334', '29', '518110', '634', '34368411', '556', '100013404120', '1946', '1877', '5599', '71209', '428', '0120487500', '241', '9781622920020', '027', '396', '1639', '1889', '11070630', '1719', '125', '1040', '0010', '0060544309', '00325', '5489', '03225', '8555743091', '780', '1734', '1193', '3266', '983', '1964', '9727453405', '289', '305', '71049', '227', '2002', '303', '16185', '6048', '7', '1495', '358', '687686537', '2419', '1686', '294', '600', '100013390286', '523', '1024', '550', '4437', '818', '012', '1046', '3072', '6829', '1904', '85605', '522', '1548', '71406', '484', '318', '1972', '48', '1886', '2569', '1216', '673', '316', '1882', '8000', '00595', '8086', '61400', '1933', '271828182', '439', '300', '1581824602', '238', '128', '8727', '1479', '667', '1773', '404', '116', '1689', '726', '4266841268957642', '279', '1579', '4242', '1895', '550678046', '890', '845', '0873488245', '448', '090505', '1468', '89024', '2003', '1810', '39', '1006', '51389', '1053', '1204', '71641', '588', '527']\n",
      "Número de tokens alfabéticos: 160797\n"
     ]
    }
   ],
   "source": [
    "# Tokens que empiezan con mayúscula (istitle)\n",
    "tokens_title = [w for w in set(todos_tokens) if w.istitle()]\n",
    "print(f\"Tokens con titulo (istitle), ejemplos: {tokens_title[:20]}\")\n",
    "\n",
    "# Tokens que contienen dígitos (isdigit o any)\n",
    "tokens_digits = [w for w in set(todos_tokens) if w.isdigit()]\n",
    "print(f\"Tokens numéricos: {tokens_digits}\")\n",
    "\n",
    "# Tokens alfanuméricos (isalpha)\n",
    "tokens_alpha = [w for w in set(todos_tokens) if w.isalpha()]\n",
    "print(f\"Número de tokens alfabéticos: {len(tokens_alpha)}\")"
   ]
  },
  {
   "cell_type": "code",
   "execution_count": null,
   "id": "f57c4293",
   "metadata": {},
   "outputs": [
    {
     "name": "stdout",
     "output_type": "stream",
     "text": [
      "Tokens que contienen 'nigger' (case-insensitive): 3532\n",
      "trying removing talking formatting tidying formatting intending anything requesting breeding uploading being using checking clicking selecting lacking uploading adding licensing \n"
     ]
    }
   ],
   "source": [
    "# Contar y listar tokens que contienen la subcadena 'nigger'\n",
    "count_sub = 0\n",
    "for w in todos_tokens:\n",
    "    if 'nigger' in w.lower():\n",
    "        count_sub += 1\n",
    "print(f\"Tokens que contienen 'nigger' (case-insensitive): {count_sub}\")\n",
    "\n",
    "# Imprimir tokens que terminen en 'ing' (primeros 20)\n",
    "printed = 0\n",
    "for w in todos_tokens:\n",
    "    if w.lower().endswith('ing'):\n",
    "        print(w, end=' ')\n",
    "        printed += 1\n",
    "        if printed >= 20:\n",
    "            break\n",
    "print()"
   ]
  },
  {
   "cell_type": "code",
   "execution_count": 87,
   "id": "26fc3084",
   "metadata": {},
   "outputs": [
    {
     "name": "stdout",
     "output_type": "stream",
     "text": [
      "Dolls es un token alfabético\n",
      "I'm es mixto o contiene puntuación\n",
      "after es un token alfabético\n",
      "from es un token alfabético\n",
      "now.89.205.38.27 es mixto o contiene puntuación\n",
      "Why es un token alfabético\n",
      "the es un token alfabético\n",
      "made es un token alfabético\n",
      "weren't es mixto o contiene puntuación\n",
      "were es un token alfabético\n",
      "at es un token alfabético\n",
      "And es un token alfabético\n",
      "reverted? es mixto o contiene puntuación\n",
      "GAs es un token alfabético\n",
      "edits es un token alfabético\n",
      "page es un token alfabético\n",
      "template es un token alfabético\n",
      "my es un token alfabético\n",
      "username es un token alfabético\n",
      "on es un token alfabético\n",
      "retired es un token alfabético\n",
      "talk es un token alfabético\n",
      "please es un token alfabético\n",
      "York es un token alfabético\n",
      "Metallica es un token alfabético\n",
      "vandalisms, es mixto o contiene puntuación\n",
      "I es un token alfabético\n",
      "They es un token alfabético\n",
      "since es un token alfabético\n",
      "FAC. es mixto o contiene puntuación\n",
      "Fan es un token alfabético\n",
      "closure es un token alfabético\n",
      "New es un token alfabético\n",
      "Explanation es un token alfabético\n",
      "just es un token alfabético\n",
      "remove es un token alfabético\n",
      "don't es mixto o contiene puntuación\n",
      "under es un token alfabético\n",
      "some es un token alfabético\n",
      "voted es un token alfabético\n",
      "Hardcore es un token alfabético\n"
     ]
    }
   ],
   "source": [
    "#Clasificar tokens según tipo: dígito, alfabético o mixto\n",
    "for w in set(tokens1):\n",
    "    if w.isdigit():\n",
    "        print(f\"{w} es un token numérico\")\n",
    "    elif w.isalpha():\n",
    "        print(f\"{w} es un token alfabético\")\n",
    "    else:\n",
    "        print(f\"{w} es mixto o contiene puntuación\")"
   ]
  }
 ],
 "metadata": {
  "kernelspec": {
   "display_name": "Python 3",
   "language": "python",
   "name": "python3"
  },
  "language_info": {
   "codemirror_mode": {
    "name": "ipython",
    "version": 3
   },
   "file_extension": ".py",
   "mimetype": "text/x-python",
   "name": "python",
   "nbconvert_exporter": "python",
   "pygments_lexer": "ipython3",
   "version": "3.11.9"
  }
 },
 "nbformat": 4,
 "nbformat_minor": 5
}
