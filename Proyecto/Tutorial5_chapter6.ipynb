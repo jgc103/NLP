{
 "cells": [
  {
   "cell_type": "code",
   "execution_count": 3,
   "id": "bf908d9f8bf8eeac",
   "metadata": {},
   "outputs": [
    {
     "name": "stdout",
     "output_type": "stream",
     "text": [
      "Archivos en el corpus: ['identity_hate.txt', 'insult.txt', 'obscene.txt', 'severe_toxic.txt', 'threat.txt', 'toxic.txt']\n"
     ]
    }
   ],
   "source": [
    "import nltk\n",
    "from nltk import *\n",
    "from nltk.corpus import *\n",
    "# Asumiendo que el corpus ya está preparado en 'corpus_by_label'\n",
    "corpus = PlaintextCorpusReader('corpus_by_label', '.*\\.txt')\n",
    "fileids = corpus.fileids()\n",
    "print(\"Archivos en el corpus:\", fileids)"
   ]
  },
  {
   "cell_type": "code",
   "execution_count": 5,
   "id": "1fffee794076085b",
   "metadata": {},
   "outputs": [],
   "source": [
    "suffix_fdist = nltk.FreqDist()\n",
    "book_words = corpus.words('insult.txt')\n",
    "for word in book_words:\n",
    "    word = word.lower()\n",
    "    suffix_fdist[word[-1:]] += 1\n",
    "    suffix_fdist[word[-2:]] += 1\n",
    "    suffix_fdist[word[-3:]] += 1"
   ]
  },
  {
   "cell_type": "code",
   "execution_count": 6,
   "metadata": {},
   "outputs": [
    {
     "name": "stdout",
     "output_type": "stream",
     "text": [
      "['.', 'e', 't', 's', 'a', ',', 'i', 'u', 'd', \"'\", 'n', '!', 'ou', 'you', 'r', 'k', 'y', 'o', 'is', 'ck', 'g', 'to', 'ng', 'er', 're', 'ing', 'f', 'uck', 'he', '-', 'of', 'l', 'on', 'it', 'at', 'nd', 'h', 'the', '?', 'and', 'in', 'an', 'me', 'm', 'ed', 'my', 'll', '\"', 'ur', 'our', 'ot', 'go', 'hat', 'es', 'are', 'w', 've', 'nt', 'or', 'le', 'as', 'st', 'ss', 'do', '\"\"', 'p', 'te', 'se', '!!', 'en', ':', 'ly', 'ts', 'ch', 'ut', 'so', 'be', 'ad', 'his', 'ger', 'ow', 'hi', 'ke', '/', 'ce', 'th', '(', 'ass', 'ge', 'ay', 'if', 'ks', 'id', 'et', 'up', 'all', 'ave', ')', 'got', 'no']\n"
     ]
    }
   ],
   "source": [
    "common_suffixes = [suffix for (suffix, count) in suffix_fdist.most_common(100)]\n",
    "print(common_suffixes)"
   ]
  },
  {
   "cell_type": "code",
   "execution_count": 7,
   "metadata": {},
   "outputs": [],
   "source": [
    "def pos_features(word):\n",
    "    features = {}\n",
    "    for suffix in common_suffixes:\n",
    "        features['endswith({})'.format(suffix)] = word.lower().endswith(suffix)\n",
    "    return features"
   ]
  },
  {
   "cell_type": "code",
   "execution_count": null,
   "metadata": {},
   "outputs": [
    {
     "ename": "AttributeError",
     "evalue": "'StreamBackedCorpusView' object has no attribute 'tagged_words'",
     "output_type": "error",
     "traceback": [
      "\u001b[1;31m---------------------------------------------------------------------------\u001b[0m",
      "\u001b[1;31mAttributeError\u001b[0m                            Traceback (most recent call last)",
      "Cell \u001b[1;32mIn[9], line 1\u001b[0m\n\u001b[1;32m----> 1\u001b[0m tagged_words \u001b[38;5;241m=\u001b[39m \u001b[43mcorpus\u001b[49m\u001b[38;5;241;43m.\u001b[39;49m\u001b[43mwords\u001b[49m\u001b[43m(\u001b[49m\u001b[38;5;124;43m'\u001b[39;49m\u001b[38;5;124;43minsult.txt\u001b[39;49m\u001b[38;5;124;43m'\u001b[39;49m\u001b[43m)\u001b[49m\u001b[38;5;241;43m.\u001b[39;49m\u001b[43mtagged_words\u001b[49m()\n\u001b[0;32m      2\u001b[0m featuresets \u001b[38;5;241m=\u001b[39m [(pos_features(n), g) \u001b[38;5;28;01mfor\u001b[39;00m (n,g) \u001b[38;5;129;01min\u001b[39;00m tagged_words]\n",
      "\u001b[1;31mAttributeError\u001b[0m: 'StreamBackedCorpusView' object has no attribute 'tagged_words'"
     ]
    }
   ],
   "source": [
    "\n",
    "featuresets = [(pos_features(n), g) for (n,g) in tagged_words]"
   ]
  }
 ],
 "metadata": {
  "kernelspec": {
   "display_name": "Python 3",
   "language": "python",
   "name": "python3"
  },
  "language_info": {
   "codemirror_mode": {
    "name": "ipython",
    "version": 3
   },
   "file_extension": ".py",
   "mimetype": "text/x-python",
   "name": "python",
   "nbconvert_exporter": "python",
   "pygments_lexer": "ipython3",
   "version": "3.11.9"
  }
 },
 "nbformat": 4,
 "nbformat_minor": 5
}
